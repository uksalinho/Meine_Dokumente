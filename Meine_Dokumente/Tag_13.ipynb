{
 "cells": [
  {
   "cell_type": "markdown",
   "metadata": {},
   "source": [
    "Loops and Functions"
   ]
  },
  {
   "cell_type": "markdown",
   "metadata": {},
   "source": [
    "Calling a Funktion\n",
    "z.B. multiply(2,5) => ac-kapa parantezden bir fonksiyon oldugu anlasilir. bir ismi olur ve argumanlari/parametreleri olur"
   ]
  },
  {
   "cell_type": "code",
   "execution_count": null,
   "metadata": {},
   "outputs": [],
   "source": [
    "a = 2\n",
    "b = 3\n",
    "multiply(2,3)  # is not defined\n",
    "multiply(a,b)  # tanimli olmadigi icin bir anlami yok \n",
    "multiply(4,6)"
   ]
  },
  {
   "cell_type": "code",
   "execution_count": 10,
   "metadata": {},
   "outputs": [
    {
     "name": "stdout",
     "output_type": "stream",
     "text": [
      "6\n",
      "6\n",
      "24\n"
     ]
    }
   ],
   "source": [
    "a = 2\n",
    "b = 3\n",
    "# definition function\n",
    "def multiply(a,b):\n",
    "    print(a*b)    \n",
    "    \n",
    "multiply(2,3)  #yukarda tanimlandi\n",
    "multiply(a,b)\n",
    "multiply(4,6)"
   ]
  },
  {
   "cell_type": "markdown",
   "metadata": {},
   "source": [
    "Built-in Functions -- Yerlesik halde gelen fonksiyonlardir(Kütüphane yüklemeye gerek kalmaksizin kullanilir), 3.8 de 69 tanedir"
   ]
  },
  {
   "cell_type": "code",
   "execution_count": 13,
   "metadata": {},
   "outputs": [
    {
     "name": "stdout",
     "output_type": "stream",
     "text": [
      "Onlu\tİkili\tSekizli\tOnaltılı\n",
      "0 \t 0 \t 0 \t 0\n",
      "1 \t 1 \t 1 \t 1\n",
      "2 \t 10 \t 2 \t 2\n",
      "3 \t 11 \t 3 \t 3\n",
      "4 \t 100 \t 4 \t 4\n",
      "5 \t 101 \t 5 \t 5\n",
      "6 \t 110 \t 6 \t 6\n",
      "7 \t 111 \t 7 \t 7\n",
      "8 \t 1000 \t 10 \t 8\n",
      "9 \t 1001 \t 11 \t 9\n",
      "10 \t 1010 \t 12 \t a\n",
      "11 \t 1011 \t 13 \t b\n",
      "12 \t 1100 \t 14 \t c\n",
      "13 \t 1101 \t 15 \t d\n",
      "14 \t 1110 \t 16 \t e\n",
      "15 \t 1111 \t 17 \t f\n"
     ]
    }
   ],
   "source": [
    "# 0-15 arasındaki sayıların binary-octal-hexadecimal karşılıklarını veren programı yazalım\n",
    "print(\"Onlu\\tİkili\\tSekizli\\tOnaltılı\")\n",
    "for i in range(16):\n",
    "    print(i,\"\\t\",bin(i)[2:], \"\\t\", oct(i)[2:], \"\\t\", hex(i)[2:]) \n",
    "# bin ikili, oct sekizli, hex onaltili sayi sistemine dönüstüren fonksiyonlardir"
   ]
  },
  {
   "cell_type": "code",
   "execution_count": 15,
   "metadata": {},
   "outputs": [
    {
     "name": "stdout",
     "output_type": "stream",
     "text": [
      "True\n",
      "False\n",
      "True\n"
     ]
    }
   ],
   "source": [
    "names = [\"Susan\", \"Tom\", \"False\"]\n",
    "mood = [\"happy\", \"sad\", 0]  # 0 veya \"None\" False döndürecegi icin all deyince False döndürür\n",
    "empty = {}\n",
    "# all: iterable bir nesnesin tüm elemanlari True döndürüyorsa veya komple bos ise TRUE döndürür\n",
    "print(all(names), all(mood), all(empty), sep=\"\\n\")"
   ]
  },
  {
   "cell_type": "code",
   "execution_count": 17,
   "metadata": {},
   "outputs": [
    {
     "name": "stdout",
     "output_type": "stream",
     "text": [
      "True\n",
      "True\n",
      "True\n"
     ]
    }
   ],
   "source": [
    "names = [\"Susan\", \"Tom\", \"False\"]  # False \"\" icinde olmasa False dönerdi\n",
    "mood = [\"happy\", \"sad\", 4]  # 4 : True, digerleri de True old. icin True döndürür\n",
    "empty = {}\n",
    "\n",
    "print(all(names), all(mood), all(empty), sep=\"\\n\")"
   ]
  },
  {
   "cell_type": "code",
   "execution_count": 18,
   "metadata": {},
   "outputs": [
    {
     "ename": "TypeError",
     "evalue": "'int' object is not iterable",
     "output_type": "error",
     "traceback": [
      "\u001b[1;31m---------------------------------------------------------------------------\u001b[0m",
      "\u001b[1;31mTypeError\u001b[0m                                 Traceback (most recent call last)",
      "\u001b[1;32mc:\\Users\\uksal\\Desktop\\Meine_Dokumente\\Tag_13.ipynb Cell 9'\u001b[0m in \u001b[0;36m<cell line: 5>\u001b[1;34m()\u001b[0m\n\u001b[0;32m      <a href='vscode-notebook-cell:/c%3A/Users/uksal/Desktop/Meine_Dokumente/Tag_13.ipynb#ch0000052?line=1'>2</a>\u001b[0m mood \u001b[39m=\u001b[39m [\u001b[39m\"\u001b[39m\u001b[39mhappy\u001b[39m\u001b[39m\"\u001b[39m, \u001b[39m\"\u001b[39m\u001b[39msad\u001b[39m\u001b[39m\"\u001b[39m, \u001b[39m0\u001b[39m]  \u001b[39m##0 iterable değil\u001b[39;00m\n\u001b[0;32m      <a href='vscode-notebook-cell:/c%3A/Users/uksal/Desktop/Meine_Dokumente/Tag_13.ipynb#ch0000052?line=2'>3</a>\u001b[0m empty \u001b[39m=\u001b[39m \u001b[39m12345\u001b[39m  \u001b[39m##iterable değilse hata mesajı verir\u001b[39;00m\n\u001b[1;32m----> <a href='vscode-notebook-cell:/c%3A/Users/uksal/Desktop/Meine_Dokumente/Tag_13.ipynb#ch0000052?line=4'>5</a>\u001b[0m \u001b[39mprint\u001b[39m(\u001b[39mall\u001b[39m(names), \u001b[39mall\u001b[39m(mood), \u001b[39mall\u001b[39;49m(empty), sep\u001b[39m=\u001b[39m\u001b[39m\"\u001b[39m\u001b[39m\\n\u001b[39;00m\u001b[39m\"\u001b[39m)\n",
      "\u001b[1;31mTypeError\u001b[0m: 'int' object is not iterable"
     ]
    }
   ],
   "source": [
    "names = [\"Susan\", \"Tom\", None]  # False iterable degil\n",
    "mood = [\"happy\", \"sad\", 0]  # 0 iterable değil\n",
    "empty = 12345  # iterable değilse hata mesajı verir. \"\" icinde olsa hata vermez True döndürür\n",
    "\n",
    "print(all(names), all(mood), all(empty), sep=\"\\n\")"
   ]
  },
  {
   "cell_type": "code",
   "execution_count": 21,
   "metadata": {},
   "outputs": [
    {
     "name": "stdout",
     "output_type": "stream",
     "text": [
      "True\n",
      "False\n",
      "False\n"
     ]
    }
   ],
   "source": [
    "names = [\"Susan\", \"Tom\", False]\n",
    "mood = [None, (), 0]  \n",
    "empty = {}  \n",
    "# any: iterable bir nesnesin herhangi bir elemani True döndürüyorsa True döndürür veya hepsi bos ise False döndürür\n",
    "print(any(names), any(mood), any(empty), sep=\"\\n\")"
   ]
  },
  {
   "cell_type": "code",
   "execution_count": 22,
   "metadata": {},
   "outputs": [
    {
     "name": "stdout",
     "output_type": "stream",
     "text": [
      "True\n",
      "True\n",
      "False\n"
     ]
    }
   ],
   "source": [
    "names = [\"Susan\", \"Tom\", \"False\"]\n",
    "mood = [None, (3,), 0]  \n",
    "empty = {}  \n",
    "\n",
    "print(any(names), any(mood), any(empty), sep=\"\\n\")  ## or mantığı"
   ]
  },
  {
   "cell_type": "markdown",
   "metadata": {},
   "source": [
    "filter: Bir grup veriyi, bir fonk./kriter alip iterable degerler arasinda calistirir. True yada False deger döndürür.\n",
    "Eger fonk. None ise True sonuc veren degerleri alir"
   ]
  },
  {
   "cell_type": "code",
   "execution_count": 23,
   "metadata": {},
   "outputs": [
    {
     "name": "stdout",
     "output_type": "stream",
     "text": [
      "The filtered elements are: \n",
      "susan\n",
      "tom\n",
      "0\n"
     ]
    }
   ],
   "source": [
    "listA = [\"susan\", \"tom\", False, 0, \"0\"]\n",
    "filtered_list = filter(None, listA)  # None, False ifadeleri yok sayarak sadece True olan ifaderi döndürtür\n",
    "print(\"The filtered elements are: \") # None'i fonksiyon olarak gördü\n",
    "for i in filtered_list:\n",
    "    print(i)"
   ]
  },
  {
   "cell_type": "code",
   "execution_count": 24,
   "metadata": {},
   "outputs": [
    {
     "name": "stdout",
     "output_type": "stream",
     "text": [
      "The filtered elements are: \n"
     ]
    },
    {
     "ename": "TypeError",
     "evalue": "'bool' object is not callable",
     "output_type": "error",
     "traceback": [
      "\u001b[1;31m---------------------------------------------------------------------------\u001b[0m",
      "\u001b[1;31mTypeError\u001b[0m                                 Traceback (most recent call last)",
      "\u001b[1;32mc:\\Users\\uksal\\Desktop\\Meine_Dokumente\\Tag_13.ipynb Cell 14'\u001b[0m in \u001b[0;36m<cell line: 4>\u001b[1;34m()\u001b[0m\n\u001b[0;32m      <a href='vscode-notebook-cell:/c%3A/Users/uksal/Desktop/Meine_Dokumente/Tag_13.ipynb#ch0000058?line=1'>2</a>\u001b[0m filtered_list \u001b[39m=\u001b[39m \u001b[39mfilter\u001b[39m(\u001b[39mnot\u001b[39;00m \u001b[39mNone\u001b[39;00m, listA)  \u001b[39m##callable tipte nesne olacak (fonksiyon, class ismi)\u001b[39;00m\n\u001b[0;32m      <a href='vscode-notebook-cell:/c%3A/Users/uksal/Desktop/Meine_Dokumente/Tag_13.ipynb#ch0000058?line=2'>3</a>\u001b[0m \u001b[39mprint\u001b[39m(\u001b[39m\"\u001b[39m\u001b[39mThe filtered elements are: \u001b[39m\u001b[39m\"\u001b[39m)\n\u001b[1;32m----> <a href='vscode-notebook-cell:/c%3A/Users/uksal/Desktop/Meine_Dokumente/Tag_13.ipynb#ch0000058?line=3'>4</a>\u001b[0m \u001b[39mfor\u001b[39;00m i \u001b[39min\u001b[39;00m filtered_list:\n\u001b[0;32m      <a href='vscode-notebook-cell:/c%3A/Users/uksal/Desktop/Meine_Dokumente/Tag_13.ipynb#ch0000058?line=4'>5</a>\u001b[0m     \u001b[39mprint\u001b[39m(i)\n",
      "\u001b[1;31mTypeError\u001b[0m: 'bool' object is not callable"
     ]
    }
   ],
   "source": [
    "listA = [\"susan\", \"tom\", False, 0, \"0\"]\n",
    "filtered_list = filter(not None, listA)  # callable tipte nesne olacak (fonksiyon, class ismi gibi)\n",
    "print(\"The filtered elements are: \")     # not, False gibi boolen olan ifadeler olmaz\n",
    "for i in filtered_list:\n",
    "    print(i)"
   ]
  },
  {
   "cell_type": "code",
   "execution_count": 30,
   "metadata": {},
   "outputs": [
    {
     "name": "stdout",
     "output_type": "stream",
     "text": [
      "<class 'enumerate'>\n",
      "[(0, 'bread'), (1, 'water'), (2, 'olive')]\n",
      "{10: 'bread', 11: 'water', 12: 'olive'}\n"
     ]
    }
   ],
   "source": [
    "grocery = [\"bread\", \"water\", \"olive\"]\n",
    "enum_grocery = enumerate(grocery)  # enumerate numaralandirma yapar\n",
    "\n",
    "print(type(enum_grocery))\n",
    "print(list(enum_grocery))                     # varsayilan olarak 0 dan baslar\n",
    "enum_grocery2 = enumerate(grocery, start=10)  # 10 dan baslayarak numaralandirir\n",
    "print(dict(enum_grocery2))                    # dict formatinda"
   ]
  },
  {
   "cell_type": "code",
   "execution_count": 27,
   "metadata": {},
   "outputs": [
    {
     "name": "stdout",
     "output_type": "stream",
     "text": [
      "<class 'enumerate'>\n",
      "[(0, 'bread'), (1, 'water'), (2, 'olive')]\n",
      "{10: 'bread', 11: 'water', 12: 'olive'}\n"
     ]
    }
   ],
   "source": [
    "grocery = [\"bread\", \"water\", \"olive\"]\n",
    "enum_grocery = enumerate(grocery)\n",
    "\n",
    "print(type(enum_grocery))\n",
    "print(list(enum_grocery))\n",
    "enum_grocery2 = enumerate(grocery, start=10)\n",
    "print(dict(enum_grocery2))"
   ]
  },
  {
   "cell_type": "code",
   "execution_count": 31,
   "metadata": {},
   "outputs": [
    {
     "name": "stdout",
     "output_type": "stream",
     "text": [
      "21.5\n",
      "41.5\n"
     ]
    }
   ],
   "source": [
    "numbers = [2.5, 30, -15, 4]\n",
    "print(sum(numbers))\n",
    "numbers2 = sum(numbers,20)\n",
    "print(numbers2)"
   ]
  },
  {
   "cell_type": "code",
   "execution_count": 32,
   "metadata": {},
   "outputs": [
    {
     "name": "stdout",
     "output_type": "stream",
     "text": [
      "[1, 2, 3, 4, 5, 6, 7, 8, 9]\n",
      "Ortalaması..:  5.0\n"
     ]
    }
   ],
   "source": [
    "# 1 den 10 kadar sayıların ortalamasını sum() ile hesaplayalım\n",
    "sayi_list = list(range(1,10))\n",
    "print(sayi_list)\n",
    "print(\"Ortalaması..: \", sum(sayi_list)/len(sayi_list))"
   ]
  },
  {
   "cell_type": "code",
   "execution_count": 33,
   "metadata": {},
   "outputs": [
    {
     "name": "stdout",
     "output_type": "stream",
     "text": [
      "5.0\n"
     ]
    }
   ],
   "source": [
    "# Tanimlama yapiyorum => avg diya olusturdum ve sunu yapsin dedim\n",
    "def avg(liste):\n",
    "    return sum(sayi_list)/len(sayi_list)\n",
    "\n",
    "# Ana program\n",
    "sayi_list = list(range(1,10))\n",
    "print(avg(sayi_list))"
   ]
  },
  {
   "cell_type": "code",
   "execution_count": 34,
   "metadata": {},
   "outputs": [
    {
     "name": "stdout",
     "output_type": "stream",
     "text": [
      "12\n",
      "11\n",
      "3.67\n",
      "3.67\n",
      "68\n",
      "66\n"
     ]
    }
   ],
   "source": [
    "# math kütüphanesinde farkli yuvarlamalar da var\n",
    "print(round(12))\n",
    "print(round(10.8))\n",
    "print(round(3.665, 2))\n",
    "print(round(3.675, 2))\n",
    "print(round(67.5))\n",
    "print(round(66.5))"
   ]
  },
  {
   "cell_type": "code",
   "execution_count": 38,
   "metadata": {},
   "outputs": [
    {
     "name": "stdout",
     "output_type": "stream",
     "text": [
      "123456789\n",
      "123460\n",
      "123500\n",
      "123000\n",
      "124000\n",
      "124000\n"
     ]
    }
   ],
   "source": [
    "num = 123_456_789  # okunurlugu arttirmak icin _ kullanilabilir\n",
    "print(num)\n",
    "print(round(123_456,-1))  # en yakin 10luga yuvarlar\n",
    "print(round(123_456,-2))  # en yakin 100lüge yuvarlar\n",
    "print(round(123_456,-3))  # en yakin 1000lige yuvarlar\n",
    "print(round(123_556,-3))\n",
    "print(round(123_665,-3))\n"
   ]
  },
  {
   "cell_type": "code",
   "execution_count": 37,
   "metadata": {},
   "outputs": [
    {
     "name": "stdout",
     "output_type": "stream",
     "text": [
      "-1\n",
      "-2\n",
      "-2\n",
      "-1\n",
      "-3.67\n",
      "-3.67\n",
      "-4\n",
      "-4\n"
     ]
    }
   ],
   "source": [
    "print(round(-1.23))\n",
    "print(round(-1.53))\n",
    "print(round(-1.50))\n",
    "print(round(-1.499))\n",
    "print(round(-3.665, 2))\n",
    "print(round(-3.675, 2))\n",
    "print(round(-3.665))\n",
    "print(round(-3.675))"
   ]
  },
  {
   "cell_type": "code",
   "execution_count": 40,
   "metadata": {},
   "outputs": [
    {
     "name": "stdout",
     "output_type": "stream",
     "text": [
      "8\n",
      "8\n"
     ]
    }
   ],
   "source": [
    "# pow() üs alıyor\n",
    "print(2**3)\n",
    "print(pow(2,3))"
   ]
  },
  {
   "cell_type": "code",
   "execution_count": 43,
   "metadata": {},
   "outputs": [
    {
     "data": {
      "text/plain": [
       "2"
      ]
     },
     "execution_count": 43,
     "metadata": {},
     "output_type": "execute_result"
    }
   ],
   "source": [
    "# eval string ifade üzerinde islem yapar\n",
    "x = 1\n",
    "eval('x+1')"
   ]
  },
  {
   "cell_type": "code",
   "execution_count": 44,
   "metadata": {},
   "outputs": [
    {
     "data": {
      "text/plain": [
       "8"
      ]
     },
     "execution_count": 44,
     "metadata": {},
     "output_type": "execute_result"
    }
   ],
   "source": [
    "eval('pow(2,3)')"
   ]
  },
  {
   "cell_type": "code",
   "execution_count": 48,
   "metadata": {},
   "outputs": [
    {
     "ename": "ValueError",
     "evalue": "invalid literal for int() with base 10: 'a'",
     "output_type": "error",
     "traceback": [
      "\u001b[1;31m---------------------------------------------------------------------------\u001b[0m",
      "\u001b[1;31mValueError\u001b[0m                                Traceback (most recent call last)",
      "\u001b[1;32mc:\\Users\\uksal\\Desktop\\Meine_Dokumente\\Tag_13.ipynb Cell 26'\u001b[0m in \u001b[0;36m<cell line: 2>\u001b[1;34m()\u001b[0m\n\u001b[0;32m      <a href='vscode-notebook-cell:/c%3A/Users/uksal/Desktop/Meine_Dokumente/Tag_13.ipynb#ch0000070?line=0'>1</a>\u001b[0m a \u001b[39m=\u001b[39m \u001b[39mint\u001b[39m(\u001b[39minput\u001b[39m(\u001b[39m\"\u001b[39m\u001b[39mnumber1..: \u001b[39m\u001b[39m\"\u001b[39m))  \u001b[39m# 3 girdim \u001b[39;00m\n\u001b[1;32m----> <a href='vscode-notebook-cell:/c%3A/Users/uksal/Desktop/Meine_Dokumente/Tag_13.ipynb#ch0000070?line=1'>2</a>\u001b[0m b \u001b[39m=\u001b[39m \u001b[39mint\u001b[39;49m(\u001b[39minput\u001b[39;49m(\u001b[39m\"\u001b[39;49m\u001b[39mnumber2..: \u001b[39;49m\u001b[39m\"\u001b[39;49m))  \u001b[39m# a girdim\u001b[39;00m\n\u001b[0;32m      <a href='vscode-notebook-cell:/c%3A/Users/uksal/Desktop/Meine_Dokumente/Tag_13.ipynb#ch0000070?line=2'>3</a>\u001b[0m \u001b[39mprint\u001b[39m(a\u001b[39m+\u001b[39mb)\n",
      "\u001b[1;31mValueError\u001b[0m: invalid literal for int() with base 10: 'a'"
     ]
    }
   ],
   "source": [
    "a = int(input(\"number1..: \"))  # 3 girdim \n",
    "b = int(input(\"number2..: \"))  # a girdim\n",
    "print(a+b)"
   ]
  },
  {
   "cell_type": "code",
   "execution_count": 58,
   "metadata": {},
   "outputs": [
    {
     "name": "stdout",
     "output_type": "stream",
     "text": [
      "6\n"
     ]
    }
   ],
   "source": [
    "a = eval(input(\"number1..: \"))  # 3 girdim\n",
    "## b'ya a değerini atayabiliyoruz\n",
    "b = eval(input(\"number2..: \")) ## otomatik tipini algılıyor, a girdim\n",
    "print(a+b)"
   ]
  },
  {
   "cell_type": "code",
   "execution_count": 59,
   "metadata": {},
   "outputs": [
    {
     "name": "stdout",
     "output_type": "stream",
     "text": [
      "3a\n"
     ]
    }
   ],
   "source": [
    "a = input(\"number1..: \")\n",
    "\n",
    "b = input(\"number2..: \")\n",
    "print(eval('a+b'))  # '' icinde birlestirdi"
   ]
  },
  {
   "cell_type": "code",
   "execution_count": 61,
   "metadata": {},
   "outputs": [
    {
     "data": {
      "text/plain": [
       "[2, 4, 10, 50]"
      ]
     },
     "execution_count": 61,
     "metadata": {},
     "output_type": "execute_result"
    }
   ],
   "source": [
    "numbers = [1,2,3,4,10,9,45,50,7]\n",
    "def is_even(x):\n",
    "    return x % 2 == 0  # 0:False ayni sey demek\n",
    "\n",
    "list(filter(is_even, numbers))  # filter, True olanlari döndürdü"
   ]
  },
  {
   "cell_type": "code",
   "execution_count": 63,
   "metadata": {},
   "outputs": [
    {
     "data": {
      "text/plain": [
       "[1, 3, 9, 45, 7]"
      ]
     },
     "execution_count": 63,
     "metadata": {},
     "output_type": "execute_result"
    }
   ],
   "source": [
    "numbers = [1,2,3,4,10,9,45,50,7]\n",
    "def is_even(x):\n",
    "    return x % 2 == True # True mu. 2 ile bölümünden kalan kalan olursa(yani 0 olmazsa) True olur\n",
    "\n",
    "list(filter(is_even, numbers))"
   ]
  },
  {
   "cell_type": "code",
   "execution_count": 64,
   "metadata": {},
   "outputs": [
    {
     "name": "stdout",
     "output_type": "stream",
     "text": [
      "0 2 4 6 8 10 12 14 16 18 "
     ]
    }
   ],
   "source": [
    "# for döngüsünü while a dönüştürme\n",
    "for a in range(0,20,2):\n",
    "    print(a, end=\" \")"
   ]
  },
  {
   "cell_type": "code",
   "execution_count": 65,
   "metadata": {},
   "outputs": [
    {
     "name": "stdout",
     "output_type": "stream",
     "text": [
      "0 2 4 6 8 10 12 14 16 18 "
     ]
    }
   ],
   "source": [
    "a = 0\n",
    "while(a < 20):\n",
    "    print(a, end=\" \")\n",
    "    a += 2"
   ]
  },
  {
   "cell_type": "code",
   "execution_count": 66,
   "metadata": {},
   "outputs": [
    {
     "name": "stdout",
     "output_type": "stream",
     "text": [
      "2 4 6 8 10 12 14 16 18 20 "
     ]
    }
   ],
   "source": [
    "a = 0\n",
    "while(a < 20):\n",
    "    a += 2\n",
    "    print(a, end=\" \")  # print'in yazilacagi yer önemli. istedigim sonucu vermedi\n",
    "    "
   ]
  },
  {
   "cell_type": "code",
   "execution_count": 68,
   "metadata": {},
   "outputs": [
    {
     "data": {
      "text/plain": [
       "['abs', 'de', 'fghi']"
      ]
     },
     "execution_count": 68,
     "metadata": {},
     "output_type": "execute_result"
    }
   ],
   "source": [
    "list(filter(len, ['abs', 'de', 'fghi']))\n",
    "##filter(fonksiyon, iterable)"
   ]
  },
  {
   "cell_type": "code",
   "execution_count": 69,
   "metadata": {},
   "outputs": [
    {
     "data": {
      "text/plain": [
       "[3, 2, 4]"
      ]
     },
     "execution_count": 69,
     "metadata": {},
     "output_type": "execute_result"
    }
   ],
   "source": [
    "list(map(len, ['abs', 'de', 'fghi']))\n",
    "##map(fonksiyon, iterable)"
   ]
  },
  {
   "cell_type": "code",
   "execution_count": 71,
   "metadata": {},
   "outputs": [
    {
     "data": {
      "text/plain": [
       "6"
      ]
     },
     "execution_count": 71,
     "metadata": {},
     "output_type": "execute_result"
    }
   ],
   "source": [
    "eval(\"sum([2,2,2])\")"
   ]
  },
  {
   "cell_type": "code",
   "execution_count": 72,
   "metadata": {},
   "outputs": [
    {
     "data": {
      "text/plain": [
       "2"
      ]
     },
     "execution_count": 72,
     "metadata": {},
     "output_type": "execute_result"
    }
   ],
   "source": [
    "eval(\"min([2,2,2,3,6])\")"
   ]
  },
  {
   "cell_type": "code",
   "execution_count": 73,
   "metadata": {},
   "outputs": [
    {
     "name": "stdout",
     "output_type": "stream",
     "text": [
      "[1, 4, 9, 16, 25, 36, 49, 64, 81, 100]\n"
     ]
    }
   ],
   "source": [
    "liste = list(range(1,11))\n",
    "kare_list = []\n",
    "for i in liste:\n",
    "    kare_list.append(pow(i,2))\n",
    "\n",
    "print(kare_list)"
   ]
  },
  {
   "cell_type": "code",
   "execution_count": 74,
   "metadata": {},
   "outputs": [
    {
     "name": "stdout",
     "output_type": "stream",
     "text": [
      "[1, 4, 9, 16, 25, 36, 49, 64, 81, 100]\n"
     ]
    }
   ],
   "source": [
    "liste = list(range(1,11))\n",
    "kare_list = [i**2 for i in liste ]  # i**2\n",
    "print(kare_list)"
   ]
  },
  {
   "cell_type": "code",
   "execution_count": 75,
   "metadata": {},
   "outputs": [
    {
     "name": "stdout",
     "output_type": "stream",
     "text": [
      "1 4 9 16 25 36 49 64 81 100\n"
     ]
    }
   ],
   "source": [
    "liste = list(range(1,11))\n",
    "kare_list = [pow(i,2) for i in liste ]  # pow(i,2)\n",
    "print(*kare_list)"
   ]
  },
  {
   "cell_type": "code",
   "execution_count": 82,
   "metadata": {},
   "outputs": [
    {
     "name": "stdout",
     "output_type": "stream",
     "text": [
      "[2, 3, 5, 7, 11, 13, 17, 19, 23, 29, 31, 37, 41, 43, 47, 53, 59, 61, 67, 71, 73, 79, 83, 89, 97] "
     ]
    }
   ],
   "source": [
    "def is_prime(n):\n",
    "    flag = True  # girilen sayi Asaldır\n",
    "    for i in range(2,int(pow(n, 0.5)+1)):  # i sayisi 2 den n sayisinin kareköküne kadar gidiyor\n",
    "        if n % i == 0:                     # eger n herhangi bir i'ye kalansiz bölünürse bayrak False\n",
    "            flag = False  ##Asal değildir\n",
    "    return flag\n",
    "\n",
    "##Ana program\n",
    "is_prime(19)\n",
    "print(list(filter(is_prime,range(2,100))), end=\" \")\n",
    "            "
   ]
  },
  {
   "cell_type": "code",
   "execution_count": 77,
   "metadata": {},
   "outputs": [
    {
     "data": {
      "text/plain": [
       "True"
      ]
     },
     "execution_count": 77,
     "metadata": {},
     "output_type": "execute_result"
    }
   ],
   "source": [
    "def is_prime(n):\n",
    "    flag = True  ##Asal dır\n",
    "    if n < 2:\n",
    "        flag = True\n",
    "    for i in range(2, n):\n",
    "        if n % i == 0:\n",
    "            flag = False  ##Asal değildir\n",
    "    return flag\n",
    "\n",
    "##Ana program\n",
    "is_prime(19)"
   ]
  }
 ],
 "metadata": {
  "interpreter": {
   "hash": "f463fb0420b168889ef2901ced46399e46ddb0d0cd01bfcedb393030078e9b34"
  },
  "kernelspec": {
   "display_name": "Python 3.10.2 64-bit",
   "language": "python",
   "name": "python3"
  },
  "language_info": {
   "codemirror_mode": {
    "name": "ipython",
    "version": 3
   },
   "file_extension": ".py",
   "mimetype": "text/x-python",
   "name": "python",
   "nbconvert_exporter": "python",
   "pygments_lexer": "ipython3",
   "version": "3.10.2"
  },
  "orig_nbformat": 4
 },
 "nbformat": 4,
 "nbformat_minor": 2
}
