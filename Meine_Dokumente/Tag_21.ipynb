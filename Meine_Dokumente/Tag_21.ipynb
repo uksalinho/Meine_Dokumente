{
 "cells": [
  {
   "cell_type": "markdown",
   "metadata": {},
   "source": [
    "# Files (reading, writing) "
   ]
  },
  {
   "cell_type": "code",
   "execution_count": 22,
   "metadata": {},
   "outputs": [
    {
     "name": "stdout",
     "output_type": "stream",
     "text": [
      "1.Bu bir text dosyasidir.\n",
      "2.Bu ikinci satirdir.\n",
      "3.Bu ucuncu satirdir.\n",
      "4.Bu dorduncu satirdir.\n",
      "5.Bu besinci satirdir.\n",
      "6.Bu altinci satirdir.\n",
      "7.Bu yedinci satirdir.\n"
     ]
    }
   ],
   "source": [
    "# Kullanim sekli\n",
    "try:\n",
    "    f = open('myfile.txt')\n",
    "    print(f.read())\n",
    "except:\n",
    "    print(\"Something went wrong\")\n",
    "finally:\n",
    "    f. close()"
   ]
  },
  {
   "cell_type": "code",
   "execution_count": 23,
   "metadata": {},
   "outputs": [
    {
     "data": {
      "text/plain": [
       "_io.TextIOWrapper"
      ]
     },
     "execution_count": 23,
     "metadata": {},
     "output_type": "execute_result"
    }
   ],
   "source": [
    "type(f)  # io = input output"
   ]
  },
  {
   "cell_type": "code",
   "execution_count": 24,
   "metadata": {},
   "outputs": [
    {
     "name": "stdout",
     "output_type": "stream",
     "text": [
      "Help on built-in function read:\n",
      "\n",
      "read(size=-1, /) method of _io.TextIOWrapper instance\n",
      "    Read at most n characters from stream.\n",
      "    \n",
      "    Read from underlying buffer until we have n characters or we hit EOF.\n",
      "    If n is negative or omitted, read until EOF.\n",
      "\n"
     ]
    }
   ],
   "source": [
    "help(f.read)  # built-in fonk. olmadigindan tek basina read yazilirsa dönmez. dosyaya bagli bir metod oldugundan f.read ile yardim istenir.aciklamada buffer yaziyor. tüm dosyayi okumaktansa ara bellege/ tampon bölgeye alip okuyor, islemler daha hizli/ kolay oluyor."
   ]
  },
  {
   "cell_type": "code",
   "execution_count": 25,
   "metadata": {},
   "outputs": [
    {
     "name": "stdout",
     "output_type": "stream",
     "text": [
      "Help on built-in function open in module io:\n",
      "\n",
      "open(file, mode='r', buffering=-1, encoding=None, errors=None, newline=None, closefd=True, opener=None)\n",
      "    Open file and return a stream.  Raise OSError upon failure.\n",
      "    \n",
      "    file is either a text or byte string giving the name (and the path\n",
      "    if the file isn't in the current working directory) of the file to\n",
      "    be opened or an integer file descriptor of the file to be\n",
      "    wrapped. (If a file descriptor is given, it is closed when the\n",
      "    returned I/O object is closed, unless closefd is set to False.)\n",
      "    \n",
      "    mode is an optional string that specifies the mode in which the file\n",
      "    is opened. It defaults to 'r' which means open for reading in text\n",
      "    mode.  Other common values are 'w' for writing (truncating the file if\n",
      "    it already exists), 'x' for creating and writing to a new file, and\n",
      "    'a' for appending (which on some Unix systems, means that all writes\n",
      "    append to the end of the file regardless of the current seek position).\n",
      "    In text mode, if encoding is not specified the encoding used is platform\n",
      "    dependent: locale.getpreferredencoding(False) is called to get the\n",
      "    current locale encoding. (For reading and writing raw bytes use binary\n",
      "    mode and leave encoding unspecified.) The available modes are:\n",
      "    \n",
      "    ========= ===============================================================\n",
      "    Character Meaning\n",
      "    --------- ---------------------------------------------------------------\n",
      "    'r'       open for reading (default)\n",
      "    'w'       open for writing, truncating the file first\n",
      "    'x'       create a new file and open it for writing\n",
      "    'a'       open for writing, appending to the end of the file if it exists\n",
      "    'b'       binary mode\n",
      "    't'       text mode (default)\n",
      "    '+'       open a disk file for updating (reading and writing)\n",
      "    'U'       universal newline mode (deprecated)\n",
      "    ========= ===============================================================\n",
      "    \n",
      "    The default mode is 'rt' (open for reading text). For binary random\n",
      "    access, the mode 'w+b' opens and truncates the file to 0 bytes, while\n",
      "    'r+b' opens the file without truncation. The 'x' mode implies 'w' and\n",
      "    raises an `FileExistsError` if the file already exists.\n",
      "    \n",
      "    Python distinguishes between files opened in binary and text modes,\n",
      "    even when the underlying operating system doesn't. Files opened in\n",
      "    binary mode (appending 'b' to the mode argument) return contents as\n",
      "    bytes objects without any decoding. In text mode (the default, or when\n",
      "    't' is appended to the mode argument), the contents of the file are\n",
      "    returned as strings, the bytes having been first decoded using a\n",
      "    platform-dependent encoding or using the specified encoding if given.\n",
      "    \n",
      "    'U' mode is deprecated and will raise an exception in future versions\n",
      "    of Python.  It has no effect in Python 3.  Use newline to control\n",
      "    universal newlines mode.\n",
      "    \n",
      "    buffering is an optional integer used to set the buffering policy.\n",
      "    Pass 0 to switch buffering off (only allowed in binary mode), 1 to select\n",
      "    line buffering (only usable in text mode), and an integer > 1 to indicate\n",
      "    the size of a fixed-size chunk buffer.  When no buffering argument is\n",
      "    given, the default buffering policy works as follows:\n",
      "    \n",
      "    * Binary files are buffered in fixed-size chunks; the size of the buffer\n",
      "      is chosen using a heuristic trying to determine the underlying device's\n",
      "      \"block size\" and falling back on `io.DEFAULT_BUFFER_SIZE`.\n",
      "      On many systems, the buffer will typically be 4096 or 8192 bytes long.\n",
      "    \n",
      "    * \"Interactive\" text files (files for which isatty() returns True)\n",
      "      use line buffering.  Other text files use the policy described above\n",
      "      for binary files.\n",
      "    \n",
      "    encoding is the name of the encoding used to decode or encode the\n",
      "    file. This should only be used in text mode. The default encoding is\n",
      "    platform dependent, but any encoding supported by Python can be\n",
      "    passed.  See the codecs module for the list of supported encodings.\n",
      "    \n",
      "    errors is an optional string that specifies how encoding errors are to\n",
      "    be handled---this argument should not be used in binary mode. Pass\n",
      "    'strict' to raise a ValueError exception if there is an encoding error\n",
      "    (the default of None has the same effect), or pass 'ignore' to ignore\n",
      "    errors. (Note that ignoring encoding errors can lead to data loss.)\n",
      "    See the documentation for codecs.register or run 'help(codecs.Codec)'\n",
      "    for a list of the permitted encoding error strings.\n",
      "    \n",
      "    newline controls how universal newlines works (it only applies to text\n",
      "    mode). It can be None, '', '\\n', '\\r', and '\\r\\n'.  It works as\n",
      "    follows:\n",
      "    \n",
      "    * On input, if newline is None, universal newlines mode is\n",
      "      enabled. Lines in the input can end in '\\n', '\\r', or '\\r\\n', and\n",
      "      these are translated into '\\n' before being returned to the\n",
      "      caller. If it is '', universal newline mode is enabled, but line\n",
      "      endings are returned to the caller untranslated. If it has any of\n",
      "      the other legal values, input lines are only terminated by the given\n",
      "      string, and the line ending is returned to the caller untranslated.\n",
      "    \n",
      "    * On output, if newline is None, any '\\n' characters written are\n",
      "      translated to the system default line separator, os.linesep. If\n",
      "      newline is '' or '\\n', no translation takes place. If newline is any\n",
      "      of the other legal values, any '\\n' characters written are translated\n",
      "      to the given string.\n",
      "    \n",
      "    If closefd is False, the underlying file descriptor will be kept open\n",
      "    when the file is closed. This does not work when a file name is given\n",
      "    and must be True in that case.\n",
      "    \n",
      "    A custom opener can be used by passing a callable as *opener*. The\n",
      "    underlying file descriptor for the file object is then obtained by\n",
      "    calling *opener* with (*file*, *flags*). *opener* must return an open\n",
      "    file descriptor (passing os.open as *opener* results in functionality\n",
      "    similar to passing None).\n",
      "    \n",
      "    open() returns a file object whose type depends on the mode, and\n",
      "    through which the standard file operations such as reading and writing\n",
      "    are performed. When open() is used to open a file in a text mode ('w',\n",
      "    'r', 'wt', 'rt', etc.), it returns a TextIOWrapper. When used to open\n",
      "    a file in a binary mode, the returned class varies: in read binary\n",
      "    mode, it returns a BufferedReader; in write binary and append binary\n",
      "    modes, it returns a BufferedWriter, and in read/write mode, it returns\n",
      "    a BufferedRandom.\n",
      "    \n",
      "    It is also possible to use a string or bytearray as a file for both\n",
      "    reading and writing. For strings StringIO can be used like a file\n",
      "    opened in a text mode, and for bytes a BytesIO can be used like a file\n",
      "    opened in a binary mode.\n",
      "\n"
     ]
    }
   ],
   "source": [
    "help(open)"
   ]
  },
  {
   "cell_type": "code",
   "execution_count": 26,
   "metadata": {},
   "outputs": [
    {
     "data": {
      "text/plain": [
       "'c:\\\\Users\\\\uksal\\\\Desktop\\\\PYTHON\\\\Meine_Dokumente'"
      ]
     },
     "execution_count": 26,
     "metadata": {},
     "output_type": "execute_result"
    }
   ],
   "source": [
    "pwd  # calistigim yer"
   ]
  },
  {
   "cell_type": "code",
   "execution_count": 27,
   "metadata": {},
   "outputs": [
    {
     "name": "stdout",
     "output_type": "stream",
     "text": [
      "1.Bu bir text dosyasidir.\n",
      "2.Bu ikinci satirdir.\n",
      "3.Bu ucuncu satirdir.\n",
      "4.Bu dorduncu satirdir.\n",
      "5.Bu besinci satirdir.\n",
      "6.Bu altinci satirdir.\n",
      "7.Bu yedinci satirdir.\n"
     ]
    }
   ],
   "source": [
    "f = open(\"myfile.txt\", 'r')\n",
    "print(f.read())\n",
    "f.close()"
   ]
  },
  {
   "cell_type": "code",
   "execution_count": 28,
   "metadata": {},
   "outputs": [
    {
     "name": "stdout",
     "output_type": "stream",
     "text": [
      "1.Bu bir text dosyasidir.\n"
     ]
    }
   ],
   "source": [
    "f = open(\"myfile.txt\", 'r')\n",
    "print(f.read(25))  # 25 karakter oku\n",
    "f.close()"
   ]
  },
  {
   "cell_type": "code",
   "execution_count": 29,
   "metadata": {},
   "outputs": [
    {
     "name": "stdout",
     "output_type": "stream",
     "text": [
      "1.Bu bir text dosyasidir.\n",
      "\n"
     ]
    }
   ],
   "source": [
    "f = open(\"myfile.txt\", 'r')\n",
    "print(f.readline())  # satır satır  oku\n",
    "f.close()"
   ]
  },
  {
   "cell_type": "code",
   "execution_count": 30,
   "metadata": {},
   "outputs": [
    {
     "name": "stdout",
     "output_type": "stream",
     "text": [
      "1.Bu bir text dosyasidir.\n",
      "\n",
      "2.Bu ikinci satirdir.\n",
      "\n"
     ]
    }
   ],
   "source": [
    "f = open(\"myfile.txt\", 'r')\n",
    "print(f.readline())  # satır satır  oku\n",
    "print(f.readline())  # satır satır  oku\n",
    "f.close()"
   ]
  },
  {
   "cell_type": "code",
   "execution_count": 31,
   "metadata": {},
   "outputs": [
    {
     "name": "stdout",
     "output_type": "stream",
     "text": [
      "1.Bu bir \n",
      "text dosya\n"
     ]
    }
   ],
   "source": [
    "f = open(\"myfile.txt\", 'r')\n",
    "print(f.readline(9))  # ilk 9 karakteri okudu. alt satira imlecin kaldigi yerdeb devam etti.\n",
    "print(f.readline(10))  \n",
    "f.close()"
   ]
  },
  {
   "cell_type": "code",
   "execution_count": 32,
   "metadata": {},
   "outputs": [
    {
     "name": "stdout",
     "output_type": "stream",
     "text": [
      "1.Bu bir text dosyasidir.\n",
      "\n"
     ]
    }
   ],
   "source": [
    "f = open(\"myfile.txt\", 'r')\n",
    "print(f.readline(100))  # kac yazilirsa yazilsin satir 25 karakter oldugu icin en fazla o kadar yazar\n",
    "f.close()"
   ]
  },
  {
   "cell_type": "code",
   "execution_count": 33,
   "metadata": {},
   "outputs": [
    {
     "name": "stdout",
     "output_type": "stream",
     "text": [
      "['1.Bu bir text dosyasidir.\\n', '2.Bu ikinci satirdir.\\n', '3.Bu ucuncu satirdir.\\n', '4.Bu dorduncu satirdir.\\n', '5.Bu besinci satirdir.\\n', '6.Bu altinci satirdir.\\n', '7.Bu yedinci satirdir.']\n"
     ]
    }
   ],
   "source": [
    "f = open(\"myfile.txt\", 'r')\n",
    "print(f.readlines())  # tüm satırları liste olarak okur\n",
    "f.close()"
   ]
  },
  {
   "cell_type": "code",
   "execution_count": 34,
   "metadata": {},
   "outputs": [
    {
     "name": "stdout",
     "output_type": "stream",
     "text": [
      "<class 'list'>\n",
      "['1.Bu bir text dosyasidir.\\n', '2.Bu ikinci satirdir.\\n', '3.Bu ucuncu satirdir.\\n', '4.Bu dorduncu satirdir.\\n', '5.Bu besinci satirdir.\\n', '6.Bu altinci satirdir.\\n', '7.Bu yedinci satirdir.']\n"
     ]
    }
   ],
   "source": [
    "f = open(\"myfile.txt\", 'r')\n",
    "blok =[]\n",
    "blok=f.readlines() \n",
    "print(type(blok))\n",
    "print(blok)\n",
    "f.close()"
   ]
  },
  {
   "cell_type": "markdown",
   "metadata": {},
   "source": [
    "seek ile imlec yeri konumu ayarlanir."
   ]
  },
  {
   "cell_type": "code",
   "execution_count": 35,
   "metadata": {},
   "outputs": [
    {
     "name": "stdout",
     "output_type": "stream",
     "text": [
      "1.Bu bir text dosyasidir.\n",
      "1.Bu bir text dosyasidir.\n"
     ]
    }
   ],
   "source": [
    "f = open(\"myfile.txt\", 'r')\n",
    "print(f.read(25))  # 25 karakter oku\n",
    "f.seek(0)  # tekrar başa konumlandı...\n",
    "print(f.read(25))  # 25 karakter oku\n",
    "f.close()"
   ]
  },
  {
   "cell_type": "code",
   "execution_count": 36,
   "metadata": {},
   "outputs": [
    {
     "name": "stdout",
     "output_type": "stream",
     "text": [
      "1.Bu bir text dosyasidir.\n",
      "ext dosyasidir.\n",
      "2.Bu ikin\n"
     ]
    }
   ],
   "source": [
    "f = open(\"myfile.txt\", 'r')\n",
    "print(f.read(25))  # 25 karakter oku\n",
    "f.seek(10)  # 10.byte'a (karaktere) konumlan ordan devam et\n",
    "print(f.read(25))  # 25 karakter oku\n",
    "f.close()"
   ]
  },
  {
   "cell_type": "code",
   "execution_count": 37,
   "metadata": {},
   "outputs": [
    {
     "name": "stdout",
     "output_type": "stream",
     "text": [
      "1.Bu bir text dosyasidir.\n",
      ".\n",
      "6.Bu altinci satirdir.\n",
      "7\n"
     ]
    }
   ],
   "source": [
    "f = open(\"myfile.txt\", 'r')\n",
    "print(f.read(25))  # 25 karakter oku\n",
    "f.seek(119)  # 119.byte'a (karaktere) konumlan\n",
    "print(f.read(26))  # 26 karakter oku\n",
    "f.close()"
   ]
  },
  {
   "cell_type": "code",
   "execution_count": 38,
   "metadata": {},
   "outputs": [
    {
     "name": "stdout",
     "output_type": "stream",
     "text": [
      "26\n"
     ]
    }
   ],
   "source": [
    "f = open(\"myfile.txt\", 'r')\n",
    "print(len(f.readline()))  # yanlis verdi ama ?\n",
    "f.close()"
   ]
  },
  {
   "cell_type": "code",
   "execution_count": 39,
   "metadata": {},
   "outputs": [
    {
     "name": "stdout",
     "output_type": "stream",
     "text": [
      "1.Bu bir text dosyasidir.\n",
      "\n",
      "27\n"
     ]
    }
   ],
   "source": [
    "f = open(\"myfile.txt\", 'r')\n",
    "print(f.readline())  \n",
    "print(f.tell())  # yazdiktan sonra nereye konumlandi? \\n'yi de saydi\n",
    "f.close()"
   ]
  },
  {
   "cell_type": "code",
   "execution_count": 40,
   "metadata": {},
   "outputs": [
    {
     "name": "stdout",
     "output_type": "stream",
     "text": [
      "I want to sing\n",
      "Like the birds sing,\n",
      "Not worrying about\n",
      "Who hears or\n",
      "What they think.\n",
      "\n",
      "I want to sing\n",
      "Like the birds sing,\n"
     ]
    }
   ],
   "source": [
    "# f = open(\"myfile.txt\", 'r')\n",
    "with open(\"C:\\\\Users\\\\uksal\\\\Desktop\\\\PYTHON\\\\Meine_Dokumente\\\\rumi.txt\", 'r') as f:\n",
    "    print(f.read())\n",
    "    print()\n",
    "    f.seek(0)  # başa konumlan\n",
    "    print(f.read(35))"
   ]
  },
  {
   "cell_type": "code",
   "execution_count": 41,
   "metadata": {},
   "outputs": [
    {
     "name": "stdout",
     "output_type": "stream",
     "text": [
      "I want to sing\n",
      "Like the birds sing,\n",
      "\n",
      "Not worrying\n",
      "50\n",
      "\n",
      "Like the birds sing,\n"
     ]
    }
   ],
   "source": [
    "with open(\"C:\\\\Users\\\\uksal\\\\Desktop\\\\PYTHON\\\\Meine_Dokumente\\\\rumi.txt\", 'r') as f:\n",
    "    print(f.read(35))  # 35 karakter yazdi\n",
    "    print(f.read(13))  # devam etti 13 daha yazdi\n",
    "    print(f.tell())    # nerde oldugumu yazdi.\n",
    "    f.seek(15)         # 15. karektere gitti\n",
    "    print(f.read(21))  # 15 den sonra 21 karakter yazdi"
   ]
  },
  {
   "cell_type": "code",
   "execution_count": 42,
   "metadata": {},
   "outputs": [
    {
     "name": "stdout",
     "output_type": "stream",
     "text": [
      "I want to sing\n",
      "\n",
      "Like the birds sing,\n",
      "\n",
      "19\n",
      "Who hears or\n",
      "\n"
     ]
    }
   ],
   "source": [
    "with open(\"rumi.txt\", 'r') as f:\n",
    "    print(f.readline())  # 1. satir\n",
    "    print(f.readline())  # 2. satir\n",
    "    print(len(f.readline()))  # siradaki yani 3. satirin karakter sayisini verdi\n",
    "    print(f.readline(18))  # siradaki satiri yazdi. (/ dan dolayi 19-1=18)"
   ]
  },
  {
   "cell_type": "code",
   "execution_count": 43,
   "metadata": {},
   "outputs": [
    {
     "name": "stdout",
     "output_type": "stream",
     "text": [
      "['I want to sing\\n', 'Like the birds sing,\\n', 'Not worrying about\\n', 'Who hears or\\n', 'What they think.']\n",
      "<class 'list'>\n"
     ]
    }
   ],
   "source": [
    "with open(\"rumi.txt\", 'r') as f:\n",
    "    print(f.readlines())  # liste tipinde tutuyor\n",
    "    print(type(f.readlines()))\n",
    "  "
   ]
  },
  {
   "cell_type": "code",
   "execution_count": 44,
   "metadata": {},
   "outputs": [
    {
     "name": "stdout",
     "output_type": "stream",
     "text": [
      "I want to sing\n",
      "Like the birds sing,\n",
      "Not worrying about\n",
      "Who hears or\n",
      "What they think.\n",
      "<class 'str'>\n"
     ]
    }
   ],
   "source": [
    "with open(\"rumi.txt\", 'r') as f:\n",
    "    print(f.read())  # string tipinde tutuyor\n",
    "    print(type(f.read()))"
   ]
  },
  {
   "cell_type": "code",
   "execution_count": 45,
   "metadata": {},
   "outputs": [
    {
     "name": "stdout",
     "output_type": "stream",
     "text": [
      "I want to sing\n",
      "\n",
      "Like the birds sing,\n",
      "\n",
      "Not worrying about\n",
      "\n",
      "Who hears or\n",
      "\n",
      "What they think.\n"
     ]
    }
   ],
   "source": [
    "# döngü icinde satir satir yazdirma \n",
    "with open(\"rumi.txt\", 'r') as f:\n",
    "    for line in f:\n",
    "        print(line)"
   ]
  },
  {
   "cell_type": "code",
   "execution_count": 46,
   "metadata": {},
   "outputs": [
    {
     "name": "stdout",
     "output_type": "stream",
     "text": [
      "I want to *sing\n",
      "Like *the birds *sing,\n",
      "Not *worrying a*bout\n",
      "Who h*ears or\n",
      "Wh*at they th*ink.*"
     ]
    }
   ],
   "source": [
    "# Her karakter arasina ekleme yapilabilir\n",
    "with open(\"rumi.txt\", 'r') as f:\n",
    "    line = f.read(10)\n",
    "    while len(line) > 0:  # tüm satirlar bittiginde eksi(-)ye düstügü icin 0dan büyük olsun\n",
    "        print(line, end=\"*\")\n",
    "        line = f.read(10)"
   ]
  },
  {
   "cell_type": "code",
   "execution_count": 47,
   "metadata": {},
   "outputs": [
    {
     "name": "stdout",
     "output_type": "stream",
     "text": [
      "['I want to ', 'sing\\nLike ', 'the birds ', 'sing,\\nNot ', 'worrying a', 'bout\\nWho h', 'ears or\\nWh', 'at they th', 'ink.']\n"
     ]
    }
   ],
   "source": [
    "# 1.parça parça(10 10) okuduklarımızı bir listeye ekleyelim...\n",
    "with open(\"rumi.txt\", 'r') as f:\n",
    "    array= []\n",
    "    while True:\n",
    "        liste = f.read(10)\n",
    "        if liste == '':  # okuyacak birşey kalmadı ise\n",
    "            break\n",
    "        array.append(liste)\n",
    "print(array)"
   ]
  },
  {
   "cell_type": "code",
   "execution_count": 48,
   "metadata": {},
   "outputs": [
    {
     "name": "stdout",
     "output_type": "stream",
     "text": [
      "['I want to ', 'sing\\nLike ', 'the birds ', 'sing,\\nNot ', 'worrying a', 'bout\\nWho h', 'ears or\\nWh', 'at they th', 'ink.']\n"
     ]
    }
   ],
   "source": [
    "# 2.parça parça okuduklarımızı bir listeye ekleyelim...\n",
    "# ':=' parantez içi atama operatörü....\n",
    "with open(\"rumi.txt\", 'r') as f:\n",
    "    array= []\n",
    "    while (liste := f.read(10)): # [:=] 3.8 üstü için geçerli\n",
    "        array.append(liste)\n",
    "        \n",
    "print(array)"
   ]
  },
  {
   "cell_type": "code",
   "execution_count": 49,
   "metadata": {},
   "outputs": [
    {
     "name": "stdout",
     "output_type": "stream",
     "text": [
      "5\n",
      "\n",
      "5\n"
     ]
    }
   ],
   "source": [
    "a=5\n",
    "print(a)\n",
    "print()\n",
    "print(a:=5)  # aynisi"
   ]
  },
  {
   "cell_type": "code",
   "execution_count": 50,
   "metadata": {},
   "outputs": [
    {
     "name": "stdout",
     "output_type": "stream",
     "text": [
      "['I want to ', 'sing\\nLike ', 'the birds ', 'sing,\\nNot ', 'worrying a', 'bout\\nWho h', 'ears or\\nWh', 'at they th', 'ink.']\n"
     ]
    }
   ],
   "source": [
    "# 3.parça parça okuduklarımızı bir listeye ekleyelim...\n",
    "with open(\"rumi.txt\", 'r') as f:\n",
    "    array= [liste for liste in iter(lambda: f.read(10),'')]\n",
    "        \n",
    "print(array)"
   ]
  },
  {
   "cell_type": "code",
   "execution_count": 51,
   "metadata": {},
   "outputs": [
    {
     "name": "stdout",
     "output_type": "stream",
     "text": [
      "I want to sing\n",
      "Like the birds sing,\n",
      "Not worrying about\n",
      "Who hears or\n",
      "What they think."
     ]
    }
   ],
   "source": [
    "with open(\"rumi.txt\", 'r') as f:\n",
    "    for line in f.readlines():\n",
    "        print(line, end=\"\")"
   ]
  },
  {
   "cell_type": "code",
   "execution_count": 52,
   "metadata": {},
   "outputs": [
    {
     "name": "stdout",
     "output_type": "stream",
     "text": [
      "I want to sing\n",
      "Like the birds sing,\n",
      "Not worrying about\n",
      "Who hears or\n",
      "What they think."
     ]
    }
   ],
   "source": [
    "with open(\"rumi.txt\", \"r\") as f:  \n",
    "    while (liste := f.readline()):  # readlines olunca istenilen gibi vermedi\n",
    "        print(liste, end=\"\")"
   ]
  },
  {
   "cell_type": "code",
   "execution_count": 53,
   "metadata": {},
   "outputs": [
    {
     "name": "stdout",
     "output_type": "stream",
     "text": [
      "I want to sing\n",
      "Like the birds sing,\n",
      "Not worrying about\n",
      "Who hears or\n",
      "What they think."
     ]
    }
   ],
   "source": [
    "with open(\"rumi.txt\", \"r\") as f: \n",
    "    for line in f:\n",
    "        print(line, end=\"\")"
   ]
  },
  {
   "cell_type": "code",
   "execution_count": 54,
   "metadata": {},
   "outputs": [
    {
     "name": "stdout",
     "output_type": "stream",
     "text": [
      "Help on built-in function write:\n",
      "\n",
      "write(text, /) method of _io.TextIOWrapper instance\n",
      "    Write string to stream.\n",
      "    Returns the number of characters written (which is always equal to\n",
      "    the length of the string).\n",
      "\n"
     ]
    }
   ],
   "source": [
    "help(f.write)"
   ]
  },
  {
   "cell_type": "markdown",
   "metadata": {},
   "source": [
    "dosyaya yazmak icin a ve w kullanilir.\n",
    "a: dosya varsa yeni yaziyi sonuna ekler yoksa olusturarak yazar.\n",
    "w: dosya varsa üzerine yazar(eskisini silmis olur) yoksa olusturarak yazar. "
   ]
  },
  {
   "cell_type": "code",
   "execution_count": 55,
   "metadata": {},
   "outputs": [],
   "source": [
    "with open(\"my_rumi.txt\", \"w\") as f:\n",
    "    text = \"Ne olursan ol, yine de gel!\"\n",
    "    f.write(text)  # dosyayi olusturdu ve üzerine yazdi "
   ]
  },
  {
   "cell_type": "code",
   "execution_count": 56,
   "metadata": {},
   "outputs": [
    {
     "name": "stdout",
     "output_type": "stream",
     "text": [
      "Ne olursan ol, yine de gel!\n"
     ]
    }
   ],
   "source": [
    "with open(\"my_rumi.txt\", \"w\") as f:\n",
    "    text = \"Ne olursan ol, yine de gel!\"\n",
    "    f.write(text) \n",
    "# dosyayi okumak icin \n",
    "with open(\"my_rumi.txt\", \"r\") as f:\n",
    "    print(f.read())"
   ]
  },
  {
   "cell_type": "code",
   "execution_count": 57,
   "metadata": {},
   "outputs": [
    {
     "name": "stdout",
     "output_type": "stream",
     "text": [
      "Ne olursan ol, yine de gel!\n"
     ]
    }
   ],
   "source": [
    "# yukardakini with'siz yani close ile yazimi\n",
    "wf = open(\"my_rumi.txt\", \"w\") \n",
    "text = \"Ne olursan ol, yine de gel!\"\n",
    "wf.write(text) \n",
    "wf.close()\n",
    "# dosyayi okumak icin\n",
    "rf = open(\"my_rumi.txt\", \"r\") \n",
    "print(rf.read()) \n",
    "rf.close()"
   ]
  },
  {
   "cell_type": "code",
   "execution_count": 58,
   "metadata": {},
   "outputs": [
    {
     "name": "stdout",
     "output_type": "stream",
     "text": [
      "Banana\n",
      "Orange\n",
      "Apple\n",
      "Strawberry\n",
      "Cherry\n",
      "\n",
      "['Banana\\n', 'Orange\\n', 'Apple\\n', 'Strawberry\\n', 'Cherry\\n']\n"
     ]
    }
   ],
   "source": [
    "fruits = [\"Banana\", \"Orange\", \"Apple\", \"Strawberry\", \"Cherry\"]\n",
    "with open(\"fruits.txt\", \"w\") as wf:\n",
    "    for sepet in fruits:\n",
    "        wf.write(sepet + \"\\n\")      # dosya olustu ve icine alt alta yazdi\n",
    "\n",
    "with open(\"fruits.txt\", \"r\") as rf:\n",
    "    print(rf.read())                # icerigi okumak icin aç\n",
    "\n",
    "with open(\"fruits.txt\", \"r\") as rf:\n",
    "    print(rf.readlines())           # liste olarak okumak icin aç"
   ]
  },
  {
   "cell_type": "markdown",
   "metadata": {},
   "source": [
    "bir dosya içeriğini okuyalım ve başka bir dosyaya kopyalayalım.\n",
    "dosya yoksa oluşturalım"
   ]
  },
  {
   "cell_type": "code",
   "execution_count": 59,
   "metadata": {},
   "outputs": [],
   "source": [
    "# text dosyası kopyalama\n",
    "with open(\"fruits.txt\", \"r\") as rf:\n",
    "    with open(\"new_fruits.txt\", 'w') as wf:\n",
    "        for line in rf:\n",
    "            wf.write(line)  # yeni dosya olusmasin diye calistirmadim"
   ]
  },
  {
   "cell_type": "code",
   "execution_count": 60,
   "metadata": {},
   "outputs": [],
   "source": [
    "# yukaridakinin döngüsüz hali\n",
    "with open(\"fruits.txt\", \"r\") as rf:\n",
    "    with open(\"new_fruits2.txt\", 'w') as wf:\n",
    "        wf.write(rf.read())"
   ]
  },
  {
   "cell_type": "code",
   "execution_count": 61,
   "metadata": {},
   "outputs": [],
   "source": [
    "# binary dosya kopyalama\n",
    "with open(\"C:\\\\Users\\\\uksal\\\\Downloads\\\\Image from iOS.jpg\", \"rb\") as rf:\n",
    "    with open(\"copy_resim.jpg\", 'wb') as wf:\n",
    "        wf.write(rf.read())"
   ]
  },
  {
   "cell_type": "markdown",
   "metadata": {},
   "source": [
    "resim (binary) dosyaları ile uğraşanlar için, pickle, opencv paketleri kullanılabilir"
   ]
  },
  {
   "cell_type": "code",
   "execution_count": 62,
   "metadata": {},
   "outputs": [
    {
     "name": "stdout",
     "output_type": "stream",
     "text": [
      "8344\n"
     ]
    }
   ],
   "source": [
    "# resimin boyutunu alma... \n",
    "# import sys--> getsizeof() metoduna bakılabilir\n",
    "with open(\"C:\\\\Users\\\\uksal\\\\Downloads\\\\Image from iOS.jpg\", \"rb\") as rf:\n",
    "    size = rf.__sizeof__()\n",
    "    print(size)"
   ]
  },
  {
   "cell_type": "code",
   "execution_count": 64,
   "metadata": {},
   "outputs": [
    {
     "name": "stdout",
     "output_type": "stream",
     "text": [
      "8360\n"
     ]
    }
   ],
   "source": [
    "# boyutu bu daha doğru veriyor gibi\n",
    "import sys \n",
    "with open(\"C:\\\\Users\\\\uksal\\\\Downloads\\\\Image from iOS.jpg\", \"rb\") as rf:\n",
    "    size = sys.getsizeof(rf)\n",
    "    print(size)"
   ]
  },
  {
   "cell_type": "code",
   "execution_count": null,
   "metadata": {},
   "outputs": [],
   "source": [
    "# yukarida yeni dosya olusmasin diye calistirmamistim\n",
    "fruits = [\"Banana\\n\", \"Orange\\n\", \"Apple\\n\", \"Strawberry\\n\", \"Cherry\\n\"]\n",
    "with open(\"fruits.txt\", \"w\") as wf:\n",
    "    wf.writelines(fruits)\n",
    "\n",
    "with open(\"fruits.txt\", \"r\") as rf:\n",
    "    print(rf.readlines())\n",
    "\n",
    "with open(\"fruits.txt\", \"r\") as rf:\n",
    "    print(rf.read())"
   ]
  },
  {
   "cell_type": "code",
   "execution_count": null,
   "metadata": {},
   "outputs": [],
   "source": [
    "fruits = [\"Banana\\n\", \"Orange\\n\", \"Apple\\n\", \"Strawberry\\n\", \"Cherry\\n\"]\n",
    "with open(\"fruits.txt\", \"a\") as wf:\n",
    "    wf.writelines(fruits)\n",
    "\n",
    "with open(\"fruits.txt\", \"r\") as rf:\n",
    "    print(rf.readlines())\n",
    "    rf.seek(0)  # imleci başa alıp okuyacağız....\n",
    "    print(rf.read())"
   ]
  },
  {
   "cell_type": "code",
   "execution_count": null,
   "metadata": {},
   "outputs": [],
   "source": [
    "fruits = [\"Banana\\n\", \"Orange\\n\", \"Apple\\n\", \"Strawberry\\n\", \"Cherry\\n\"]\n",
    "with open(\"fruits.txt\", \"a\") as wf:  # a ile lsitenin sonuna ekledi\n",
    "    wf.writelines(\"Melon\\n\")"
   ]
  },
  {
   "cell_type": "code",
   "execution_count": null,
   "metadata": {},
   "outputs": [],
   "source": [
    "fruits = [\"Banana\\n\", \"Orange\\n\", \"Apple\\n\", \"Strawberry\\n\", \"Cherry\\n\"]\n",
    "with open(\"fruits.txt\", \"a\") as wf:\n",
    "    wf.writelines(\"Mango\\n\")\n",
    "\n",
    "with open(\"fruits.txt\", \"r\") as rf:  # a ile ekleneni okudu\n",
    "    print(rf.read())"
   ]
  },
  {
   "cell_type": "code",
   "execution_count": null,
   "metadata": {},
   "outputs": [],
   "source": [
    "# yeni dosya olusmasin diye calistirmadim\n",
    "sozluk ={1:\"birinci\", 2:\"ikinci\", 3:\"üçüncü\", 4:\"dördüncü\",\n",
    "        5:\"beşinci\", 6:\"altıncı\", 7:\"yedinci\"}\n",
    "\n",
    "with open(\"my_text.txt\", 'w') as f:\n",
    "    for key in range(1,7):\n",
    "        f.write(\"Bu \" + sozluk[key] + \" satırdır.\\n\" )\n",
    "\n",
    "with open(\"my_text.txt\", 'r') as f:\n",
    "    print(f.read())\n"
   ]
  },
  {
   "cell_type": "code",
   "execution_count": null,
   "metadata": {},
   "outputs": [],
   "source": [
    "sozluk ={1:\"birinci\", 2:\"ikinci\", 3:\"üçüncü\", 4:\"dördüncü\",\n",
    "        5:\"beşinci\", 6:\"altıncı\", 7:\"yedinci\"}\n",
    "\n",
    "with open(\"my_text.txt\", 'w') as f:\n",
    "    for key in sozluk.keys():  # yukaridaki range yerine\n",
    "        f.write(\"Bu \" + sozluk[key] + \" satırdır.\\n\" )\n",
    "\n",
    "with open(\"my_text.txt\", 'r') as f:\n",
    "    print(f.read())"
   ]
  },
  {
   "cell_type": "code",
   "execution_count": 67,
   "metadata": {},
   "outputs": [
    {
     "name": "stdout",
     "output_type": "stream",
     "text": [
      "il adı..: Giresun\n",
      "plakası.: 28\n",
      "il adı..: Istanbul\n",
      "plakası.: 34\n",
      "il adı..: Sakarya\n",
      "plakası.: 54\n"
     ]
    }
   ],
   "source": [
    "import json\n",
    "sozluk = \"\"\"[\n",
    "    {\"plaka\":\"28\", \n",
    "    \"il\":\"Giresun\"},\n",
    "    {\"plaka\":\"34\", \n",
    "    \"il\":\"Istanbul\"},\n",
    "    {\"plaka\":\"54\", \n",
    "    \"il\":\"Sakarya\"}\n",
    "    ]\"\"\"\n",
    "\n",
    "veri = json.loads(sozluk) ##tum sözlüğü çek\n",
    "\n",
    "for i in veri:\n",
    "    print(\"il adı..:\", i['il'])\n",
    "    print(\"plakası.:\", i['plaka'])"
   ]
  }
 ],
 "metadata": {
  "interpreter": {
   "hash": "f463fb0420b168889ef2901ced46399e46ddb0d0cd01bfcedb393030078e9b34"
  },
  "kernelspec": {
   "display_name": "Python 3.10.2 64-bit",
   "language": "python",
   "name": "python3"
  },
  "language_info": {
   "codemirror_mode": {
    "name": "ipython",
    "version": 3
   },
   "file_extension": ".py",
   "mimetype": "text/x-python",
   "name": "python",
   "nbconvert_exporter": "python",
   "pygments_lexer": "ipython3",
   "version": "3.10.2"
  },
  "orig_nbformat": 4
 },
 "nbformat": 4,
 "nbformat_minor": 2
}
