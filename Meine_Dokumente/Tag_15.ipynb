{
 "cells": [
  {
   "cell_type": "markdown",
   "metadata": {},
   "source": [
    "What is a function? A piece of code that runs when called."
   ]
  },
  {
   "cell_type": "code",
   "execution_count": 15,
   "metadata": {},
   "outputs": [
    {
     "ename": "SyntaxError",
     "evalue": "expected ':' (1682170706.py, line 1)",
     "output_type": "error",
     "traceback": [
      "\u001b[1;36m  Input \u001b[1;32mIn [15]\u001b[1;36m\u001b[0m\n\u001b[1;33m    def myFunction()\u001b[0m\n\u001b[1;37m                    ^\u001b[0m\n\u001b[1;31mSyntaxError\u001b[0m\u001b[1;31m:\u001b[0m expected ':'\n"
     ]
    }
   ],
   "source": [
    "def myFunction()\n",
    "    print(6 + int(\"6\"))  # yukarda : olmayinca hata verir\n",
    "\n",
    "myFunction()"
   ]
  },
  {
   "cell_type": "code",
   "execution_count": 19,
   "metadata": {},
   "outputs": [
    {
     "name": "stdout",
     "output_type": "stream",
     "text": [
      "11\n"
     ]
    }
   ],
   "source": [
    "def myFunction(a, b):\n",
    "    print(int(a) + int(b))\n",
    "\n",
    "myFunction(\"5\",\"6\")"
   ]
  },
  {
   "cell_type": "code",
   "execution_count": 26,
   "metadata": {},
   "outputs": [
    {
     "ename": "SyntaxError",
     "evalue": "invalid syntax (912042408.py, line 1)",
     "output_type": "error",
     "traceback": [
      "\u001b[1;36m  Input \u001b[1;32mIn [26]\u001b[1;36m\u001b[0m\n\u001b[1;33m    def mein(int(\"5\"), int(\"6\")):  # parametre dönüsümü burda kabul edilmiyor\u001b[0m\n\u001b[1;37m                ^\u001b[0m\n\u001b[1;31mSyntaxError\u001b[0m\u001b[1;31m:\u001b[0m invalid syntax\n"
     ]
    }
   ],
   "source": [
    "def mein(int(\"5\"), int(\"6\")):  # parametre dönüsümü burda kabul edilmiyor\n",
    "    print(a+b)\n",
    "\n",
    "myFunction(\"5\",\"6\")"
   ]
  },
  {
   "cell_type": "code",
   "execution_count": 27,
   "metadata": {},
   "outputs": [
    {
     "data": {
      "text/plain": [
       "'Return the absolute value of the argument.'"
      ]
     },
     "execution_count": 27,
     "metadata": {},
     "output_type": "execute_result"
    }
   ],
   "source": [
    "abs.__doc__\n",
    "# __doc__ ile abs fonksiyonunun ne yaptigini ögrenebilirim"
   ]
  },
  {
   "cell_type": "code",
   "execution_count": 28,
   "metadata": {},
   "outputs": [
    {
     "name": "stdout",
     "output_type": "stream",
     "text": [
      "Help on built-in function abs in module builtins:\n",
      "\n",
      "abs(x, /)\n",
      "    Return the absolute value of the argument.\n",
      "\n"
     ]
    }
   ],
   "source": [
    "help(abs)\n",
    "# help ise __doc__'dan daha detayli verdi"
   ]
  },
  {
   "cell_type": "code",
   "execution_count": 25,
   "metadata": {},
   "outputs": [
    {
     "name": "stdout",
     "output_type": "stream",
     "text": [
      "3.67\n",
      "3.67\n"
     ]
    }
   ],
   "source": [
    "print(round(3.665, 2)) # 3.67  # yuvarlamayi 2li sayi sistemine dönüstürüp veriyor\n",
    "print(round(3.675, 2)) # 3.68  # round alternatifi math module ceil, floor"
   ]
  },
  {
   "cell_type": "code",
   "execution_count": 29,
   "metadata": {},
   "outputs": [
    {
     "name": "stdout",
     "output_type": "stream",
     "text": [
      "Toplama\n",
      "Çıkarma\n"
     ]
    }
   ],
   "source": [
    "# geriye değer döndürmeyen fonksiyonlar: tipi: NoneType\n",
    "def menu():\n",
    "    print(\"Toplama\")\n",
    "    print(\"Çıkarma\")\n",
    "\n",
    "menu()"
   ]
  },
  {
   "cell_type": "code",
   "execution_count": 30,
   "metadata": {},
   "outputs": [
    {
     "name": "stdout",
     "output_type": "stream",
     "text": [
      "None\n"
     ]
    },
    {
     "data": {
      "text/plain": [
       "NoneType"
      ]
     },
     "execution_count": 30,
     "metadata": {},
     "output_type": "execute_result"
    }
   ],
   "source": [
    "def togg():\n",
    "    pass  # içeriği boş, geriye değer döndürmüyor\n",
    "          # icini sonra doldurmak istersem pass\n",
    "print(togg())\n",
    "type(togg())"
   ]
  },
  {
   "cell_type": "code",
   "execution_count": 31,
   "metadata": {},
   "outputs": [
    {
     "name": "stdout",
     "output_type": "stream",
     "text": [
      "None\n"
     ]
    },
    {
     "data": {
      "text/plain": [
       "NoneType"
      ]
     },
     "execution_count": 31,
     "metadata": {},
     "output_type": "execute_result"
    }
   ],
   "source": [
    "def togg():\n",
    "    return  # içeriği boş, geriye değer döndürmüyor\n",
    "\n",
    "print(togg())\n",
    "type(togg())"
   ]
  },
  {
   "cell_type": "code",
   "execution_count": 32,
   "metadata": {},
   "outputs": [
    {
     "name": "stdout",
     "output_type": "stream",
     "text": [
      "8\n"
     ]
    },
    {
     "data": {
      "text/plain": [
       "int"
      ]
     },
     "execution_count": 32,
     "metadata": {},
     "output_type": "execute_result"
    }
   ],
   "source": [
    "# geriye değer döndüren fonksiyonlar: tipi return yanına yazılan değere göre değişir.\n",
    "def us():\n",
    "    return 2**3\n",
    "\n",
    "print(us())\n",
    "type(us())"
   ]
  },
  {
   "cell_type": "code",
   "execution_count": 34,
   "metadata": {},
   "outputs": [
    {
     "name": "stdout",
     "output_type": "stream",
     "text": [
      "12.166999999999998\n"
     ]
    },
    {
     "data": {
      "text/plain": [
       "float"
      ]
     },
     "execution_count": 34,
     "metadata": {},
     "output_type": "execute_result"
    }
   ],
   "source": [
    "# geriye değer döndüren fonksiyonlar: tipi return yanına yazılan değere göre değişir.\n",
    "def us():\n",
    "    return 2.3 ** 3\n",
    "\n",
    "print(us())\n",
    "type(us())"
   ]
  },
  {
   "cell_type": "code",
   "execution_count": 35,
   "metadata": {},
   "outputs": [
    {
     "name": "stdout",
     "output_type": "stream",
     "text": [
      "tek\n"
     ]
    },
    {
     "data": {
      "text/plain": [
       "str"
      ]
     },
     "execution_count": 35,
     "metadata": {},
     "output_type": "execute_result"
    }
   ],
   "source": [
    "# geriye değer döndüren fonksiyonlar: tipi return yanına yazılan değere göre değişir.\n",
    "def us(a):\n",
    "    return \"çift\" if a%2==0 else \"tek\" # döngü de yazilabilir\n",
    "\n",
    "print(us(3))\n",
    "type(us(3))"
   ]
  },
  {
   "cell_type": "markdown",
   "metadata": {},
   "source": [
    "Recursive functions"
   ]
  },
  {
   "cell_type": "markdown",
   "metadata": {},
   "source": [
    "Eğer fonksiyon kendi kendi çağırıyorsa veya\n",
    "kendine atıfta bulunuyorsa bu fonksiyon recursive(özyinelemeli) fonksiyondur.\n"
   ]
  },
  {
   "cell_type": "code",
   "execution_count": 36,
   "metadata": {},
   "outputs": [
    {
     "name": "stdout",
     "output_type": "stream",
     "text": [
      "120\n"
     ]
    }
   ],
   "source": [
    "# döngüsel yaklaşım ile faktoriyel fonksiyonu tasarlayalım\n",
    "def fakt(n):\n",
    "    f = 1\n",
    "    for i in range(n,0,-1): # i: 5, 4, 3, 2, 1\n",
    "       f = f * i  # sonuç f değişkeninde tutuldu. (yığmalı çarpma)\n",
    "    \n",
    "    return f\n",
    "\n",
    "# ana program\n",
    "print(fakt(5))"
   ]
  },
  {
   "cell_type": "code",
   "execution_count": 37,
   "metadata": {},
   "outputs": [
    {
     "name": "stdout",
     "output_type": "stream",
     "text": [
      "120\n"
     ]
    }
   ],
   "source": [
    "# recursive yaklaşım\n",
    "# 5! = 5*4! = 5*4*3! = 5*4*3*2! = 5*4*3*2*1! = 5*4*3*2*1 = 120\n",
    "# n! = n*(n-1)! = n*(n-1)*(n-2)! = ....\n",
    "def fakt(n):\n",
    "    if n <= 1:\n",
    "        return 1\n",
    "    else:\n",
    "        return n * fakt(n-1)\n",
    "\n",
    "#ana program\n",
    "print(fakt(5))"
   ]
  },
  {
   "cell_type": "code",
   "execution_count": 38,
   "metadata": {},
   "outputs": [
    {
     "name": "stdout",
     "output_type": "stream",
     "text": [
      "0 1 1 2 3 5 8 13 21 34 55 89 144 233 377 610 987 \n"
     ]
    }
   ],
   "source": [
    "# Python 3: Fibonacci series : döngüsel yaklaşım ile çözümü\n",
    "def fib(n):\n",
    "    a, b = 0, 1\n",
    "    while a < n:\n",
    "        print(a, end=' ')\n",
    "        a, b = b, a + b # yer değiştirme a=b, b = a+b\n",
    "    print()\n",
    "# Ana program\n",
    "fib(1000)"
   ]
  },
  {
   "cell_type": "code",
   "execution_count": 41,
   "metadata": {},
   "outputs": [
    {
     "name": "stdout",
     "output_type": "stream",
     "text": [
      "0 1 1 2 3 5 8 13 21 34 55 89 144 233 377 610 987 "
     ]
    }
   ],
   "source": [
    "# fibonaCCİ serisinin recursive çözümü\n",
    "def fib(n):\n",
    "    if n in {0,1}:\n",
    "        return n\n",
    "    else:\n",
    "        return fib(n-1) + fib(n-2)\n",
    "\n",
    "# Ana program\n",
    "for i in range(17): # ilk 17 elemanı ver\n",
    "    print(fib(i), end = \" \")"
   ]
  },
  {
   "cell_type": "code",
   "execution_count": 43,
   "metadata": {},
   "outputs": [
    {
     "name": "stdout",
     "output_type": "stream",
     "text": [
      "32\n"
     ]
    }
   ],
   "source": [
    "# 2^n alma fonksiyonu\n",
    "# 2^5 = 2* 2^4\n",
    "# 2^4 = 2* 2^3\n",
    "# 2^3 = 2* 2^2\n",
    "# 2^2 = 2* 2^1\n",
    "# 2^1 = 2* 2^0\n",
    "# 2^0 = 1\n",
    "\n",
    "def iki_us(n):\n",
    "    if n == 0:\n",
    "        return 1\n",
    "    else:\n",
    "        return 2 * iki_us(n-1)\n",
    "\n",
    "# ana program\n",
    "n = 5\n",
    "print(iki_us(n))"
   ]
  },
  {
   "cell_type": "code",
   "execution_count": 44,
   "metadata": {},
   "outputs": [
    {
     "name": "stdout",
     "output_type": "stream",
     "text": [
      "32\n"
     ]
    }
   ],
   "source": [
    "def iki_us(n):\n",
    "    if n > 0:\n",
    "        return 2 * iki_us(n-1)\n",
    "    else:\n",
    "        return 1\n",
    "\n",
    "# ana program\n",
    "n = 5\n",
    "print(iki_us(n))"
   ]
  },
  {
   "cell_type": "code",
   "execution_count": 45,
   "metadata": {},
   "outputs": [
    {
     "name": "stdout",
     "output_type": "stream",
     "text": [
      "I love you ❤\n"
     ]
    }
   ],
   "source": [
    "# keywords arguments örneğimiz\n",
    "def texter(text1,text2,text3,text4):\n",
    "    return f\"{text2} {text3} {text1} {text4}\"\n",
    "\n",
    "print(texter(\"you\",\"I\",\"love\",\"❤\")) "
   ]
  },
  {
   "cell_type": "code",
   "execution_count": 46,
   "metadata": {},
   "outputs": [
    {
     "name": "stdout",
     "output_type": "stream",
     "text": [
      "I love you\n"
     ]
    }
   ],
   "source": [
    "# keywords arguments örneğimiz\n",
    "def texter(text1,text2,text3):\n",
    "    return f\"{text2} {text3} {text1}\"\n",
    "\n",
    "print(texter(text1=\"you\",text2=\"I\",text3=\"love\")) "
   ]
  },
  {
   "cell_type": "code",
   "execution_count": 47,
   "metadata": {},
   "outputs": [
    {
     "name": "stdout",
     "output_type": "stream",
     "text": [
      "-- This parrot wouldn't voom if you put 1000 volts through it.\n",
      "-- Lovely plumage, the Norwegian Blue\n",
      "-- It's a stiff !\n"
     ]
    }
   ],
   "source": [
    "def parrot(voltage, state='a stiff', action='voom', type='Norwegian Blue'):\n",
    "    print(\"-- This parrot wouldn't\", action, end=' ')\n",
    "    print(\"if you put\", voltage, \"volts through it.\")\n",
    "    print(\"-- Lovely plumage, the\", type)\n",
    "    print(\"-- It's\", state, \"!\")\n",
    "\n",
    "parrot(1000)"
   ]
  },
  {
   "cell_type": "code",
   "execution_count": 53,
   "metadata": {},
   "outputs": [
    {
     "ename": "SyntaxError",
     "evalue": "invalid syntax (1794267811.py, line 1)",
     "output_type": "error",
     "traceback": [
      "\u001b[1;36m  Input \u001b[1;32mIn [53]\u001b[1;36m\u001b[0m\n\u001b[1;33m    def parrot(voltage, state='a stiff', action='voom', is='Norwegian Blue'):\u001b[0m\n\u001b[1;37m                                                        ^\u001b[0m\n\u001b[1;31mSyntaxError\u001b[0m\u001b[1;31m:\u001b[0m invalid syntax\n"
     ]
    }
   ],
   "source": [
    "def parrot(voltage, state='a stiff', action='voom', is='Norwegian Blue'):\n",
    "    print(\"-- This parrot wouldn't\", action, end=' ')\n",
    "    print(\"if you put\", voltage, \"volts through it.\")\n",
    "    print(\"-- Lovely plumage, the\", is)  # is keyword listesinde oldugundan degisken ismi olmaz\n",
    "    print(\"-- It's\", state, \"!\")\n",
    "\n",
    "parrot(1000)"
   ]
  },
  {
   "cell_type": "code",
   "execution_count": 51,
   "metadata": {},
   "outputs": [
    {
     "data": {
      "text/plain": [
       "['False',\n",
       " 'None',\n",
       " 'True',\n",
       " 'and',\n",
       " 'as',\n",
       " 'assert',\n",
       " 'async',\n",
       " 'await',\n",
       " 'break',\n",
       " 'class',\n",
       " 'continue',\n",
       " 'def',\n",
       " 'del',\n",
       " 'elif',\n",
       " 'else',\n",
       " 'except',\n",
       " 'finally',\n",
       " 'for',\n",
       " 'from',\n",
       " 'global',\n",
       " 'if',\n",
       " 'import',\n",
       " 'in',\n",
       " 'is',\n",
       " 'lambda',\n",
       " 'nonlocal',\n",
       " 'not',\n",
       " 'or',\n",
       " 'pass',\n",
       " 'raise',\n",
       " 'return',\n",
       " 'try',\n",
       " 'while',\n",
       " 'with',\n",
       " 'yield']"
      ]
     },
     "execution_count": 51,
     "metadata": {},
     "output_type": "execute_result"
    }
   ],
   "source": [
    "import keyword\n",
    "keyword.kwlist"
   ]
  },
  {
   "cell_type": "code",
   "execution_count": 54,
   "metadata": {},
   "outputs": [
    {
     "name": "stdout",
     "output_type": "stream",
     "text": [
      "-- This parrot wouldn't voom if you put 500 volts through it.\n",
      "-- Lovely plumage, the Norwegian Blue\n",
      "-- It's a stiff !\n"
     ]
    }
   ],
   "source": [
    "def parrot(voltage, state='a stiff', action='voom', type='Norwegian Blue'):\n",
    "    print(\"-- This parrot wouldn't\", action, end=' ')\n",
    "    print(\"if you put\", voltage, \"volts through it.\")\n",
    "    print(\"-- Lovely plumage, the\", type)\n",
    "    print(\"-- It's\", state, \"!\")\n",
    "\n",
    "parrot(voltage = 500) # voltage is a kwargs"
   ]
  },
  {
   "cell_type": "code",
   "execution_count": 56,
   "metadata": {},
   "outputs": [
    {
     "name": "stdout",
     "output_type": "stream",
     "text": [
      "-- This parrot wouldn't VOOOM! if you put 500 volts through it.\n",
      "-- Lovely plumage, the Norwegian Blue\n",
      "-- It's a stiff !\n"
     ]
    }
   ],
   "source": [
    "def parrot(voltage, state='a stiff', action='voom', type='Norwegian Blue'):\n",
    "    print(\"-- This parrot wouldn't\", action, end=' ')\n",
    "    print(\"if you put\", voltage, \"volts through it.\")\n",
    "    print(\"-- Lovely plumage, the\", type)\n",
    "    print(\"-- It's\", state, \"!\")\n",
    "\n",
    "parrot(500, action =\"VOOOM!\") "
   ]
  },
  {
   "cell_type": "code",
   "execution_count": 57,
   "metadata": {},
   "outputs": [
    {
     "ename": "SyntaxError",
     "evalue": "positional argument follows keyword argument (2115249715.py, line 7)",
     "output_type": "error",
     "traceback": [
      "\u001b[1;36m  Input \u001b[1;32mIn [57]\u001b[1;36m\u001b[0m\n\u001b[1;33m    parrot(action =\"VOOOM!\", 500) ##voltage is a positional args\u001b[0m\n\u001b[1;37m                                ^\u001b[0m\n\u001b[1;31mSyntaxError\u001b[0m\u001b[1;31m:\u001b[0m positional argument follows keyword argument\n"
     ]
    }
   ],
   "source": [
    "def parrot(voltage, state='a stiff', action='voom', type='Norwegian Blue'):\n",
    "    print(\"-- This parrot wouldn't\", action, end=' ')\n",
    "    print(\"if you put\", voltage, \"volts through it.\")\n",
    "    print(\"-- Lovely plumage, the\", type)\n",
    "    print(\"-- It's\", state, \"!\")\n",
    "\n",
    "parrot(action =\"VOOOM!\", 500) ##voltage is a positional args"
   ]
  },
  {
   "cell_type": "code",
   "execution_count": 58,
   "metadata": {},
   "outputs": [
    {
     "name": "stdout",
     "output_type": "stream",
     "text": [
      "-- This parrot wouldn't VOOOM! if you put 500 volts through it.\n",
      "-- Lovely plumage, the Norwegian Blue\n",
      "-- It's a stiff !\n"
     ]
    }
   ],
   "source": [
    "def parrot(voltage, state='a stiff', action='voom', type='Norwegian Blue'):\n",
    "    print(\"-- This parrot wouldn't\", action, end=' ')\n",
    "    print(\"if you put\", voltage, \"volts through it.\")\n",
    "    print(\"-- Lovely plumage, the\", type)\n",
    "    print(\"-- It's\", state, \"!\")\n",
    "\n",
    "parrot(action =\"VOOOM!\", voltage= 500) ##voltage is a kwargs"
   ]
  },
  {
   "cell_type": "code",
   "execution_count": 59,
   "metadata": {},
   "outputs": [
    {
     "ename": "SyntaxError",
     "evalue": "non-default argument follows default argument (352139725.py, line 1)",
     "output_type": "error",
     "traceback": [
      "\u001b[1;36m  Input \u001b[1;32mIn [59]\u001b[1;36m\u001b[0m\n\u001b[1;33m    def parrot(state='a stiff', action='voom', type='Norwegian Blue', voltage):\u001b[0m\n\u001b[1;37m                                                                      ^\u001b[0m\n\u001b[1;31mSyntaxError\u001b[0m\u001b[1;31m:\u001b[0m non-default argument follows default argument\n"
     ]
    }
   ],
   "source": [
    "def parrot(state='a stiff', action='voom', type='Norwegian Blue', voltage):\n",
    "    print(\"-- This parrot wouldn't\", action, end=' ')\n",
    "    print(\"if you put\", voltage, \"volts through it.\")\n",
    "    print(\"-- Lovely plumage, the\", type)\n",
    "    print(\"-- It's\", state, \"!\")\n",
    "\n",
    "parrot(voltage=500, action =\"VOOOM!\") ##voltage is a kwargs"
   ]
  },
  {
   "cell_type": "code",
   "execution_count": 60,
   "metadata": {},
   "outputs": [
    {
     "name": "stdout",
     "output_type": "stream",
     "text": [
      "-- This parrot wouldn't jump if you put a million volts through it.\n",
      "-- Lovely plumage, the Norwegian Blue\n",
      "-- It's bereft of life !\n"
     ]
    }
   ],
   "source": [
    "def parrot(voltage, state='a stiff', action='voom', type='Norwegian Blue'):\n",
    "    print(\"-- This parrot wouldn't\", action, end=' ')\n",
    "    print(\"if you put\", voltage, \"volts through it.\")\n",
    "    print(\"-- Lovely plumage, the\", type)\n",
    "    print(\"-- It's\", state, \"!\")\n",
    "\n",
    "parrot(\"a million\", \"bereft of life\", \"jump\") ##positional args."
   ]
  },
  {
   "cell_type": "code",
   "execution_count": 61,
   "metadata": {},
   "outputs": [
    {
     "name": "stdout",
     "output_type": "stream",
     "text": [
      "-- This parrot wouldn't voom if you put a thousand volts through it.\n",
      "-- Lovely plumage, the Norwegian Blue\n",
      "-- It's bereft of life !\n"
     ]
    }
   ],
   "source": [
    "def parrot(voltage, state='a stiff', action='voom', type='Norwegian Blue'):\n",
    "    print(\"-- This parrot wouldn't\", action, end=' ')\n",
    "    print(\"if you put\", voltage, \"volts through it.\")\n",
    "    print(\"-- Lovely plumage, the\", type)\n",
    "    print(\"-- It's\", state, \"!\")\n",
    "\n",
    "parrot(\"a thousand\", state =\"bereft of life\") ##args, kwargs."
   ]
  },
  {
   "cell_type": "code",
   "execution_count": 62,
   "metadata": {},
   "outputs": [
    {
     "ename": "SyntaxError",
     "evalue": "positional argument follows keyword argument (3643339910.py, line 7)",
     "output_type": "error",
     "traceback": [
      "\u001b[1;36m  Input \u001b[1;32mIn [62]\u001b[1;36m\u001b[0m\n\u001b[1;33m    parrot(state =\"bereft of life\", \"a thousand\") ##args, kwargs.\u001b[0m\n\u001b[1;37m                                                ^\u001b[0m\n\u001b[1;31mSyntaxError\u001b[0m\u001b[1;31m:\u001b[0m positional argument follows keyword argument\n"
     ]
    }
   ],
   "source": [
    "def parrot(voltage, state='a stiff', action='voom', type='Norwegian Blue'):\n",
    "    print(\"-- This parrot wouldn't\", action, end=' ')\n",
    "    print(\"if you put\", voltage, \"volts through it.\")\n",
    "    print(\"-- Lovely plumage, the\", type)\n",
    "    print(\"-- It's\", state, \"!\")\n",
    "\n",
    "parrot(state =\"bereft of life\", \"a thousand\") ##args, kwargs."
   ]
  },
  {
   "cell_type": "code",
   "execution_count": 63,
   "metadata": {},
   "outputs": [
    {
     "ename": "SyntaxError",
     "evalue": "positional argument follows keyword argument (3801070336.py, line 7)",
     "output_type": "error",
     "traceback": [
      "\u001b[1;36m  Input \u001b[1;32mIn [63]\u001b[1;36m\u001b[0m\n\u001b[1;33m    parrot(voltage =\"bereft of life\", \"a thousand\") ##takip önemli......\u001b[0m\n\u001b[1;37m                                                  ^\u001b[0m\n\u001b[1;31mSyntaxError\u001b[0m\u001b[1;31m:\u001b[0m positional argument follows keyword argument\n"
     ]
    }
   ],
   "source": [
    "def parrot(voltage, state='a stiff', action='voom', type='Norwegian Blue'):\n",
    "    print(\"-- This parrot wouldn't\", action, end=' ')\n",
    "    print(\"if you put\", voltage, \"volts through it.\")\n",
    "    print(\"-- Lovely plumage, the\", type)\n",
    "    print(\"-- It's\", state, \"!\")\n",
    "\n",
    "parrot(voltage =\"bereft of life\", \"a thousand\") ##takip önemli......"
   ]
  },
  {
   "cell_type": "markdown",
   "metadata": {},
   "source": [
    "çağırırken de tanımlarken de positional argümanlar önce yazılır. keyword argümanlar sonra"
   ]
  },
  {
   "cell_type": "code",
   "execution_count": 1,
   "metadata": {},
   "outputs": [
    {
     "ename": "TypeError",
     "evalue": "function() got multiple values for argument 'a'",
     "output_type": "error",
     "traceback": [
      "\u001b[1;31m---------------------------------------------------------------------------\u001b[0m",
      "\u001b[1;31mTypeError\u001b[0m                                 Traceback (most recent call last)",
      "\u001b[1;32mc:\\Users\\uksal\\Desktop\\Meine_Dokumente\\Tag_15.ipynb Cell 37'\u001b[0m in \u001b[0;36m<cell line: 5>\u001b[1;34m()\u001b[0m\n\u001b[0;32m      <a href='vscode-notebook-cell:/c%3A/Users/uksal/Desktop/Meine_Dokumente/Tag_15.ipynb#ch0000036?line=1'>2</a>\u001b[0m     \u001b[39mpass\u001b[39;00m\n\u001b[0;32m      <a href='vscode-notebook-cell:/c%3A/Users/uksal/Desktop/Meine_Dokumente/Tag_15.ipynb#ch0000036?line=3'>4</a>\u001b[0m \u001b[39m#ana program\u001b[39;00m\n\u001b[1;32m----> <a href='vscode-notebook-cell:/c%3A/Users/uksal/Desktop/Meine_Dokumente/Tag_15.ipynb#ch0000036?line=4'>5</a>\u001b[0m function(\u001b[39m0\u001b[39;49m, a\u001b[39m=\u001b[39;49m\u001b[39m0\u001b[39;49m)\n",
      "\u001b[1;31mTypeError\u001b[0m: function() got multiple values for argument 'a'"
     ]
    }
   ],
   "source": [
    "def function(a):   # 1 tane tanimlandi 2 tane cagrildi\n",
    "    pass\n",
    "\n",
    "# ana program\n",
    "function(0, a=0)"
   ]
  },
  {
   "cell_type": "markdown",
   "metadata": {},
   "source": [
    "# joker karakterler: *args | **kwargs\n",
    "# * : positional için birden fazla argüman yerine geçer\n",
    "# ** : keyword argümanlar için birden fazla argüman yerine geçer"
   ]
  },
  {
   "cell_type": "code",
   "execution_count": 2,
   "metadata": {},
   "outputs": [
    {
     "name": "stdout",
     "output_type": "stream",
     "text": [
      "I want to get banana and orange\n"
     ]
    }
   ],
   "source": [
    "def fruiter(fruit1, fruit2):\n",
    "    print(\"I want to get\", fruit1, 'and', fruit2)\n",
    "\n",
    "fruiter(\"banana\", \"orange\")"
   ]
  },
  {
   "cell_type": "code",
   "execution_count": 3,
   "metadata": {},
   "outputs": [
    {
     "ename": "NameError",
     "evalue": "name 'fruit1' is not defined",
     "output_type": "error",
     "traceback": [
      "\u001b[1;31m---------------------------------------------------------------------------\u001b[0m",
      "\u001b[1;31mNameError\u001b[0m                                 Traceback (most recent call last)",
      "\u001b[1;32mc:\\Users\\uksal\\Desktop\\Meine_Dokumente\\Tag_15.ipynb Cell 39'\u001b[0m in \u001b[0;36m<cell line: 5>\u001b[1;34m()\u001b[0m\n\u001b[0;32m      <a href='vscode-notebook-cell:/c%3A/Users/uksal/Desktop/Meine_Dokumente/Tag_15.ipynb#ch0000038?line=1'>2</a>\u001b[0m     \u001b[39mprint\u001b[39m(\u001b[39m\"\u001b[39m\u001b[39mI want to get\u001b[39m\u001b[39m\"\u001b[39m, fruit1, \u001b[39m'\u001b[39m\u001b[39mand\u001b[39m\u001b[39m'\u001b[39m, fruit2)\n\u001b[0;32m      <a href='vscode-notebook-cell:/c%3A/Users/uksal/Desktop/Meine_Dokumente/Tag_15.ipynb#ch0000038?line=3'>4</a>\u001b[0m \u001b[39m##ana program\u001b[39;00m\n\u001b[1;32m----> <a href='vscode-notebook-cell:/c%3A/Users/uksal/Desktop/Meine_Dokumente/Tag_15.ipynb#ch0000038?line=4'>5</a>\u001b[0m fruiter(\u001b[39m\"\u001b[39;49m\u001b[39mbanana\u001b[39;49m\u001b[39m\"\u001b[39;49m, \u001b[39m\"\u001b[39;49m\u001b[39morange\u001b[39;49m\u001b[39m\"\u001b[39;49m)\n",
      "\u001b[1;32mc:\\Users\\uksal\\Desktop\\Meine_Dokumente\\Tag_15.ipynb Cell 39'\u001b[0m in \u001b[0;36mfruiter\u001b[1;34m(*args)\u001b[0m\n\u001b[0;32m      <a href='vscode-notebook-cell:/c%3A/Users/uksal/Desktop/Meine_Dokumente/Tag_15.ipynb#ch0000038?line=0'>1</a>\u001b[0m \u001b[39mdef\u001b[39;00m \u001b[39mfruiter\u001b[39m(\u001b[39m*\u001b[39margs):\n\u001b[1;32m----> <a href='vscode-notebook-cell:/c%3A/Users/uksal/Desktop/Meine_Dokumente/Tag_15.ipynb#ch0000038?line=1'>2</a>\u001b[0m     \u001b[39mprint\u001b[39m(\u001b[39m\"\u001b[39m\u001b[39mI want to get\u001b[39m\u001b[39m\"\u001b[39m, fruit1, \u001b[39m'\u001b[39m\u001b[39mand\u001b[39m\u001b[39m'\u001b[39m, fruit2)\n",
      "\u001b[1;31mNameError\u001b[0m: name 'fruit1' is not defined"
     ]
    }
   ],
   "source": [
    "def fruiter(*args):\n",
    "    print(\"I want to get\", fruit1, 'and', fruit2)\n",
    "\n",
    "##ana program\n",
    "fruiter(\"banana\", \"orange\")"
   ]
  },
  {
   "cell_type": "code",
   "execution_count": 4,
   "metadata": {},
   "outputs": [
    {
     "name": "stdout",
     "output_type": "stream",
     "text": [
      "I want to get ('banana', 'orange') and ('banana', 'orange')\n"
     ]
    }
   ],
   "source": [
    "def fruiter(*args):\n",
    "    print(\"I want to get\", args, 'and',args)\n",
    "\n",
    "# ana program\n",
    "fruiter(\"banana\", \"orange\")"
   ]
  },
  {
   "cell_type": "code",
   "execution_count": 5,
   "metadata": {},
   "outputs": [
    {
     "name": "stdout",
     "output_type": "stream",
     "text": [
      "I want to get banana and orange\n"
     ]
    }
   ],
   "source": [
    "def fruiter(*args):\n",
    "    print(\"I want to get\", args[0], 'and',args[1])\n",
    "\n",
    "# ana program\n",
    "fruiter(\"banana\", \"orange\")"
   ]
  },
  {
   "cell_type": "code",
   "execution_count": 6,
   "metadata": {},
   "outputs": [
    {
     "name": "stdout",
     "output_type": "stream",
     "text": [
      "I want to get banana and orange and "
     ]
    }
   ],
   "source": [
    "def fruiter(*args):\n",
    "    print(\"I want to get\", end=\" \")\n",
    "    for i in args:\n",
    "        print(i, \"and\", end=\" \")\n",
    "        \n",
    "\n",
    "# ana program\n",
    "fruiter(\"banana\", \"orange\")"
   ]
  },
  {
   "cell_type": "code",
   "execution_count": 7,
   "metadata": {},
   "outputs": [
    {
     "name": "stdout",
     "output_type": "stream",
     "text": [
      "I want to get banana and orange\n"
     ]
    }
   ],
   "source": [
    "def fruiter(*args):\n",
    "    t = \"I want to get \"\n",
    "    for i in args:\n",
    "        t = t + i + \" and \"\n",
    "    print(t.strip(\"and \")) # son 'and' silindi\n",
    "    \n",
    "# ana program\n",
    "fruiter(\"banana\", \"orange\")"
   ]
  },
  {
   "cell_type": "code",
   "execution_count": 8,
   "metadata": {},
   "outputs": [
    {
     "name": "stdout",
     "output_type": "stream",
     "text": [
      "Even list : [2, 4, 6, 8, 10]\n",
      "Odd list : [1, 3, 5, 7, 9]\n"
     ]
    }
   ],
   "source": [
    "def slicer(*args):\n",
    "    evens = []\n",
    "    odds = []\n",
    "    for i in args:\n",
    "        if i %2 ==0:\n",
    "            evens.append(i)\n",
    "        else:\n",
    "            odds.append(i)\n",
    "    \n",
    "    print(\"Even list :\", evens)\n",
    "    print(\"Odd list :\", odds)\n",
    "\n",
    "# ana program\n",
    "slicer(1,2,3,4,5,6,7,8,9,10)"
   ]
  },
  {
   "cell_type": "code",
   "execution_count": 10,
   "metadata": {},
   "outputs": [
    {
     "name": "stdout",
     "output_type": "stream",
     "text": [
      "even list: [2, 4, 6, 8] \n",
      "odd list:  [1, 3, 5, 7, 9]\n"
     ]
    }
   ],
   "source": [
    "# Ahmet beyin çözümü:\n",
    "def slicer (*args):\n",
    "    even_list = [i for i in args if i %2 == 0]\n",
    "    odd_list=[i for i in args if i %2 != 0]\n",
    "    print (\"even list:\", even_list, \"\\nodd list: \", odd_list)\n",
    "\n",
    "slicer(1,2,3,4,5,6,7,8,9)"
   ]
  },
  {
   "cell_type": "code",
   "execution_count": 12,
   "metadata": {},
   "outputs": [
    {
     "name": "stdout",
     "output_type": "stream",
     "text": [
      "Lions are Carnivores\n",
      "Bears are Omnivores\n",
      "Deers are Herbivores\n",
      "Human are Nomnivores\n"
     ]
    }
   ],
   "source": [
    "def animals(**kwargs):\n",
    "    for key, value in kwargs.items():\n",
    "        print(value, \"are\", key)\n",
    "        \n",
    "\n",
    "# fonksiyon çağrılıyor\n",
    "animals(Carnivores=\"Lions\", Omnivores=\"Bears\", Herbivores=\"Deers\", Nomnivores=\"Human\" )"
   ]
  },
  {
   "cell_type": "code",
   "execution_count": 13,
   "metadata": {},
   "outputs": [
    {
     "name": "stdout",
     "output_type": "stream",
     "text": [
      "['Beath', 'Oscar', 'Dustin', 'Frank']\n",
      "[26, 42, 18, 33]\n"
     ]
    }
   ],
   "source": [
    "def organizer(**people):\n",
    "    names=[]\n",
    "    ages=[]\n",
    "    for key, value in people.items():\n",
    "        names.append(key)\n",
    "        ages.append(value)\n",
    "\n",
    "    print(names, ages, sep=\"\\n\")\n",
    "\n",
    "\n",
    "organizer(Beath=26, Oscar=42, Dustin=18, Frank=33)"
   ]
  },
  {
   "cell_type": "code",
   "execution_count": 14,
   "metadata": {},
   "outputs": [
    {
     "name": "stdout",
     "output_type": "stream",
     "text": [
      "Here are the names of brothers\n",
      "tom\n",
      "susan\n",
      "tim\n"
     ]
    }
   ],
   "source": [
    "def brothers(bro1, bro2, bro3):\n",
    "    print(\"Here are the names of brothers\")\n",
    "    print(bro1, bro2, bro3, sep=\"\\n\")\n",
    "\n",
    "# ana program\n",
    "liste = ['tom', 'susan', 'tim']\n",
    "brothers(*liste)"
   ]
  }
 ],
 "metadata": {
  "interpreter": {
   "hash": "f463fb0420b168889ef2901ced46399e46ddb0d0cd01bfcedb393030078e9b34"
  },
  "kernelspec": {
   "display_name": "Python 3.10.2 64-bit",
   "language": "python",
   "name": "python3"
  },
  "language_info": {
   "codemirror_mode": {
    "name": "ipython",
    "version": 3
   },
   "file_extension": ".py",
   "mimetype": "text/x-python",
   "name": "python",
   "nbconvert_exporter": "python",
   "pygments_lexer": "ipython3",
   "version": "3.10.2"
  },
  "orig_nbformat": 4
 },
 "nbformat": 4,
 "nbformat_minor": 2
}
