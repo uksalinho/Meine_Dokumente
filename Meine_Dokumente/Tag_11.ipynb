{
 "cells": [
  {
   "cell_type": "markdown",
   "metadata": {},
   "source": [
    "10 Mart 2022 Python Bacis, Loops"
   ]
  },
  {
   "cell_type": "markdown",
   "metadata": {},
   "source": [
    "!= esit degildir demek"
   ]
  },
  {
   "cell_type": "code",
   "execution_count": 1,
   "metadata": {},
   "outputs": [
    {
     "name": "stdout",
     "output_type": "stream",
     "text": [
      "It works\n"
     ]
    }
   ],
   "source": [
    "condition = ( 3 > 1) and ( 1 < 1 )\n",
    "if 'condition' :    # iki condition farkli yazilmis. burda yazan '' icinde yani ici dolu string ifade yani True. Yukardaki kosula bakmaz bile\n",
    "    print( 'It works')\n",
    "else:\n",
    "    print('Somethink is wrong')\n"
   ]
  },
  {
   "cell_type": "markdown",
   "metadata": {},
   "source": [
    "if (1,2) :\n",
    "    print('foo')\n",
    "\n",
    "if (1,2) :\n",
    " print('foo')\n",
    "\n",
    " if (1,2) : print('foo')  # Tek islemse olur\n",
    "\n",
    "if (1,2) :    # en güzeli ilki olsa da 3ü de kabul edilir. ama sonuncusu olmaz. Kesinlikle girinti olmali \n",
    "print('foo')"
   ]
  },
  {
   "cell_type": "markdown",
   "metadata": {},
   "source": [
    "LOOPS = Döngüler\n",
    "while Loop: Count the iterator ( Kosula bagli olarak gerceklestigi sürece islemi yap)\n",
    "for Loop: Check the condition ( Tekrar sayisi bastan belli ise )"
   ]
  },
  {
   "cell_type": "markdown",
   "metadata": {},
   "source": [
    "while condition:   # : isareti ve alt satirda girinti olmali \n",
    "    body           # : kosul gerceklestigi sürece islemi yapiyor"
   ]
  },
  {
   "cell_type": "code",
   "execution_count": 3,
   "metadata": {},
   "outputs": [
    {
     "name": "stdout",
     "output_type": "stream",
     "text": [
      "0\n",
      "1\n",
      "2\n",
      "3\n",
      "4\n",
      "5\n",
      "now, number is bigger or equal to 6\n"
     ]
    }
   ],
   "source": [
    "number = 0 \n",
    "while number < 6:\n",
    "    print(number)\n",
    "    number += 1\n",
    "print ('now, number is bigger or equal to 6')"
   ]
  },
  {
   "cell_type": "code",
   "execution_count": 5,
   "metadata": {},
   "outputs": [
    {
     "name": "stdout",
     "output_type": "stream",
     "text": [
      "square of 0 is: 0\n",
      "square of 1 is: 1\n",
      "square of 2 is: 4\n",
      "square of 3 is: 9\n",
      "square of 4 is: 16\n"
     ]
    }
   ],
   "source": [
    "my_list = [\"a\", \"b\", \"c\", \"d\", \"e\"]\n",
    "a = 0  # döngü değişkeni: sayaç amaçlı kullanılıyor\n",
    "while a < len(my_list):\n",
    "    print(\"square of {} is: {}\".format(a, a**2))\n",
    "    a += 1\n"
   ]
  },
  {
   "cell_type": "code",
   "execution_count": 3,
   "metadata": {},
   "outputs": [
    {
     "name": "stdout",
     "output_type": "stream",
     "text": [
      "Lütfen, düzgün yaş değeri giriniz..\n",
      "Bravo!, Doğru yaş değeri girdiniz 31\n"
     ]
    }
   ],
   "source": [
    "# Girilen yaş değerinin geçerli olup olmadığını test edelim\n",
    "age = input(\"Yaş değeri giriniz..:\")\n",
    "while not age.isdigit():  # kosul dogru oldugunda islemden cikiyor. 5 yazdim => evet digit => not olunca false => yani döngüden cik \n",
    "    print(\"Lütfen, düzgün yaş değeri giriniz..\")\n",
    "    age = input(\"Lütfen, tekrar yaş değeri giriniz..:\")\n",
    "\n",
    "print(\"Bravo!, Doğru yaş değeri girdiniz\", age)"
   ]
  },
  {
   "cell_type": "code",
   "execution_count": 6,
   "metadata": {},
   "outputs": [
    {
     "name": "stdout",
     "output_type": "stream",
     "text": [
      "Bravo!, Doğru yaş değeri girdiniz 1907\n"
     ]
    }
   ],
   "source": [
    "age = input(\"Yaş değeri giriniz..:\").strip()  # boşlukları kaldır\n",
    "while not age.isdigit():\n",
    "    print(\"Lütfen, düzgün yaş değeri giriniz..\")\n",
    "    age = input(\"Lütfen, tekrar yaş değeri giriniz..:\")\n",
    "\n",
    "print(\"Bravo!, Doğru yaş değeri girdiniz\", age)"
   ]
  },
  {
   "cell_type": "code",
   "execution_count": 11,
   "metadata": {},
   "outputs": [
    {
     "name": "stdout",
     "output_type": "stream",
     "text": [
      "Bravo!, Doğru yaş değeri girdiniz  18  \n"
     ]
    }
   ],
   "source": [
    "age = input(\"Yaş değeri giriniz..:\")\n",
    "while not age.strip().isdigit(): # boşlukları kaldır\n",
    "    print(\"Lütfen, düzgün yaş değeri giriniz..\")\n",
    "    age = input(\"Lütfen, tekrar yaş değeri giriniz..:\")\n",
    "\n",
    "print(\"Bravo!, Doğru yaş değeri girdiniz\", age)"
   ]
  },
  {
   "cell_type": "code",
   "execution_count": 7,
   "metadata": {},
   "outputs": [
    {
     "name": "stdout",
     "output_type": "stream",
     "text": [
      "0 2 4 6 8 "
     ]
    }
   ],
   "source": [
    "a = 0\n",
    "while a <= 50:\n",
    "    print(a, end=\" \")\n",
    "    a += 2\n",
    "    if a == 10:  \n",
    "        break  # döngüyü kırar ve döngü terk edilir."
   ]
  },
  {
   "cell_type": "code",
   "execution_count": 24,
   "metadata": {},
   "outputs": [
    {
     "name": "stdout",
     "output_type": "stream",
     "text": [
      "Sayı Tahmin Oyunu\n",
      "Daha büyük bir sayı giriniz..\n",
      "Daha büyük bir sayı giriniz..\n",
      "Daha küçük sayı giriniz..\n",
      "Bravo!, bildiniz...\n"
     ]
    }
   ],
   "source": [
    "answer = 44  ## random.randint(1,99) rastgele değer atanabilir!\n",
    "print(\"Sayı Tahmin Oyunu\")\n",
    "question = \"İki Basamaklı sayı tahmininizi girin..:\"\n",
    "while True: ## Sonsuz döngü\n",
    "    tahmin = int(input(question))\n",
    "    if tahmin == answer:\n",
    "        print(\"Bravo!, bildiniz...\")\n",
    "        break  ## Döngüyü terket\n",
    "    elif tahmin > answer:\n",
    "        print(\"Daha küçük sayı giriniz..\")\n",
    "    else:\n",
    "        print(\"Daha büyük bir sayı giriniz..\")"
   ]
  },
  {
   "cell_type": "code",
   "execution_count": 28,
   "metadata": {},
   "outputs": [
    {
     "name": "stdout",
     "output_type": "stream",
     "text": [
      "Sayı Tahmin Oyunu\n",
      "Daha büyük bir sayı giriniz..\n",
      "Daha küçük sayı giriniz..\n",
      "Bravo!, 3. tahminde bildiniz...\n",
      "Skorunuz..:  80\n"
     ]
    }
   ],
   "source": [
    "answer = 44  ## yukardakinin sayac ile puanli hali\n",
    "print(\"Sayı Tahmin Oyunu\")\n",
    "question = \"İki Basamaklı sayı tahmininizi girin..:\"\n",
    "puan = 100\n",
    "sayac = 0  ## tahmin sayısı\n",
    "while True: ## Sonsuz döngü\n",
    "    tahmin = int(input(question))\n",
    "    sayac = sayac + 1\n",
    "    if tahmin == answer:\n",
    "        print(\"Bravo!, {}. tahminde bildiniz...\".format(sayac))\n",
    "        break  ## Döngüyü terket\n",
    "    elif tahmin > answer:\n",
    "        print(\"Daha küçük sayı giriniz..\")\n",
    "    else:\n",
    "        print(\"Daha büyük bir sayı giriniz..\")\n",
    "    puan = puan - 10\n",
    "\n",
    "print(\"Skorunuz..: \", puan)"
   ]
  },
  {
   "cell_type": "code",
   "execution_count": 14,
   "metadata": {},
   "outputs": [
    {
     "name": "stdout",
     "output_type": "stream",
     "text": [
      "['Ali', 'uzunkavak', 'altında', 'uyumazoğlu']\n",
      "En uzun kelimenin uzunluğu..: 10\n"
     ]
    }
   ],
   "source": [
    "# Bir cümledeki en uzun kelimenin uzunluğunu alalım: Sürüm-1\n",
    "cumle = \"Ali uzunkavak altında uyumazoğlu\"\n",
    "words = cumle.split()  # bosluklara göre cümleyi böldü\n",
    "print(words)  # bölünmüs halini yazar\n",
    "s = 0\n",
    "kelime_uz = 0  # kelime uzunlugu\n",
    "while s < len(words): ## 0, 1, 2, 3 (cumledeki kelime sayısı kadar tekrarla!)\n",
    "    if len(words[s]) > kelime_uz:\n",
    "        kelime_uz = len(words[s])  # en uzun kelime bulma\n",
    "    s += 1\n",
    "print(\"En uzun kelimenin uzunluğu..:\", kelime_uz)"
   ]
  },
  {
   "cell_type": "code",
   "execution_count": 30,
   "metadata": {},
   "outputs": [
    {
     "name": "stdout",
     "output_type": "stream",
     "text": [
      "['Ali', 'uzun', 'kavak', 'altında', 'uyumazoğlu']\n",
      "En uzun kelimenin uzunluğu..: 10\n",
      "en uzun kelime.. uyumazoğlu\n"
     ]
    }
   ],
   "source": [
    "# Bir cümledeki en uzun kelimenin uzunluğunu alalım: Sürüm-2\n",
    "# Döngüsüz çözüm: pythonic yol\n",
    "cumle = \"Ali uzun kavak altında uyumazoğlu \"\n",
    "words = cumle.split()\n",
    "print(words)\n",
    "kelime_uz = len(max(words, key=len))  # key anahtar = yazarak neyi istiyorsam yazarim. len'e göre bak dedim\n",
    "kelime = max(words, key=len)\n",
    "print(\"En uzun kelimenin uzunluğu..:\", kelime_uz)\n",
    "print(\"en uzun kelime..\", kelime)"
   ]
  },
  {
   "cell_type": "code",
   "execution_count": 33,
   "metadata": {},
   "outputs": [
    {
     "name": "stdout",
     "output_type": "stream",
     "text": [
      "['Ali', 'uzun', 'kavak', 'altında', 'uyumazoğlu', 'basariliym']\n",
      "En uzun kelimenin uzunluğu..: 10\n",
      "en uzun kelime.. uyumazoğlu\n",
      "uyumazoğlu\n"
     ]
    }
   ],
   "source": [
    "# Bir cümledeki en uzun kelimenin uzunluğunu alalım: Sürüm-2.2\n",
    "# Döngüsüz çözüm: pythonic yol\n",
    "cumle = \"Ali uzun kavak altında uyumazoğlu basariliym\"\n",
    "words = cumle.split()\n",
    "print(words)\n",
    "kelime_uz = len(max(words, key=len))  # key anahtardir. len'e göre bak\n",
    "kelime = max(words, key=len)\n",
    "print(\"En uzun kelimenin uzunluğu..:\", kelime_uz)\n",
    "print(\"en uzun kelime..\", kelime)\n",
    "print(max(words, key=len))  # basariliym ve uyumazoğlu kelime sayilari ayni ama u ile baslayani aldi"
   ]
  },
  {
   "cell_type": "code",
   "execution_count": 37,
   "metadata": {},
   "outputs": [
    {
     "name": "stdout",
     "output_type": "stream",
     "text": [
      "3\n",
      "the most frequent number is 3 and it was 4 times repeated.\n"
     ]
    }
   ],
   "source": [
    "# bir listede en sık tekrarlanan sayı ve tekrar sayısı...\n",
    "numbers = [1, 3, 6, 7, 4, 3, 0, 3, 6, 3, 6, 6]  # 6 da 4 adet var ama listede ilk önce 3ü gördügü icin onu yazdi\n",
    "key = max(numbers, key = numbers.count)  # en çok tekrar eden sayı: 3\n",
    "value = numbers.count(key)  # 3'ün tekrar sayısını verir: 4\n",
    "print(key)\n",
    "print (f\"the most frequent number is {key} and it was {value} times repeated.\")"
   ]
  },
  {
   "cell_type": "markdown",
   "metadata": {},
   "source": [
    "for variable in iterable:   # : isareti ve alt satirda girinti olmali. iterable yinelenebilir demek. list, dict, tuple, str, set\n",
    "    body"
   ]
  },
  {
   "cell_type": "code",
   "execution_count": 38,
   "metadata": {},
   "outputs": [
    {
     "name": "stdout",
     "output_type": "stream",
     "text": [
      "1\n",
      "2\n",
      "3\n",
      "4\n",
      "5\n"
     ]
    }
   ],
   "source": [
    "# Bir listenin elemanlarını alt alta listeler\n",
    "for i in [1, 2, 3, 4, 5] :  # Tekrar sayisi bastan belli oldugu icin for döngüsü kullanmak daha mantikli\n",
    "    print(i)"
   ]
  },
  {
   "cell_type": "code",
   "execution_count": 39,
   "metadata": {},
   "outputs": [
    {
     "name": "stdout",
     "output_type": "stream",
     "text": [
      "Oguzhan\n",
      "Oguzhan\n",
      "Oguzhan\n",
      "Oguzhan\n",
      "Oguzhan\n"
     ]
    }
   ],
   "source": [
    "# verilen bir ismi 5 kez ekrana yazdıralım\n",
    "for i in [1,2,3,4,5]:\n",
    "    print(\"Oguzhan\")"
   ]
  },
  {
   "cell_type": "code",
   "execution_count": 40,
   "metadata": {},
   "outputs": [
    {
     "name": "stdout",
     "output_type": "stream",
     "text": [
      "Oguzhan\n",
      "Oguzhan\n",
      "Oguzhan\n",
      "Oguzhan\n",
      "Oguzhan\n"
     ]
    }
   ],
   "source": [
    "# verilen bir ismi 5 kez ekrana yazdıralım\n",
    "for i in range(5): #  0,1,2,3,4\n",
    "    print(\"Oguzhan\")"
   ]
  },
  {
   "cell_type": "code",
   "execution_count": 45,
   "metadata": {},
   "outputs": [
    {
     "name": "stdout",
     "output_type": "stream",
     "text": [
      "spring\n",
      "summer\n",
      "autumn\n",
      "winter\n"
     ]
    }
   ],
   "source": [
    "seasons = ['spring', 'summer', 'autumn', 'winter']\n",
    "\n",
    "for season in seasons :  # bir listenin elemanlarini alt alta yazdirir\n",
    "    print(season)"
   ]
  },
  {
   "cell_type": "code",
   "execution_count": 46,
   "metadata": {},
   "outputs": [
    {
     "name": "stdout",
     "output_type": "stream",
     "text": [
      "hello Ahmed\n",
      "hello Volkan\n",
      "hello Birgül\n",
      "hello Edip\n",
      "hello Erkan\n",
      "hello Pakize\n",
      "hello Ferhat\n",
      "hello Enes\n",
      "hello Oğuzhan\n"
     ]
    }
   ],
   "source": [
    "names = [\"Ahmed\", \"Volkan\", \"Birgül\", \"Edip\", \"Erkan\", \"Pakize\", \"Ferhat\", \"Enes\", \"Oğuzhan\"]\n",
    "for name in names:        # name yerine hem bu satirda yani asagida da anlamsiz da olsa baska bir sey yazabilirim\n",
    "    print(\"hello\", name)"
   ]
  },
  {
   "cell_type": "code",
   "execution_count": 47,
   "metadata": {},
   "outputs": [
    {
     "name": "stdout",
     "output_type": "stream",
     "text": [
      "[1, 2, 3, 4, 5]\n"
     ]
    }
   ],
   "source": [
    "# for döngüsü ile listeye eleman ataması yaptık\n",
    "liste=[]\n",
    "for i in range(1,6) :\n",
    "    liste.append(i)\n",
    "print(liste)"
   ]
  },
  {
   "cell_type": "code",
   "execution_count": 23,
   "metadata": {},
   "outputs": [
    {
     "name": "stdout",
     "output_type": "stream",
     "text": [
      "c\n",
      "l\n",
      "a\n",
      "r\n",
      "u\n",
      "s\n",
      "w\n",
      "a\n",
      "y\n"
     ]
    }
   ],
   "source": [
    "# string karakterlerini tek tek alt alta yazdıralım\n",
    "string = 'clarusway'\n",
    "for i in string:\n",
    "    print(i)"
   ]
  },
  {
   "cell_type": "code",
   "execution_count": 25,
   "metadata": {},
   "outputs": [
    {
     "name": "stdout",
     "output_type": "stream",
     "text": [
      "c-l-a-r-u-s-w-a-y-"
     ]
    }
   ],
   "source": [
    "# string karakterlerini aralarına '-' ekleyerek yanyana yazdıralım\n",
    "string = \"clarusway\"\n",
    "for i in string:\n",
    "    print(i, end=\"-\")  # en sona da '-' yazdi"
   ]
  },
  {
   "cell_type": "code",
   "execution_count": 26,
   "metadata": {},
   "outputs": [
    {
     "name": "stdout",
     "output_type": "stream",
     "text": [
      "c-l-a-r-u-s-w-a-y\n"
     ]
    }
   ],
   "source": [
    "# üstteki sonda olan '-'yi silmek icin erkan beyin çözümü\n",
    "string = \"clarusway\"\n",
    "count = \"\"\n",
    "for i in string:\n",
    "    count += i + \"-\"\n",
    "\n",
    "print(count.strip(\"-\"))  # strip bastan sondan aramaya baslayip ilk bulduklarini siler"
   ]
  },
  {
   "cell_type": "code",
   "execution_count": 29,
   "metadata": {},
   "outputs": [
    {
     "name": "stdout",
     "output_type": "stream",
     "text": [
      "c-l-a-r-u-s-w-a-y"
     ]
    }
   ],
   "source": [
    "# üstteki sonda olan '-'yi silmek icin Çözüm-2\n",
    "string = \"clarusway\"\n",
    "count = 0\n",
    "for i in string:\n",
    "    count += 1\n",
    "    if count < len(string):\n",
    "        i = i+ \"-\"\n",
    "    print(i, end=\"\")"
   ]
  },
  {
   "cell_type": "code",
   "execution_count": 51,
   "metadata": {},
   "outputs": [
    {
     "name": "stdout",
     "output_type": "stream",
     "text": [
      "c-l-a-r-u-s-w-a-y\n"
     ]
    }
   ],
   "source": [
    "# Pythonic çözüm-3: '-'yi silmeyi döngü kullanmadan yapalım\n",
    "string = \"clarusway\"\n",
    "print(\"-\".join(string))"
   ]
  },
  {
   "cell_type": "code",
   "execution_count": 52,
   "metadata": {},
   "outputs": [
    {
     "name": "stdout",
     "output_type": "stream",
     "text": [
      "name\n",
      "surname\n",
      "age\n"
     ]
    }
   ],
   "source": [
    "user = {\n",
    "\t'name':'Daniel',\n",
    "\t'surname':'Smith',\n",
    "\t'age':35\n",
    "}\n",
    "\n",
    "for i in user:  # var sayilan olarak key alınır\n",
    "    print(i)"
   ]
  },
  {
   "cell_type": "code",
   "execution_count": 53,
   "metadata": {},
   "outputs": [
    {
     "name": "stdout",
     "output_type": "stream",
     "text": [
      "Daniel Smith 35 "
     ]
    }
   ],
   "source": [
    "user = {\n",
    "\t'name':'Daniel',\n",
    "\t'surname':'Smith',\n",
    "\t'age':35\n",
    "}\n",
    "\n",
    "for i in user.values():  # values alınır\n",
    "    print(i, end=\" \")"
   ]
  },
  {
   "cell_type": "code",
   "execution_count": 54,
   "metadata": {},
   "outputs": [
    {
     "name": "stdout",
     "output_type": "stream",
     "text": [
      "('name', 'Daniel')\n",
      "('surname', 'Smith')\n",
      "('age', 35)\n"
     ]
    }
   ],
   "source": [
    "user = {\n",
    "\t'name':'Daniel',\n",
    "\t'surname':'Smith',\n",
    "\t'age':35\n",
    "}\n",
    "\n",
    "for i in user.items():  # items(key,value) alınır\n",
    "    print(i)"
   ]
  },
  {
   "cell_type": "code",
   "execution_count": 31,
   "metadata": {},
   "outputs": [
    {
     "name": "stdout",
     "output_type": "stream",
     "text": [
      "name : Daniel\n",
      "surname : Smith\n",
      "age : 35\n"
     ]
    }
   ],
   "source": [
    "user = {\n",
    "\t'name':'Daniel',\n",
    "\t'surname':'Smith',\n",
    "\t'age':35\n",
    "}\n",
    "\n",
    "for k, v in user.items():  # key, value ayrı ayrı alınır\n",
    "    print(k, \":\", v)"
   ]
  },
  {
   "cell_type": "code",
   "execution_count": 33,
   "metadata": {},
   "outputs": [
    {
     "name": "stdout",
     "output_type": "stream",
     "text": [
      "0 2 4 6 8 10 12 14 16 18 20 22 24 26 28 30 32 34 36 38 40 42 44 46 48 50 "
     ]
    }
   ],
   "source": [
    "# 0 dan 50 ye kadar (50 dahil) çift sayıları döngü ile yazdıralım\n",
    "for i in range(0,51,2):\n",
    "    print(i, end=\" \")"
   ]
  },
  {
   "cell_type": "code",
   "execution_count": 57,
   "metadata": {},
   "outputs": [
    {
     "name": "stdout",
     "output_type": "stream",
     "text": [
      "0 2 4 6 8 10 12 14 16 18 20 22 24 "
     ]
    }
   ],
   "source": [
    "# 0 dan 24'e kadar (24 dahil) çift sayıları döngü ile yazdıralım\n",
    "for i in range(0,51,2):\n",
    "    print(i, end=\" \")\n",
    "    if i == 24:\n",
    "        break  # döngüyü terket"
   ]
  },
  {
   "cell_type": "code",
   "execution_count": 60,
   "metadata": {},
   "outputs": [
    {
     "name": "stdout",
     "output_type": "stream",
     "text": [
      "0 2 4 6 8 10 12 14 16 18 20 22 24 26 28 30 32 34 36 38 40 42 44 46 48 50 "
     ]
    }
   ],
   "source": [
    "# 0 dan 50 ye kadar (50 dahil) çift sayıları döngü ile yazdıralım\n",
    "for i in range(0,51):\n",
    "    if i %2 == 0:          # Asagida 2ye bölünmeyenleri yazdir dedim ama continue yazinca yazmasi gerekeni 1 atlayinca cift sayilari yazmis oldu\n",
    "        print(i, end=\" \")"
   ]
  },
  {
   "cell_type": "code",
   "execution_count": 61,
   "metadata": {},
   "outputs": [
    {
     "name": "stdout",
     "output_type": "stream",
     "text": [
      "0 2 4 6 8 10 12 14 16 18 20 22 24 26 28 30 32 34 36 38 40 42 44 46 48 50 "
     ]
    }
   ],
   "source": [
    "# continue komutu: döngülerde programın 1 alt satırı gecici(koşula bağlı) olarak dikkate almamasını sağlar\n",
    "# 0 dan 50 ye kadar (50 dahil) çift sayıları döngü ile yazdıralım\n",
    "for i in range(0,51):\n",
    "    if i % 2 != 0:\n",
    "        continue  # koşul geçerli ise hemen altımdaki 1 satırı çalıştırma...\n",
    "    print(i, end=\" \")"
   ]
  },
  {
   "cell_type": "code",
   "execution_count": 62,
   "metadata": {},
   "outputs": [
    {
     "name": "stdout",
     "output_type": "stream",
     "text": [
      "Stop!!!\n",
      "Ready!!!\n",
      "Go...\n"
     ]
    }
   ],
   "source": [
    "# Trafik Sinyalizasyon Sistemi\n",
    "while True:\n",
    "    sensor = input(\"Signal??\")    \n",
    "    if sensor==\"Red\":\n",
    "        print(\"Stop!!!\")\n",
    "    if sensor==\"Yellow\":\n",
    "        print(\"Ready!!!\")\n",
    "    if sensor==\"Green\":\n",
    "        print(\"Go...\")\n",
    "        break"
   ]
  },
  {
   "cell_type": "code",
   "execution_count": 37,
   "metadata": {},
   "outputs": [
    {
     "name": "stdout",
     "output_type": "stream",
     "text": [
      "5 * 0 = 0\n",
      "5 * 1 = 5\n",
      "5 * 2 = 10\n",
      "5 * 3 = 15\n",
      "5 * 4 = 20\n",
      "5 * 5 = 25\n",
      "5 * 6 = 30\n",
      "5 * 7 = 35\n",
      "5 * 8 = 40\n",
      "5 * 9 = 45\n",
      "5 * 10 = 50\n"
     ]
    }
   ],
   "source": [
    "# 5'ler için çarpım tablosu \n",
    "n = 5\n",
    "for i in range(0,11,1):\n",
    "    print(f\"{n} * {i} = {n*i}\")"
   ]
  },
  {
   "cell_type": "code",
   "execution_count": 75,
   "metadata": {},
   "outputs": [
    {
     "name": "stdout",
     "output_type": "stream",
     "text": [
      "1 * 2 = 2\t1 * 3 = 3\t\n",
      "2 * 2 = 4\t2 * 3 = 6\t\n",
      "3 * 2 = 6\t3 * 3 = 9\t\n"
     ]
    }
   ],
   "source": [
    "for i in range(1,4):      # distaki döngü: 1,2,3\n",
    "    for j in range(2,4):  # içteki döngü:  2,3     # önce 1*2 sonra 1*3 yazdi döngü bitti davaminda\n",
    "        print(f\"{i} * {j} = {i*j}\", end=\"\\t\")      # sonra 2*2 ve 2*3 yazdi döngü bitti \n",
    "    print()                                        # daha sonra 3*2 ve 3*3 yazdi döngü tamamen bitti"
   ]
  },
  {
   "cell_type": "code",
   "execution_count": 71,
   "metadata": {},
   "outputs": [
    {
     "name": "stdout",
     "output_type": "stream",
     "text": [
      "0 * 0 = 0\t0 * 1 = 0\t0 * 2 = 0\t0 * 3 = 0\t0 * 4 = 0\t0 * 5 = 0\t0 * 6 = 0\t0 * 7 = 0\t0 * 8 = 0\t0 * 9 = 0\t0 * 10 = 0\t\n",
      "1 * 0 = 0\t1 * 1 = 1\t1 * 2 = 2\t1 * 3 = 3\t1 * 4 = 4\t1 * 5 = 5\t1 * 6 = 6\t1 * 7 = 7\t1 * 8 = 8\t1 * 9 = 9\t1 * 10 = 10\t\n",
      "2 * 0 = 0\t2 * 1 = 2\t2 * 2 = 4\t2 * 3 = 6\t2 * 4 = 8\t2 * 5 = 10\t2 * 6 = 12\t2 * 7 = 14\t2 * 8 = 16\t2 * 9 = 18\t2 * 10 = 20\t\n",
      "3 * 0 = 0\t3 * 1 = 3\t3 * 2 = 6\t3 * 3 = 9\t3 * 4 = 12\t3 * 5 = 15\t3 * 6 = 18\t3 * 7 = 21\t3 * 8 = 24\t3 * 9 = 27\t3 * 10 = 30\t\n",
      "4 * 0 = 0\t4 * 1 = 4\t4 * 2 = 8\t4 * 3 = 12\t4 * 4 = 16\t4 * 5 = 20\t4 * 6 = 24\t4 * 7 = 28\t4 * 8 = 32\t4 * 9 = 36\t4 * 10 = 40\t\n",
      "5 * 0 = 0\t5 * 1 = 5\t5 * 2 = 10\t5 * 3 = 15\t5 * 4 = 20\t5 * 5 = 25\t5 * 6 = 30\t5 * 7 = 35\t5 * 8 = 40\t5 * 9 = 45\t5 * 10 = 50\t\n",
      "6 * 0 = 0\t6 * 1 = 6\t6 * 2 = 12\t6 * 3 = 18\t6 * 4 = 24\t6 * 5 = 30\t6 * 6 = 36\t6 * 7 = 42\t6 * 8 = 48\t6 * 9 = 54\t6 * 10 = 60\t\n",
      "7 * 0 = 0\t7 * 1 = 7\t7 * 2 = 14\t7 * 3 = 21\t7 * 4 = 28\t7 * 5 = 35\t7 * 6 = 42\t7 * 7 = 49\t7 * 8 = 56\t7 * 9 = 63\t7 * 10 = 70\t\n",
      "8 * 0 = 0\t8 * 1 = 8\t8 * 2 = 16\t8 * 3 = 24\t8 * 4 = 32\t8 * 5 = 40\t8 * 6 = 48\t8 * 7 = 56\t8 * 8 = 64\t8 * 9 = 72\t8 * 10 = 80\t\n",
      "9 * 0 = 0\t9 * 1 = 9\t9 * 2 = 18\t9 * 3 = 27\t9 * 4 = 36\t9 * 5 = 45\t9 * 6 = 54\t9 * 7 = 63\t9 * 8 = 72\t9 * 9 = 81\t9 * 10 = 90\t\n",
      "10 * 0 = 0\t10 * 1 = 10\t10 * 2 = 20\t10 * 3 = 30\t10 * 4 = 40\t10 * 5 = 50\t10 * 6 = 60\t10 * 7 = 70\t10 * 8 = 80\t10 * 9 = 90\t10 * 10 = 100\t\n"
     ]
    }
   ],
   "source": [
    "# çarpım tablosu 5'ler için\n",
    "for i in range(0,11,1):\n",
    "    for j in range(11):  # içteki döngü:0 dan 10 kadar\n",
    "        print(f\"{i} * {j} = {i*j}\", end=\"\\t\")\n",
    "    print()"
   ]
  },
  {
   "cell_type": "code",
   "execution_count": 45,
   "metadata": {},
   "outputs": [
    {
     "name": "stdout",
     "output_type": "stream",
     "text": [
      "Sayı Tahmin Oyunu\n",
      "50 Daha büyük bir sayı giriniz..\n",
      "75 Daha küçük sayı giriniz..\n",
      "66 Daha büyük bir sayı giriniz..\n",
      "72 Daha küçük sayı giriniz..\n",
      "70 Bravo!, 5. tahminde bildiniz...\n",
      "Skorunuz..:  60\n"
     ]
    }
   ],
   "source": [
    "# Bilgisayar rasgele bir sayı tutsun\n",
    "import random  # random kütüphanesini programa ekle\n",
    "answer = random.randint(1,99) # 1-99 arası rastgele bir değer ata!\n",
    "print(\"Sayı Tahmin Oyunu\")\n",
    "question = \"1-99 arası sayı tahmininizi girin..:\"\n",
    "puan = 100\n",
    "sayac = 0  ## tahmin sayısı\n",
    "while True: ## Sonsuz döngü\n",
    "    tahmin = int(input(question))\n",
    "    sayac = sayac + 1\n",
    "    if tahmin == answer:\n",
    "        print(tahmin, \"Bravo!, {}. tahminde bildiniz...\".format(sayac))\n",
    "        break  ## Döngüyü terket\n",
    "    elif tahmin > answer:\n",
    "        print(tahmin, \"Daha küçük sayı giriniz..\")\n",
    "    else:\n",
    "        print(tahmin, \"Daha büyük bir sayı giriniz..\")\n",
    "    puan = puan - 10\n",
    "\n",
    "print(\"Skorunuz..: \", puan)"
   ]
  },
  {
   "cell_type": "code",
   "execution_count": 46,
   "metadata": {},
   "outputs": [
    {
     "name": "stdout",
     "output_type": "stream",
     "text": [
      "6 3\n"
     ]
    }
   ],
   "source": [
    "# Çıktı sorusu:\n",
    "b, c = 0, 9\n",
    "while True:  # b=0 c=9 ile basladi. c<4 olana kadar döngü else kismiyla devam eder. 6 - 3 e ulasinca biter\n",
    "    if (c < 4):\n",
    "        break\n",
    "    else:\n",
    "        b +=1\n",
    "        c -=1\n",
    "\n",
    "print (b,c)"
   ]
  },
  {
   "cell_type": "code",
   "execution_count": 78,
   "metadata": {},
   "outputs": [
    {
     "name": "stdout",
     "output_type": "stream",
     "text": [
      "#####\n",
      "####\n",
      "###\n",
      "##\n",
      "#\n"
     ]
    }
   ],
   "source": [
    "# Çıktı sorusu:\n",
    "for i in range(5):\n",
    "    for j in range(5,i,-1):\n",
    "        print(\"#\", end=\"\")\n",
    "    print()"
   ]
  }
 ],
 "metadata": {
  "interpreter": {
   "hash": "f463fb0420b168889ef2901ced46399e46ddb0d0cd01bfcedb393030078e9b34"
  },
  "kernelspec": {
   "display_name": "Python 3.10.2 64-bit",
   "language": "python",
   "name": "python3"
  },
  "language_info": {
   "codemirror_mode": {
    "name": "ipython",
    "version": 3
   },
   "file_extension": ".py",
   "mimetype": "text/x-python",
   "name": "python",
   "nbconvert_exporter": "python",
   "pygments_lexer": "ipython3",
   "version": "3.10.2"
  },
  "orig_nbformat": 4
 },
 "nbformat": 4,
 "nbformat_minor": 2
}
