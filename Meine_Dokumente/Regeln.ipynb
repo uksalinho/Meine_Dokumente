{
 "cells": [
  {
   "cell_type": "code",
   "execution_count": 63,
   "metadata": {},
   "outputs": [
    {
     "name": "stdout",
     "output_type": "stream",
     "text": [
      "65\n",
      "Fenerbahce bugüne kadar 28 kez ile en cok sampiyon olan takimdir\n",
      "F e n e r b a h c e   b u g ü n e   k a d a r   2 8   k e z   i l e   e n   c o k   s a m p i y o n   o l a n   t a k i m d I r\n"
     ]
    }
   ],
   "source": [
    "Number_one = \"Fenerbahce bugüne kadar 28 kere ile en cok sampiyon olan takimdir\"\n",
    "print(len(Number_one))\n",
    "Number_one = Number_one[:29] + 'z' + Number_one[31:]\n",
    "print(Number_one)\n",
    "Number_onee = list(Number_one)\n",
    "Number_onee[62] = \"I\"\n",
    "print(*Number_onee)"
   ]
  },
  {
   "cell_type": "code",
   "execution_count": 5,
   "metadata": {},
   "outputs": [
    {
     "name": "stdout",
     "output_type": "stream",
     "text": [
      "1 44\n",
      "2 Harf Sayısı..: 36\n",
      "3 6\n",
      "4   en büyük fenerbahce, sampiyon fenerbahce  \n",
      "5   En Büyük Fenerbahce, Sampiyon Fenerbahce  \n",
      "6   eN BÜYÜK fENERBAHCE, SAMPIYON fENERBAHCE  \n",
      "7   EN BÜYÜK FENERBAHCE, SAMPIYON FENERBAHCE  \n",
      "8   en büyük fenerbahce, sampiyon fenerbahce  \n",
      "9   en büyük fenerbahce, sampiyon fenerbahce  \n",
      "10   En büyük FEnErbahce, sampiyon Fenerbahce  \n",
      "11 6\n",
      "12 False\n",
      "13 True\n",
      "14 False\n",
      "15 En büyük Fenerbahce, sampiyon Fenerbahce\n",
      "16 büyük Fenerbahce, sampiyon Fenerbahce  \n",
      "17   En büyük Fenerbahce, sampiyon Fenerbah\n",
      "18 12\n",
      "19 41\n",
      "20 5\n",
      "21     E n   b ü y ü k   F e n e r b a h c e ,   s a m p i y o n   F e n e r b a h c e    \n",
      "22 True\n",
      "23 False\n",
      "24 ***  En büyük Fenerbahce, sampiyon Fenerbahce  ***\n",
      "25   En büyük Fenerbahce, sampiyon Fenerbahce  $$$$$$\n",
      "26 &&&&&&  En büyük Fenerbahce, sampiyon Fenerbahce  \n",
      "27 00  En büyük Fenerbahce, sampiyon Fenerbahce  \n",
      "28 ['En', 'büyük', 'Fenerbahce,', 'sampiyon', 'Fenerbahce']\n",
      "28 ['  En büyük F', 'n', 'rbahc', ', sampiyon F', 'n', 'rbahc', '  ']\n",
      "29 ('ü', ' ')\n",
      "30  + +E+n+ +b+ü+y+ü+k+ +F+e+n+e+r+b+a+h+c+e+,+ +s+a+m+p+i+y+o+n+ +F+e+n+e+r+b+a+h+c+e+ + \n",
      "31: False\n",
      "32: False\n",
      "33: False\n"
     ]
    }
   ],
   "source": [
    "One = \"  En büyük Fenerbahce, sampiyon Fenerbahce  \"\n",
    "print('1', len(One))                                 # karakter uzunluğu\n",
    "bosluk_sayisi = One.count(' ')                       # space karakterlerini say\n",
    "harf_sayisi = len(One) - bosluk_sayisi               # harf sayisi bulma\n",
    "print('2', \"Harf Sayısı..:\", harf_sayisi)            # harf sayisi\n",
    "print('3', One.count('e'))                           # string içerisinde geçen 'e' karakteri sayısı\n",
    "print('4', One.capitalize())                         # ilk harfi büyük yapti\n",
    "print('5', One.title())                              # tüm kelimelerin ilk harfini büyük yapti\n",
    "print('6', One.swapcase())                           # kücük harfler büyük, büyük harfler kücük harf olur\n",
    "print('7', One.upper())                              # tüm harfleri büyük yapti\n",
    "print('8', One.lower())                              # tüm harfleri kücük yapti\n",
    "print('9', One.casefold())                           # ß gibi özel karakterler de dahil tüm harfleri kücük yapar\n",
    "print('10', One.replace(\"e\",\"E\",2))                  # cümle icinde harf degistirme (6 tane kücük e var ama 2 tanesini degistirdim)\n",
    "print('11', One.count('e'))                          # cümle icinde e harfini sayar\n",
    "print('12', One.startswith('En'))                    # cümle En ile mi basliyor ( ilk iki karakter bosluk oldugu icin False yazar)\n",
    "print('13', One.endswith('ce  '))                    # cümle 'ce  ' ile mi bitiyor\n",
    "print('14', One.startswith('ü', 4))                  # cümlede 4. karakter ü ile mi basliyor\n",
    "print('15', One.strip())                             # bosluklari sildi \n",
    "print('16', One.lstrip(' En  '))                     # soldan baslayip \"  En\" sildi\n",
    "print('17', One.rstrip('ce  '))                      # sagdan baslayip \"ce \" sildi\n",
    "print('18', One.find('e'))                           # string icerisinde soldan arama yapar varsa ilk buldugu 'e'nin indis no'yu döner. Olmayan aratilirsa -1 döner  \n",
    "print('19', One.rfind('e'))                          # string icerisinde sagdan arama yapar varsa ilk buldugu 'e'nin indis no'yu döner. Olmayan aratilirsa hata verir\n",
    "print('20', One.index('b'))                          # string icerisinde arama yapar varsa ilk buldugu 'b'nin indis no'yu 0 dan baslayarak döner  \n",
    "print('21', *One)                                    # \"*\" ile karakterler arasina bosluk ekledi. Bas ve sondaki parantezlerden kurtulmak icin de kullanilir\n",
    "print('22', \"ah\" in One)                             # string icinde \"ah\" var mi\n",
    "print('23', \"ah\" not in One)                         # string icinde \"ah\" yok mu\n",
    "print('24', One.center(50,\"*\"))                      # ifadeyi ortaya yazip toplam 50 karakter olacak sekilde sag ve sol bosluklara * koydu\n",
    "print('25', One.ljust(50,\"$\"))                       # ifadeyi sola yaslayip toplam 50 karakter olacak sekilde sag boslugu $ ile doldurdu\n",
    "print('26', One.rjust(50,\"&\"))                       # ifadeyi saga yaslayip toplam 50 karakter olacak sekilde sol boslugu & ile doldurdu\n",
    "print('27', One.zfill(46))                           # string ifadenin basina istenilen toplam karakter(46) sayisi kadar olmasi icin 0 ile doldurur\n",
    "print('28', One.split())\n",
    "print('28', One.split('e'))                          # yazilan karakteri('e') silip oralardan stringi ayiriyor\n",
    "print('29', (max(One), min(One)))                    # ASCIIkod tabolsuna göre en büyük ve kücük karakteri yazar. bosluk en kücük\n",
    "print('30', '+'.join(One))                           # her karakter sonrasi + koydu (bosluk ve ',' icin de gecerli)   \n",
    "print('31:', One.isalpha())                          # tamami harflerden mi olusuyor diye sorgulama yaptik       \n",
    "print('32:', One.isdigit())                          # tamami rakamlardan mi olusuyor diye sorgulama yaptik\n",
    "print('33:', One.isalnum())                          # rakam ve harften mi olusuyor diye sorgulama yaptik. (Özel simgeleri kabul etmez)                "
   ]
  },
  {
   "cell_type": "code",
   "execution_count": 7,
   "metadata": {},
   "outputs": [
    {
     "name": "stdout",
     "output_type": "stream",
     "text": [
      "Kurulus Tarihi..: 1907\n",
      "Kurulus Tarihi..: 1907\n",
      "Kurulus Tarihi..: 1907\n"
     ]
    }
   ],
   "source": [
    "# Format Kullanimi\n",
    "Tarih = 1907\n",
    "print(\"Kurulus Tarihi..: {}\".format(Tarih))\n",
    "print(f\"Kurulus Tarihi..: {Tarih}\")\n",
    "print(\"Kurulus Tarihi..: %d\" %Tarih)"
   ]
  },
  {
   "cell_type": "code",
   "execution_count": 96,
   "metadata": {},
   "outputs": [
    {
     "name": "stdout",
     "output_type": "stream",
     "text": [
      "False\n",
      "True\n",
      "True\n",
      "False\n",
      "Hook\n",
      "['3.10.2', '(tags/v3.10.2:a58ebcc,', 'Jan', '17', '2022,', '14:12:15)', '[MSC', 'v.1929', '64', 'bit', '(AMD64)]']\n"
     ]
    }
   ],
   "source": [
    "### is ile sorgu yapma\n",
    "from keyword import iskeyword\n",
    "print(iskeyword('hello'))  # hello keyword mu?\n",
    "print(iskeyword('def'))    # def keyword mu?\n",
    "\n",
    "text = \"clarusway\"\n",
    "print(text.islower())      # Tamami kücük harf mi?\n",
    "\n",
    "text = \"clarusWay\"\n",
    "print(text.islower())      # Tamami kücük harf mi?\n",
    "#--------\n",
    "print('TestHook'.removeprefix('Test'))  # Bu komut colab'da calismadi\n",
    "import sys\n",
    "surum = sys.version.split()  # Sürümüm\n",
    "print(surum)"
   ]
  },
  {
   "cell_type": "markdown",
   "metadata": {},
   "source": [
    "LIST FORMATI"
   ]
  },
  {
   "cell_type": "code",
   "execution_count": 122,
   "metadata": {},
   "outputs": [
    {
     "name": "stdout",
     "output_type": "stream",
     "text": [
      "[34, 'FB', 1, 9, 0, 7]\n",
      "[34, 'FB', 1, 9, 0, 7, 'a']\n",
      "[34, 'FB', 1, 9, 0, 7, 8, 'a']\n"
     ]
    }
   ],
   "source": [
    "#matrix = [\n",
    " #   [1,2,3,4],\n",
    "  #  [5,6,7,8],\n",
    "   # [9,1,2,3]\n",
    "#]\n",
    "\n",
    "nummer=[34,\"FB\",1,9,0,7]\n",
    "print(nummer)\n",
    "nummer.append('a')\n",
    "print(nummer)                 # Her ekleneni listenin sonuna ekler\n",
    "nummer.insert(-1,8)           # listeye eleman ekleme\n",
    "print(nummer)                 # -1. yani son indise 8'i atadim (üst komutu kaydetmeden calistirdim. Yani a son indis degil, hala ilk yazdigim gecerli)\n"
   ]
  },
  {
   "cell_type": "code",
   "execution_count": null,
   "metadata": {},
   "outputs": [],
   "source": [
    "# continue komutu: döngülerde programın 1 alt satırı gecici(koşula bağlı) olarak dikkate almamasını sağlar\n",
    "# stringler iterable(yinelenebilir, gezinilebilen)dır."
   ]
  }
 ],
 "metadata": {
  "interpreter": {
   "hash": "f463fb0420b168889ef2901ced46399e46ddb0d0cd01bfcedb393030078e9b34"
  },
  "kernelspec": {
   "display_name": "Python 3.10.2 64-bit",
   "language": "python",
   "name": "python3"
  },
  "language_info": {
   "codemirror_mode": {
    "name": "ipython",
    "version": 3
   },
   "file_extension": ".py",
   "mimetype": "text/x-python",
   "name": "python",
   "nbconvert_exporter": "python",
   "pygments_lexer": "ipython3",
   "version": "3.10.2"
  },
  "orig_nbformat": 4
 },
 "nbformat": 4,
 "nbformat_minor": 2
}
