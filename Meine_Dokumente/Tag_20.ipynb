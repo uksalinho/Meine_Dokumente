{
 "cells": [
  {
   "cell_type": "markdown",
   "metadata": {},
   "source": [
    "# Exceptions, Exception Handling, Files "
   ]
  },
  {
   "cell_type": "code",
   "execution_count": 2,
   "metadata": {},
   "outputs": [
    {
     "ename": "ValueError",
     "evalue": "math domain error",
     "output_type": "error",
     "traceback": [
      "\u001b[1;31m---------------------------------------------------------------------------\u001b[0m",
      "\u001b[1;31mValueError\u001b[0m                                Traceback (most recent call last)",
      "\u001b[1;32mc:\\Users\\uksal\\Desktop\\PYTHON\\Meine_Dokumente\\Tag_20.ipynb Cell 2'\u001b[0m in \u001b[0;36m<cell line: 2>\u001b[1;34m()\u001b[0m\n\u001b[0;32m      <a href='vscode-notebook-cell:/c%3A/Users/uksal/Desktop/PYTHON/Meine_Dokumente/Tag_20.ipynb#ch0000000?line=0'>1</a>\u001b[0m \u001b[39mimport\u001b[39;00m \u001b[39mmath\u001b[39;00m\n\u001b[1;32m----> <a href='vscode-notebook-cell:/c%3A/Users/uksal/Desktop/PYTHON/Meine_Dokumente/Tag_20.ipynb#ch0000000?line=1'>2</a>\u001b[0m \u001b[39mprint\u001b[39m(math\u001b[39m.\u001b[39;49msqrt(\u001b[39m-\u001b[39;49m\u001b[39m9\u001b[39;49m))\n",
      "\u001b[1;31mValueError\u001b[0m: math domain error"
     ]
    }
   ],
   "source": [
    "import math\n",
    "print(math.sqrt(-9))"
   ]
  },
  {
   "cell_type": "code",
   "execution_count": 3,
   "metadata": {},
   "outputs": [
    {
     "ename": "ValueError",
     "evalue": "math domain error",
     "output_type": "error",
     "traceback": [
      "\u001b[1;31m---------------------------------------------------------------------------\u001b[0m",
      "\u001b[1;31mValueError\u001b[0m                                Traceback (most recent call last)",
      "\u001b[1;32mc:\\Users\\uksal\\Desktop\\PYTHON\\Meine_Dokumente\\Tag_20.ipynb Cell 3'\u001b[0m in \u001b[0;36m<cell line: 1>\u001b[1;34m()\u001b[0m\n\u001b[1;32m----> <a href='vscode-notebook-cell:/c%3A/Users/uksal/Desktop/PYTHON/Meine_Dokumente/Tag_20.ipynb#ch0000002?line=0'>1</a>\u001b[0m \u001b[39mprint\u001b[39m(math\u001b[39m.\u001b[39;49mlog(\u001b[39m-\u001b[39;49m\u001b[39m5\u001b[39;49m))\n",
      "\u001b[1;31mValueError\u001b[0m: math domain error"
     ]
    }
   ],
   "source": [
    "print(math.log(-5))"
   ]
  },
  {
   "cell_type": "code",
   "execution_count": 4,
   "metadata": {},
   "outputs": [
    {
     "name": "stdout",
     "output_type": "stream",
     "text": [
      "3j\n"
     ]
    }
   ],
   "source": [
    "import cmath\n",
    "print(cmath.sqrt(-9))"
   ]
  },
  {
   "cell_type": "code",
   "execution_count": 5,
   "metadata": {},
   "outputs": [
    {
     "name": "stdout",
     "output_type": "stream",
     "text": [
      "(3+0j)\n"
     ]
    }
   ],
   "source": [
    "import cmath\n",
    "print(cmath.sqrt(9))"
   ]
  },
  {
   "cell_type": "code",
   "execution_count": 6,
   "metadata": {},
   "outputs": [
    {
     "name": "stdout",
     "output_type": "stream",
     "text": [
      "(1.6094379124341003+3.141592653589793j)\n"
     ]
    }
   ],
   "source": [
    "import cmath\n",
    "print(cmath.log(-5))"
   ]
  },
  {
   "cell_type": "code",
   "execution_count": 7,
   "metadata": {},
   "outputs": [
    {
     "ename": "SyntaxError",
     "evalue": "unterminated string literal (detected at line 1) (2117564121.py, line 1)",
     "output_type": "error",
     "traceback": [
      "\u001b[1;36m  Input \u001b[1;32mIn [7]\u001b[1;36m\u001b[0m\n\u001b[1;33m    var = \"Don't ever give up!:'\u001b[0m\n\u001b[1;37m          ^\u001b[0m\n\u001b[1;31mSyntaxError\u001b[0m\u001b[1;31m:\u001b[0m unterminated string literal (detected at line 1)\n"
     ]
    }
   ],
   "source": [
    "var = \"Don't ever give up!:'\n",
    "print(var)"
   ]
  },
  {
   "cell_type": "code",
   "execution_count": 8,
   "metadata": {},
   "outputs": [
    {
     "ename": "NameError",
     "evalue": "name 'vaR' is not defined",
     "output_type": "error",
     "traceback": [
      "\u001b[1;31m---------------------------------------------------------------------------\u001b[0m",
      "\u001b[1;31mNameError\u001b[0m                                 Traceback (most recent call last)",
      "\u001b[1;32mc:\\Users\\uksal\\Desktop\\PYTHON\\Meine_Dokumente\\Tag_20.ipynb Cell 8'\u001b[0m in \u001b[0;36m<cell line: 2>\u001b[1;34m()\u001b[0m\n\u001b[0;32m      <a href='vscode-notebook-cell:/c%3A/Users/uksal/Desktop/PYTHON/Meine_Dokumente/Tag_20.ipynb#ch0000007?line=0'>1</a>\u001b[0m var \u001b[39m=\u001b[39m \u001b[39m\"\u001b[39m\u001b[39mDon\u001b[39m\u001b[39m'\u001b[39m\u001b[39mt ever give up!\u001b[39m\u001b[39m\"\u001b[39m\n\u001b[1;32m----> <a href='vscode-notebook-cell:/c%3A/Users/uksal/Desktop/PYTHON/Meine_Dokumente/Tag_20.ipynb#ch0000007?line=1'>2</a>\u001b[0m \u001b[39mprint\u001b[39m(vaR)\n",
      "\u001b[1;31mNameError\u001b[0m: name 'vaR' is not defined"
     ]
    }
   ],
   "source": [
    "var = \"Don't ever give up!\"\n",
    "print(vaR)"
   ]
  },
  {
   "cell_type": "code",
   "execution_count": 9,
   "metadata": {},
   "outputs": [
    {
     "ename": "TypeError",
     "evalue": "can only concatenate str (not \"int\") to str",
     "output_type": "error",
     "traceback": [
      "\u001b[1;31m---------------------------------------------------------------------------\u001b[0m",
      "\u001b[1;31mTypeError\u001b[0m                                 Traceback (most recent call last)",
      "\u001b[1;32mc:\\Users\\uksal\\Desktop\\PYTHON\\Meine_Dokumente\\Tag_20.ipynb Cell 9'\u001b[0m in \u001b[0;36m<cell line: 2>\u001b[1;34m()\u001b[0m\n\u001b[0;32m      <a href='vscode-notebook-cell:/c%3A/Users/uksal/Desktop/PYTHON/Meine_Dokumente/Tag_20.ipynb#ch0000008?line=0'>1</a>\u001b[0m var \u001b[39m=\u001b[39m \u001b[39m\"\u001b[39m\u001b[39mDon\u001b[39m\u001b[39m'\u001b[39m\u001b[39mt ever give up!:\u001b[39m\u001b[39m\"\u001b[39m\n\u001b[1;32m----> <a href='vscode-notebook-cell:/c%3A/Users/uksal/Desktop/PYTHON/Meine_Dokumente/Tag_20.ipynb#ch0000008?line=1'>2</a>\u001b[0m \u001b[39mprint\u001b[39m(var\u001b[39m+\u001b[39;49m\u001b[39m3\u001b[39;49m)\n",
      "\u001b[1;31mTypeError\u001b[0m: can only concatenate str (not \"int\") to str"
     ]
    }
   ],
   "source": [
    "var = \"Don't ever give up!:\"\n",
    "print(var+3)"
   ]
  },
  {
   "cell_type": "code",
   "execution_count": 10,
   "metadata": {},
   "outputs": [
    {
     "ename": "ValueError",
     "evalue": "invalid literal for int() with base 10: \"Don't ever give up!:\"",
     "output_type": "error",
     "traceback": [
      "\u001b[1;31m---------------------------------------------------------------------------\u001b[0m",
      "\u001b[1;31mValueError\u001b[0m                                Traceback (most recent call last)",
      "\u001b[1;32mc:\\Users\\uksal\\Desktop\\PYTHON\\Meine_Dokumente\\Tag_20.ipynb Cell 10'\u001b[0m in \u001b[0;36m<cell line: 1>\u001b[1;34m()\u001b[0m\n\u001b[1;32m----> <a href='vscode-notebook-cell:/c%3A/Users/uksal/Desktop/PYTHON/Meine_Dokumente/Tag_20.ipynb#ch0000009?line=0'>1</a>\u001b[0m var \u001b[39m=\u001b[39m \u001b[39mint\u001b[39;49m(\u001b[39m\"\u001b[39;49m\u001b[39mDon\u001b[39;49m\u001b[39m'\u001b[39;49m\u001b[39mt ever give up!:\u001b[39;49m\u001b[39m\"\u001b[39;49m)\n\u001b[0;32m      <a href='vscode-notebook-cell:/c%3A/Users/uksal/Desktop/PYTHON/Meine_Dokumente/Tag_20.ipynb#ch0000009?line=1'>2</a>\u001b[0m \u001b[39mprint\u001b[39m(var)\n",
      "\u001b[1;31mValueError\u001b[0m: invalid literal for int() with base 10: \"Don't ever give up!:\""
     ]
    }
   ],
   "source": [
    "var = int(\"Don't ever give up!:\")\n",
    "print(var)"
   ]
  },
  {
   "cell_type": "code",
   "execution_count": 11,
   "metadata": {},
   "outputs": [
    {
     "name": "stdout",
     "output_type": "stream",
     "text": [
      "Here we go!\n",
      "I will be the second text\n",
      "It is time for an error message :(\n"
     ]
    },
    {
     "ename": "TypeError",
     "evalue": "can only concatenate str (not \"int\") to str",
     "output_type": "error",
     "traceback": [
      "\u001b[1;31m---------------------------------------------------------------------------\u001b[0m",
      "\u001b[1;31mTypeError\u001b[0m                                 Traceback (most recent call last)",
      "\u001b[1;32mc:\\Users\\uksal\\Desktop\\PYTHON\\Meine_Dokumente\\Tag_20.ipynb Cell 11'\u001b[0m in \u001b[0;36m<cell line: 6>\u001b[1;34m()\u001b[0m\n\u001b[0;32m      <a href='vscode-notebook-cell:/c%3A/Users/uksal/Desktop/PYTHON/Meine_Dokumente/Tag_20.ipynb#ch0000010?line=3'>4</a>\u001b[0m b \u001b[39m=\u001b[39m \u001b[39m5\u001b[39m\n\u001b[0;32m      <a href='vscode-notebook-cell:/c%3A/Users/uksal/Desktop/PYTHON/Meine_Dokumente/Tag_20.ipynb#ch0000010?line=4'>5</a>\u001b[0m \u001b[39mprint\u001b[39m(\u001b[39m'\u001b[39m\u001b[39mIt is time for an error message :(\u001b[39m\u001b[39m'\u001b[39m)\n\u001b[1;32m----> <a href='vscode-notebook-cell:/c%3A/Users/uksal/Desktop/PYTHON/Meine_Dokumente/Tag_20.ipynb#ch0000010?line=5'>6</a>\u001b[0m \u001b[39mprint\u001b[39m(a \u001b[39m+\u001b[39;49m b)  \u001b[39m# it won't be printed\u001b[39;00m\n\u001b[0;32m      <a href='vscode-notebook-cell:/c%3A/Users/uksal/Desktop/PYTHON/Meine_Dokumente/Tag_20.ipynb#ch0000010?line=6'>7</a>\u001b[0m \u001b[39mprint\u001b[39m(\u001b[39m\"\u001b[39m\u001b[39mSorry, but I won\u001b[39m\u001b[39m'\u001b[39m\u001b[39mt be printed\u001b[39m\u001b[39m\"\u001b[39m)\n",
      "\u001b[1;31mTypeError\u001b[0m: can only concatenate str (not \"int\") to str"
     ]
    }
   ],
   "source": [
    "print('Here we go!')\n",
    "print('I will be the second text')\n",
    "a = '3'\n",
    "b = 5\n",
    "print('It is time for an error message :(')\n",
    "print(a + b)  # it won't be printed\n",
    "print(\"Sorry, but I won't be printed\")  # it won't be printed"
   ]
  },
  {
   "cell_type": "markdown",
   "metadata": {},
   "source": [
    "Exception Handling"
   ]
  },
  {
   "cell_type": "code",
   "execution_count": null,
   "metadata": {},
   "outputs": [],
   "source": [
    "#Exception handling: try mutlaka except ile brlikte kullanılır...\n",
    "try:\n",
    "    pass ##hata üretme ihtimali olan kod buraya yazılır\n",
    "\n",
    "except:\n",
    "    pass ##üretilen hatanın yaklandığı blok\n",
    "\n",
    "else:\n",
    "    pass ##hata oluşmadı ise çalışacak blok\n",
    "\n",
    "finally:\n",
    "    pass ##hata olsa da olmasa da çalışacak kod buraya yazılır...\n",
    "         ##dosya kapatma\n"
   ]
  },
  {
   "cell_type": "code",
   "execution_count": 15,
   "metadata": {},
   "outputs": [
    {
     "ename": "ZeroDivisionError",
     "evalue": "division by zero",
     "output_type": "error",
     "traceback": [
      "\u001b[1;31m---------------------------------------------------------------------------\u001b[0m",
      "\u001b[1;31mZeroDivisionError\u001b[0m                         Traceback (most recent call last)",
      "\u001b[1;32mc:\\Users\\uksal\\Desktop\\PYTHON\\Meine_Dokumente\\Tag_20.ipynb Cell 14'\u001b[0m in \u001b[0;36m<cell line: 1>\u001b[1;34m()\u001b[0m\n\u001b[0;32m      <a href='vscode-notebook-cell:/c%3A/Users/uksal/Desktop/PYTHON/Meine_Dokumente/Tag_20.ipynb#ch0000012?line=1'>2</a>\u001b[0m no_one \u001b[39m=\u001b[39m \u001b[39mint\u001b[39m(\u001b[39minput\u001b[39m(\u001b[39m\"\u001b[39m\u001b[39mThe first number please : \u001b[39m\u001b[39m\"\u001b[39m))\n\u001b[0;32m      <a href='vscode-notebook-cell:/c%3A/Users/uksal/Desktop/PYTHON/Meine_Dokumente/Tag_20.ipynb#ch0000012?line=2'>3</a>\u001b[0m no_two \u001b[39m=\u001b[39m \u001b[39mint\u001b[39m(\u001b[39minput\u001b[39m(\u001b[39m\"\u001b[39m\u001b[39mThe second number please : \u001b[39m\u001b[39m\"\u001b[39m))\n\u001b[1;32m----> <a href='vscode-notebook-cell:/c%3A/Users/uksal/Desktop/PYTHON/Meine_Dokumente/Tag_20.ipynb#ch0000012?line=3'>4</a>\u001b[0m division \u001b[39m=\u001b[39m no_one \u001b[39m/\u001b[39;49m no_two  \u001b[39m# normal part of the program\u001b[39;00m\n\u001b[0;32m      <a href='vscode-notebook-cell:/c%3A/Users/uksal/Desktop/PYTHON/Meine_Dokumente/Tag_20.ipynb#ch0000012?line=4'>5</a>\u001b[0m \u001b[39mprint\u001b[39m(division)\n\u001b[0;32m      <a href='vscode-notebook-cell:/c%3A/Users/uksal/Desktop/PYTHON/Meine_Dokumente/Tag_20.ipynb#ch0000012?line=5'>6</a>\u001b[0m \u001b[39mbreak\u001b[39;00m\n",
      "\u001b[1;31mZeroDivisionError\u001b[0m: division by zero"
     ]
    }
   ],
   "source": [
    "while True:\n",
    "    no_one = int(input(\"The first number please : \"))\n",
    "    no_two = int(input(\"The second number please : \"))\n",
    "    division = no_one / no_two  # normal part of the program\n",
    "    print(division)\n",
    "    break"
   ]
  },
  {
   "cell_type": "code",
   "execution_count": 13,
   "metadata": {},
   "outputs": [
    {
     "name": "stdout",
     "output_type": "stream",
     "text": [
      "Lütfen 0 haricinde sayı giriniz!\n",
      "2.0\n"
     ]
    }
   ],
   "source": [
    "while True:\n",
    "    no_one = int(input(\"The first number please : \"))\n",
    "    no_two = int(input(\"The second number please : \"))\n",
    "    try:\n",
    "        division = no_one / no_two  # normal part of the program\n",
    "        print(division)\n",
    "        break\n",
    "    except:\n",
    "        print(\"Lütfen 0 haricinde sayı giriniz!\")"
   ]
  },
  {
   "cell_type": "code",
   "execution_count": 14,
   "metadata": {},
   "outputs": [
    {
     "name": "stdout",
     "output_type": "stream",
     "text": [
      "Lütfen 0 haricinde sayı giriniz!\n",
      "5.0\n"
     ]
    }
   ],
   "source": [
    "while True:\n",
    "    try:\n",
    "        no_one = int(input(\"The first number please : \"))\n",
    "        no_two = int(input(\"The second number please : \"))\n",
    "        division = no_one / no_two  # normal part of the program\n",
    "        print(division)\n",
    "        break\n",
    "    except:  ## tüm hataları yakalayan bir örnek!!!\n",
    "        print(\"Lütfen 0 haricinde sayı giriniz!\")"
   ]
  },
  {
   "cell_type": "code",
   "execution_count": 16,
   "metadata": {},
   "outputs": [
    {
     "name": "stdout",
     "output_type": "stream",
     "text": [
      "Lütfen paydaya 0 haricinde bir rakam giriniz!\n",
      "Lütfen sayı giriniz!\n",
      "2.0\n"
     ]
    }
   ],
   "source": [
    "while True:\n",
    "    try:\n",
    "        no_one = int(input(\"The first number please : \"))\n",
    "        no_two = int(input(\"The second number please : \"))\n",
    "        division = no_one / no_two  # normal part of the program\n",
    "        print(division)\n",
    "        break\n",
    "    except ZeroDivisionError:\n",
    "        print(\"Lütfen paydaya 0 haricinde bir rakam giriniz!\")\n",
    "    except TypeError:\n",
    "        print(\"Lütfen sayı giriniz!\")\n",
    "    except ValueError:\n",
    "        print(\"Lütfen sayı giriniz!\")"
   ]
  },
  {
   "cell_type": "code",
   "execution_count": 17,
   "metadata": {},
   "outputs": [
    {
     "name": "stdout",
     "output_type": "stream",
     "text": [
      "Lütfen sayı giriniz!\n",
      "Lütfen sayı giriniz!\n",
      "1.0\n"
     ]
    }
   ],
   "source": [
    "while True:\n",
    "    try:\n",
    "        no_one = int(input(\"The first number please : \"))\n",
    "        no_two = int(input(\"The second number please : \"))\n",
    "        division = no_one / no_two  # normal part of the program\n",
    "        print(division)\n",
    "        break\n",
    "    except ZeroDivisionError:\n",
    "        print(\"Lütfen paydaya 0 haricinde bir rakam giriniz!\")\n",
    "    except (TypeError, ValueError):  # Ayni hata oldugu icin birlestirdim\n",
    "        print(\"Lütfen sayı giriniz!\")"
   ]
  },
  {
   "cell_type": "code",
   "execution_count": 18,
   "metadata": {},
   "outputs": [
    {
     "name": "stdout",
     "output_type": "stream",
     "text": [
      "No file!\n"
     ]
    }
   ],
   "source": [
    "try:\n",
    "    dosya = open(\"myy_file.txt\")\n",
    "    dosya.read()\n",
    "except FileNotFoundError:\n",
    "    print(\"No file!\")"
   ]
  },
  {
   "cell_type": "code",
   "execution_count": 19,
   "metadata": {},
   "outputs": [
    {
     "name": "stdout",
     "output_type": "stream",
     "text": [
      "No file!\n"
     ]
    }
   ],
   "source": [
    "try:\n",
    "    dosya = open(\"my_file.txt\")\n",
    "    dosya.read()\n",
    "except FileNotFoundError:\n",
    "    print(\"No file!\")"
   ]
  },
  {
   "cell_type": "code",
   "execution_count": 20,
   "metadata": {},
   "outputs": [
    {
     "ename": "FileNotFoundError",
     "evalue": "[Errno 2] No such file or directory: 'my_file.txt'",
     "output_type": "error",
     "traceback": [
      "\u001b[1;31m---------------------------------------------------------------------------\u001b[0m",
      "\u001b[1;31mFileNotFoundError\u001b[0m                         Traceback (most recent call last)",
      "\u001b[1;32mc:\\Users\\uksal\\Desktop\\PYTHON\\Meine_Dokumente\\Tag_20.ipynb Cell 21'\u001b[0m in \u001b[0;36m<cell line: 1>\u001b[1;34m()\u001b[0m\n\u001b[1;32m----> <a href='vscode-notebook-cell:/c%3A/Users/uksal/Desktop/PYTHON/Meine_Dokumente/Tag_20.ipynb#ch0000019?line=0'>1</a>\u001b[0m dosya \u001b[39m=\u001b[39m \u001b[39mopen\u001b[39;49m(\u001b[39m\"\u001b[39;49m\u001b[39mmy_file.txt\u001b[39;49m\u001b[39m\"\u001b[39;49m)\n\u001b[0;32m      <a href='vscode-notebook-cell:/c%3A/Users/uksal/Desktop/PYTHON/Meine_Dokumente/Tag_20.ipynb#ch0000019?line=1'>2</a>\u001b[0m dosya\u001b[39m.\u001b[39mread()\n",
      "\u001b[1;31mFileNotFoundError\u001b[0m: [Errno 2] No such file or directory: 'my_file.txt'"
     ]
    }
   ],
   "source": [
    "dosya = open(\"my_file.txt\")\n",
    "dosya.read()\n"
   ]
  },
  {
   "cell_type": "code",
   "execution_count": 21,
   "metadata": {},
   "outputs": [
    {
     "name": "stdout",
     "output_type": "stream",
     "text": [
      "No file!\n",
      "dosya kapatıldı\n"
     ]
    }
   ],
   "source": [
    "try:\n",
    "    dosya = open(\"my_file.txt\")\n",
    "    dosya.read()\n",
    "except FileNotFoundError:\n",
    "    print(\"No file!\")\n",
    "finally:\n",
    "    #dosya.close()\n",
    "    print(\"dosya kapatıldı\")"
   ]
  },
  {
   "cell_type": "code",
   "execution_count": 23,
   "metadata": {},
   "outputs": [
    {
     "name": "stdout",
     "output_type": "stream",
     "text": [
      "You can't divide by zero! Try again.\n",
      "Thanks for using our mini divison calculator! Come again!\n"
     ]
    }
   ],
   "source": [
    "while True:\n",
    "    no_one = int(input(\"The first number please : \"))\n",
    "    no_two = int(input(\"The second number please : \"))\n",
    "    try:\n",
    "        division = no_one / no_two  # normal part of the program\n",
    "    except ZeroDivisionError:\n",
    "        print(\"You can't divide by zero! Try again.\")  # executes when division by zero\n",
    "    else:\n",
    "        print(\"The result of the division is : \", division)  # executes if there is no exception\n",
    "    finally:\n",
    "        print(\"Thanks for using our mini divison calculator! Come again!\")\n",
    "        break  # exits the while loop"
   ]
  },
  {
   "cell_type": "code",
   "execution_count": 24,
   "metadata": {},
   "outputs": [
    {
     "name": "stdout",
     "output_type": "stream",
     "text": [
      "Something went wrong...Try again.\n",
      "Probably it is because of 'division by zero' error\n"
     ]
    }
   ],
   "source": [
    "while True:\n",
    "    no_one = int(input(\"The first number please : \"))\n",
    "    no_two = int(input(\"The second number please : \"))\n",
    "    try:\n",
    "        division = no_one / no_two\n",
    "        print(\"The result of the division is : \", division)\n",
    "        break\n",
    "    except Exception as e:\n",
    "        print(\"Something went wrong...Try again.\")\n",
    "        print(\"Probably it is because of '{}' error\".format(e))\n",
    "        break"
   ]
  },
  {
   "cell_type": "code",
   "execution_count": 25,
   "metadata": {},
   "outputs": [
    {
     "name": "stdout",
     "output_type": "stream",
     "text": [
      "Hatanın kaynağı ..: name 'c' is not defined\n"
     ]
    }
   ],
   "source": [
    "try:\n",
    "    a = 5\n",
    "    b = 4\n",
    "    print(\"iki sayının toplamı..:\",c)  # c diye bir sey yok\n",
    "except Exception as e:\n",
    "    print(f\"Hatanın kaynağı ..: {e}\")"
   ]
  },
  {
   "cell_type": "code",
   "execution_count": 26,
   "metadata": {},
   "outputs": [
    {
     "name": "stdout",
     "output_type": "stream",
     "text": [
      "No file!\n"
     ]
    },
    {
     "ename": "NameError",
     "evalue": "name 'dosya' is not defined",
     "output_type": "error",
     "traceback": [
      "\u001b[1;31m---------------------------------------------------------------------------\u001b[0m",
      "\u001b[1;31mNameError\u001b[0m                                 Traceback (most recent call last)",
      "\u001b[1;32mc:\\Users\\uksal\\Desktop\\PYTHON\\Meine_Dokumente\\Tag_20.ipynb Cell 26'\u001b[0m in \u001b[0;36m<cell line: 1>\u001b[1;34m()\u001b[0m\n\u001b[0;32m      <a href='vscode-notebook-cell:/c%3A/Users/uksal/Desktop/PYTHON/Meine_Dokumente/Tag_20.ipynb#ch0000024?line=4'>5</a>\u001b[0m     \u001b[39mprint\u001b[39m(\u001b[39m\"\u001b[39m\u001b[39mNo file!\u001b[39m\u001b[39m\"\u001b[39m)\n\u001b[0;32m      <a href='vscode-notebook-cell:/c%3A/Users/uksal/Desktop/PYTHON/Meine_Dokumente/Tag_20.ipynb#ch0000024?line=5'>6</a>\u001b[0m \u001b[39mfinally\u001b[39;00m:\n\u001b[1;32m----> <a href='vscode-notebook-cell:/c%3A/Users/uksal/Desktop/PYTHON/Meine_Dokumente/Tag_20.ipynb#ch0000024?line=6'>7</a>\u001b[0m     dosya\u001b[39m.\u001b[39mclose()\n\u001b[0;32m      <a href='vscode-notebook-cell:/c%3A/Users/uksal/Desktop/PYTHON/Meine_Dokumente/Tag_20.ipynb#ch0000024?line=7'>8</a>\u001b[0m     \u001b[39mprint\u001b[39m(\u001b[39m\"\u001b[39m\u001b[39mdosya kapatıldı\u001b[39m\u001b[39m\"\u001b[39m)\n",
      "\u001b[1;31mNameError\u001b[0m: name 'dosya' is not defined"
     ]
    }
   ],
   "source": [
    "try:\n",
    "    dosya = open(\"myfile.txt\")  # myfile.txt isimli dosya olsaydi calisip dosya kapatildi mesaji verirdi\n",
    "    dosya.read()\n",
    "except FileNotFoundError:\n",
    "    print(\"No file!\")\n",
    "finally:\n",
    "    dosya.close()\n",
    "    print(\"dosya kapatıldı\")"
   ]
  },
  {
   "cell_type": "code",
   "execution_count": 27,
   "metadata": {},
   "outputs": [
    {
     "name": "stdout",
     "output_type": "stream",
     "text": [
      "No file!\n"
     ]
    },
    {
     "ename": "NameError",
     "evalue": "name 'dosya' is not defined",
     "output_type": "error",
     "traceback": [
      "\u001b[1;31m---------------------------------------------------------------------------\u001b[0m",
      "\u001b[1;31mNameError\u001b[0m                                 Traceback (most recent call last)",
      "\u001b[1;32mc:\\Users\\uksal\\Desktop\\PYTHON\\Meine_Dokumente\\Tag_20.ipynb Cell 27'\u001b[0m in \u001b[0;36m<cell line: 1>\u001b[1;34m()\u001b[0m\n\u001b[0;32m      <a href='vscode-notebook-cell:/c%3A/Users/uksal/Desktop/PYTHON/Meine_Dokumente/Tag_20.ipynb#ch0000025?line=6'>7</a>\u001b[0m     \u001b[39mprint\u001b[39m(dosya\u001b[39m.\u001b[39mread())\n\u001b[0;32m      <a href='vscode-notebook-cell:/c%3A/Users/uksal/Desktop/PYTHON/Meine_Dokumente/Tag_20.ipynb#ch0000025?line=7'>8</a>\u001b[0m \u001b[39mfinally\u001b[39;00m:\n\u001b[1;32m----> <a href='vscode-notebook-cell:/c%3A/Users/uksal/Desktop/PYTHON/Meine_Dokumente/Tag_20.ipynb#ch0000025?line=8'>9</a>\u001b[0m     dosya\u001b[39m.\u001b[39mclose()\n\u001b[0;32m     <a href='vscode-notebook-cell:/c%3A/Users/uksal/Desktop/PYTHON/Meine_Dokumente/Tag_20.ipynb#ch0000025?line=9'>10</a>\u001b[0m     \u001b[39mprint\u001b[39m(\u001b[39m\"\u001b[39m\u001b[39mdosya kapatıldı\u001b[39m\u001b[39m\"\u001b[39m)\n",
      "\u001b[1;31mNameError\u001b[0m: name 'dosya' is not defined"
     ]
    }
   ],
   "source": [
    "try:\n",
    "    dosya = open(\"myfile.txt\")\n",
    "\n",
    "except FileNotFoundError:\n",
    "    print(\"No file!\")\n",
    "else:\n",
    "    print(dosya.read())  # myfile.txt isimli dosya olsa icerigini yazardi\n",
    "finally:\n",
    "    dosya.close()\n",
    "    print(\"dosya kapatıldı\")"
   ]
  },
  {
   "cell_type": "code",
   "execution_count": 28,
   "metadata": {},
   "outputs": [
    {
     "name": "stdout",
     "output_type": "stream",
     "text": [
      "No file!\n"
     ]
    },
    {
     "ename": "NameError",
     "evalue": "name 'dosya' is not defined",
     "output_type": "error",
     "traceback": [
      "\u001b[1;31m---------------------------------------------------------------------------\u001b[0m",
      "\u001b[1;31mNameError\u001b[0m                                 Traceback (most recent call last)",
      "\u001b[1;32mc:\\Users\\uksal\\Desktop\\PYTHON\\Meine_Dokumente\\Tag_20.ipynb Cell 28'\u001b[0m in \u001b[0;36m<cell line: 1>\u001b[1;34m()\u001b[0m\n\u001b[0;32m      <a href='vscode-notebook-cell:/c%3A/Users/uksal/Desktop/PYTHON/Meine_Dokumente/Tag_20.ipynb#ch0000026?line=6'>7</a>\u001b[0m     \u001b[39mprint\u001b[39m(dosya\u001b[39m.\u001b[39mread())\n\u001b[0;32m      <a href='vscode-notebook-cell:/c%3A/Users/uksal/Desktop/PYTHON/Meine_Dokumente/Tag_20.ipynb#ch0000026?line=7'>8</a>\u001b[0m \u001b[39mfinally\u001b[39;00m:\n\u001b[1;32m----> <a href='vscode-notebook-cell:/c%3A/Users/uksal/Desktop/PYTHON/Meine_Dokumente/Tag_20.ipynb#ch0000026?line=8'>9</a>\u001b[0m     dosya\u001b[39m.\u001b[39mclose()\n\u001b[0;32m     <a href='vscode-notebook-cell:/c%3A/Users/uksal/Desktop/PYTHON/Meine_Dokumente/Tag_20.ipynb#ch0000026?line=9'>10</a>\u001b[0m     \u001b[39mprint\u001b[39m(\u001b[39m\"\u001b[39m\u001b[39mdosya kapatıldı\u001b[39m\u001b[39m\"\u001b[39m)\n",
      "\u001b[1;31mNameError\u001b[0m: name 'dosya' is not defined"
     ]
    }
   ],
   "source": [
    "try:\n",
    "    dosya = open(\"my_file.txt\")  # olmayan dosya\n",
    "\n",
    "except FileNotFoundError:\n",
    "    print(\"No file!\")\n",
    "else:\n",
    "    print(dosya.read())\n",
    "finally:                # burayi komut calissa da calismasa da yazmaliydi! üstteki 2si de böyle aslinda\n",
    "    dosya.close()\n",
    "    print(\"dosya kapatıldı\")"
   ]
  },
  {
   "cell_type": "code",
   "execution_count": 35,
   "metadata": {},
   "outputs": [
    {
     "name": "stdout",
     "output_type": "stream",
     "text": [
      "My favory fruit is kiwi\n"
     ]
    }
   ],
   "source": [
    "fruits = [\"banana\",\"mango\",\"pear\",\"apple\",\"kiwi\",\"grape\"]\n",
    "\n",
    "index = int(input(\"Enter index number.:\"))\n",
    "print(f\"My favory fruit is {fruits[index]}\")"
   ]
  },
  {
   "cell_type": "code",
   "execution_count": 37,
   "metadata": {},
   "outputs": [
    {
     "name": "stdout",
     "output_type": "stream",
     "text": [
      "Lütfen 0-5 arası bir rakam giriniz!\n",
      "Lütfen rakam giriniz\n",
      "My favorite fruit is apple\n"
     ]
    }
   ],
   "source": [
    "fruits = [\"banana\",\"mango\",\"pear\",\"apple\",\"kiwi\",\"grape\"]\n",
    "while True:\n",
    "    try:\n",
    "        index = int(input(\"Enter index number.:\"))\n",
    "        print(f\"My favorite fruit is {fruits[index]}\")\n",
    "        break\n",
    "    except IndexError:\n",
    "        print(\"Lütfen 0-5 arası bir rakam giriniz!\")\n",
    "    except ValueError:\n",
    "        print(\"Lütfen rakam giriniz\")\n",
    "    "
   ]
  },
  {
   "cell_type": "code",
   "execution_count": 38,
   "metadata": {},
   "outputs": [
    {
     "name": "stdout",
     "output_type": "stream",
     "text": [
      "Lütfen 0-5 arası bir rakam giriniz!\n",
      "My favorite fruit is grape\n"
     ]
    }
   ],
   "source": [
    "fruits = [\"banana\",\"mango\",\"pear\",\"apple\",\"kiwi\",\"grape\"]\n",
    "while True:\n",
    "    try:\n",
    "        index = int(input(\"Enter index number.:\"))\n",
    "        f = fruits[index]\n",
    "    except IndexError:\n",
    "        print(\"Lütfen 0-5 arası bir rakam giriniz!\")\n",
    "    except ValueError:\n",
    "        print(\"Lütfen rakam giriniz\")\n",
    "    else:\n",
    "        print(f\"My favorite fruit is {f}\")\n",
    "        break\n"
   ]
  },
  {
   "cell_type": "code",
   "execution_count": 39,
   "metadata": {},
   "outputs": [
    {
     "name": "stdout",
     "output_type": "stream",
     "text": [
      "Lütfen rakam giriniz\n",
      "Meyvelerimiz, daima tazedir...\n",
      "Lütfen 0-5 arası bir rakam giriniz!\n",
      "Meyvelerimiz, daima tazedir...\n",
      "My favorite fruit is kiwi\n",
      "Tebrikler! Doğru değer girdiniz.\n",
      "Meyvelerimiz, daima tazedir...\n"
     ]
    }
   ],
   "source": [
    "fruits = [\"banana\",\"mango\",\"pear\",\"apple\",\"kiwi\",\"grape\"]\n",
    "n = 3\n",
    "while n>0:\n",
    "    try:\n",
    "        index = int(input(\"Enter index number.:\"))\n",
    "        print(f\"My favorite fruit is {fruits[index]}\")\n",
    "    except IndexError:\n",
    "        n-=1\n",
    "        print(\"Lütfen 0-5 arası bir rakam giriniz!\")\n",
    "    except ValueError:\n",
    "        n-=1\n",
    "        print(\"Lütfen rakam giriniz\")\n",
    "    else:\n",
    "        print(\"Tebrikler! Doğru değer girdiniz.\")\n",
    "        break\n",
    "    finally:\n",
    "        print(\"Meyvelerimiz, daima tazedir...\")"
   ]
  },
  {
   "cell_type": "code",
   "execution_count": 40,
   "metadata": {},
   "outputs": [
    {
     "name": "stdout",
     "output_type": "stream",
     "text": [
      "Lütfen 0-5 arası bir rakam giriniz!\n",
      "2 hakkınız kaldı\n",
      "Meyvelerimiz, daima tazedir...\n",
      "Lütfen rakam giriniz\n",
      "1 hakkınız kaldı\n",
      "Meyvelerimiz, daima tazedir...\n",
      "Lütfen rakam giriniz\n",
      "Hakkınız kalmadı...\n",
      "Meyvelerimiz, daima tazedir...\n"
     ]
    }
   ],
   "source": [
    "fruits = [\"banana\",\"mango\",\"pear\",\"apple\",\"kiwi\",\"grape\"]\n",
    "n = 3\n",
    "while n>0:\n",
    "    try:\n",
    "        index = int(input(\"Enter index number.:\"))\n",
    "        print(f\"My favorite fruit is {fruits[index]}\")\n",
    "    except IndexError:\n",
    "        n-=1\n",
    "        print(\"Lütfen 0-5 arası bir rakam giriniz!\")\n",
    "        if n == 0: \n",
    "            print(\"Hakkınız kalmadı...\")\n",
    "        else:\n",
    "            print(f\"{n} hakkınız kaldı\")\n",
    "    except ValueError:\n",
    "        n-=1\n",
    "        print(\"Lütfen rakam giriniz\")\n",
    "        if n == 0: \n",
    "            print(\"Hakkınız kalmadı...\")\n",
    "        else:\n",
    "            print(f\"{n} hakkınız kaldı\")\n",
    "    else:\n",
    "        print(\"Tebrikler! Doğru değer girdiniz.\")\n",
    "        break\n",
    "    finally:\n",
    "        print(\"Meyvelerimiz, daima tazedir...\")"
   ]
  },
  {
   "cell_type": "code",
   "execution_count": 41,
   "metadata": {},
   "outputs": [
    {
     "name": "stdout",
     "output_type": "stream",
     "text": [
      "Lütfen 0-5 arası bir rakam giriniz! 2 hakkınız kaldı.\n",
      "Meyvelerimiz, daima tazedir...\n",
      "Lütfen 0-5 arası bir rakam giriniz! 1 hakkınız kaldı.\n",
      "Meyvelerimiz, daima tazedir...\n",
      "Lütfen 0-5 arası bir rakam giriniz! 0 hakkınız kaldı.\n",
      "Meyvelerimiz, daima tazedir...\n"
     ]
    }
   ],
   "source": [
    "fruits = [\"banana\",\"mango\",\"pear\",\"apple\",\"kiwi\",\"grape\"]\n",
    "n = 3\n",
    "while n>0:\n",
    "    try:\n",
    "        index = int(input(\"Enter index number.:\"))\n",
    "        print(f\"My favorite fruit is {fruits[index]}\")\n",
    "    except IndexError:\n",
    "        n-=1\n",
    "        print(f\"Lütfen 0-5 arası bir rakam giriniz! {n} hakkınız kaldı.\")\n",
    "        \n",
    "    except ValueError:\n",
    "        n-=1\n",
    "        print(f\"Lütfen rakam giriniz! {n} hakkınız kaldı..\")\n",
    "    else:\n",
    "        print(\"Tebrikler! Doğru değer girdiniz.\")\n",
    "        break\n",
    "    finally:\n",
    "        print(\"Meyvelerimiz, daima tazedir...\")"
   ]
  },
  {
   "cell_type": "code",
   "execution_count": 42,
   "metadata": {},
   "outputs": [
    {
     "name": "stdout",
     "output_type": "stream",
     "text": [
      "Lütfen 0-5 arası bir rakam giriniz!\n",
      " 2 hakkınız kaldı\n",
      "Meyvelerimiz, daima tazedir...\n",
      "Lütfen 0-5 arası bir rakam giriniz!\n",
      " 1 hakkınız kaldı\n",
      "Meyvelerimiz, daima tazedir...\n",
      "Hakkınız kalmadı...\n",
      "Meyvelerimiz, daima tazedir...\n"
     ]
    }
   ],
   "source": [
    "fruits = [\"banana\",\"mango\",\"pear\",\"apple\",\"kiwi\",\"grape\"]\n",
    "n = 3\n",
    "while n>0:\n",
    "    try:\n",
    "        index = int(input(\"Enter index number.:\"))\n",
    "        print(f\"My favorite fruit is {fruits[index]}\")\n",
    "    except IndexError:\n",
    "        n-=1\n",
    "        if n == 0: \n",
    "            print(\"Hakkınız kalmadı...\")\n",
    "        else:\n",
    "            print(f\"Lütfen 0-5 arası bir rakam giriniz!\\n {n} hakkınız kaldı\")\n",
    "    except ValueError:\n",
    "        n-=1\n",
    "        if n == 0: \n",
    "            print(\"Hakkınız kalmadı...\")\n",
    "        else:\n",
    "            print(f\"Lütfen rakam giriniz\\n {n} hakkınız kaldı\")\n",
    "    else:\n",
    "        print(\"Tebrikler! Doğru değer girdiniz.\")\n",
    "        break\n",
    "    finally:\n",
    "        print(\"Meyvelerimiz, daima tazedir...\")"
   ]
  },
  {
   "cell_type": "code",
   "execution_count": 46,
   "metadata": {},
   "outputs": [
    {
     "ename": "NameError",
     "evalue": "Bu kata çıkılmaz",
     "output_type": "error",
     "traceback": [
      "\u001b[1;31m---------------------------------------------------------------------------\u001b[0m",
      "\u001b[1;31mNameError\u001b[0m                                 Traceback (most recent call last)",
      "\u001b[1;32mc:\\Users\\uksal\\Desktop\\PYTHON\\Meine_Dokumente\\Tag_20.ipynb Cell 36'\u001b[0m in \u001b[0;36m<cell line: 3>\u001b[1;34m()\u001b[0m\n\u001b[0;32m      <a href='vscode-notebook-cell:/c%3A/Users/uksal/Desktop/PYTHON/Meine_Dokumente/Tag_20.ipynb#ch0000035?line=1'>2</a>\u001b[0m kat \u001b[39m=\u001b[39m \u001b[39mint\u001b[39m(\u001b[39minput\u001b[39m(\u001b[39m\"\u001b[39m\u001b[39mhangi kata çıkmak istiyorsunuz: \u001b[39m\u001b[39m\"\u001b[39m))\n\u001b[0;32m      <a href='vscode-notebook-cell:/c%3A/Users/uksal/Desktop/PYTHON/Meine_Dokumente/Tag_20.ipynb#ch0000035?line=2'>3</a>\u001b[0m \u001b[39mif\u001b[39;00m kat \u001b[39m==\u001b[39m \u001b[39m13\u001b[39m:\n\u001b[1;32m----> <a href='vscode-notebook-cell:/c%3A/Users/uksal/Desktop/PYTHON/Meine_Dokumente/Tag_20.ipynb#ch0000035?line=3'>4</a>\u001b[0m     \u001b[39mraise\u001b[39;00m \u001b[39mNameError\u001b[39;00m (\u001b[39m\"\u001b[39m\u001b[39mBu kata çıkılmaz\u001b[39m\u001b[39m\"\u001b[39m)\n\u001b[0;32m      <a href='vscode-notebook-cell:/c%3A/Users/uksal/Desktop/PYTHON/Meine_Dokumente/Tag_20.ipynb#ch0000035?line=4'>5</a>\u001b[0m \u001b[39mprint\u001b[39m(\u001b[39mf\u001b[39m\u001b[39m\"\u001b[39m\u001b[39mAsansör \u001b[39m\u001b[39m{\u001b[39;00mkat\u001b[39m}\u001b[39;00m\u001b[39m. kata çıkıyor\u001b[39m\u001b[39m\"\u001b[39m)\n",
      "\u001b[1;31mNameError\u001b[0m: Bu kata çıkılmaz"
     ]
    }
   ],
   "source": [
    "# raise: belli durumlarda uyarı mesajı vermek için kullanılabilir\n",
    "kat = int(input(\"hangi kata çıkmak istiyorsunuz: \"))\n",
    "if kat == 13:\n",
    "    raise NameError (\"Bu kata çıkılmaz\")\n",
    "print(f\"Asansör {kat}. kata çıkıyor\")\n"
   ]
  },
  {
   "cell_type": "markdown",
   "metadata": {},
   "source": [
    "# Files / Dosyalar"
   ]
  },
  {
   "cell_type": "code",
   "execution_count": null,
   "metadata": {},
   "outputs": [],
   "source": [
    "# Files\n",
    "# 1. text dosyalar (metin editörü ile açılan dosyalar, notepad, notepad++, vim, vi,...)\n",
    "# 2. binary dosyalar (metin haricinde \"resim, ses, video\" veriler içeren dosyalar) , özel programlar\n",
    "# satır sonu '\\n', ' ', None ile belirtilir.\n",
    "## Temel dosyalama işlemleri:\n",
    "# 1. Dosya açılır, (open)\n",
    "# 2. Dosya işlem yapılır (okuma, yazma, ....)\n",
    "# 3. Dosya kapatılır (close)\n",
    "\n",
    "dosya = open(\"myfile.txt\") # 1.default: okuma modunda açılır\n",
    "# mode değeri (açma amacımızı belirtiyoruz)\n",
    "# open(file_name_path, mode='r', encoding=None) ile en önemli olanlar\n",
    "print(dosya.read()) # 2.Dosyada islem yapildi\n",
    "\n",
    "dosya.close() # 3. dosya kapatildi"
   ]
  },
  {
   "cell_type": "code",
   "execution_count": 5,
   "metadata": {},
   "outputs": [
    {
     "data": {
      "text/plain": [
       "'c:\\\\Users\\\\uksal\\\\Desktop\\\\PYTHON\\\\Meine_Dokumente'"
      ]
     },
     "execution_count": 5,
     "metadata": {},
     "output_type": "execute_result"
    }
   ],
   "source": [
    "pwd  # calistigim klasör\n",
    "     # windows kullanıcıları: C:\\\\home\\\\Belgeler\\\\myfile.txt\n",
    "     #                        C:/home/Belgeler/myfile.txt"
   ]
  },
  {
   "cell_type": "markdown",
   "metadata": {},
   "source": [
    "# dosya açma modları:\n",
    "\n",
    "'r': open for reading (default)\n",
    "\n",
    "'w': open for writing, truncating the file first\n",
    "\n",
    "'x': open for exclusive creation, failing if the file already exists\n",
    "\n",
    "'a': open for writing, appending to the end of file if it exists\n",
    "\n",
    "'b': binary mode\n",
    "\n",
    "'t': text mode (default)\n",
    "\n",
    "'+': open for updating (reading and writing)"
   ]
  },
  {
   "cell_type": "code",
   "execution_count": 44,
   "metadata": {},
   "outputs": [
    {
     "name": "stdout",
     "output_type": "stream",
     "text": [
      "Dosya adı... C:\\Users\\uksal\\Desktop\\PYTHON\\Meine_Dokumente\\myfile.txt\n",
      "Dosya kapalı mı? False\n",
      "Dosya modu..: r\n"
     ]
    }
   ],
   "source": [
    "# dosya hakkında bilgi veren metotlar\n",
    "dosya = open(\"C:\\\\Users\\\\uksal\\\\Desktop\\\\PYTHON\\\\Meine_Dokumente\\\\myfile.txt\", \"r\") # 1.default: okuma modunda açılır\n",
    "print(\"Dosya adı...\", dosya.name)\n",
    "print(\"Dosya kapalı mı?\", dosya.closed)\n",
    "print(\"Dosya modu..:\", dosya.mode)\n",
    "dosya.close()"
   ]
  },
  {
   "cell_type": "code",
   "execution_count": 40,
   "metadata": {},
   "outputs": [
    {
     "name": "stdout",
     "output_type": "stream",
     "text": [
      "1.Bu bir text dosyasidir.\n",
      "2.Bu ikinci satirdir.\n",
      "3.Bu ucuncu satirdir.\n",
      "4.Bu dorduncu satirdir.\n",
      "5.Bu besinci satirdir.\n",
      "6.Bu altinci satirdir.\n",
      "7.Bu yedinci satirdir.\n"
     ]
    }
   ],
   "source": [
    "# dosya kayıtları okuyalım\n",
    "dosya = open(\"C:\\\\Users\\\\uksal\\\\Desktop\\\\PYTHON\\\\Meine_Dokumente\\\\myfile.txt\", \"r\")\n",
    "\n",
    "print(dosya.read())\n",
    "\n",
    "dosya.close()"
   ]
  },
  {
   "cell_type": "code",
   "execution_count": 45,
   "metadata": {},
   "outputs": [
    {
     "name": "stdout",
     "output_type": "stream",
     "text": [
      "1.Bu \n"
     ]
    }
   ],
   "source": [
    "# dosya kayıtlarından ilk 5 byte'i ver\n",
    "dosya = open(\"C:\\\\Users\\\\uksal\\\\Desktop\\\\PYTHON\\\\Meine_Dokumente\\\\myfile.txt\", \"r\") \n",
    "print(dosya.read(5)) \n",
    "\n",
    "dosya.close()"
   ]
  },
  {
   "cell_type": "code",
   "execution_count": 46,
   "metadata": {},
   "outputs": [
    {
     "name": "stdout",
     "output_type": "stream",
     "text": [
      "1.Bu bir text dosyasidir.\n",
      "\n"
     ]
    }
   ],
   "source": [
    "# dosya kayıtlarıni satır satır okuyalım\n",
    "dosya = open(\"C:\\\\Users\\\\uksal\\\\Desktop\\\\PYTHON\\\\Meine_Dokumente\\\\myfile.txt\", \"r\") \n",
    "print(dosya.readline()) # ilk satiri verdi\n",
    "\n",
    "dosya.close()"
   ]
  },
  {
   "cell_type": "code",
   "execution_count": 48,
   "metadata": {},
   "outputs": [
    {
     "name": "stdout",
     "output_type": "stream",
     "text": [
      "1.Bu bir text dosyasidir.\n",
      "\n",
      "2.Bu ikinci satirdir.\n",
      "\n",
      "3.Bu ucuncu satirdir.\n",
      "\n",
      "4.Bu dorduncu satirdir.\n",
      "\n",
      "5.Bu besinci satirdir.\n",
      "\n",
      "6.Bu altinci satirdir.\n",
      "\n",
      "7.Bu yedinci satirdir.\n"
     ]
    }
   ],
   "source": [
    "# dosya kayıtlarıni satır satır okuyalım\n",
    "dosya = open(\"C:\\\\Users\\\\uksal\\\\Desktop\\\\PYTHON\\\\Meine_Dokumente\\\\myfile.txt\", \"r\") \n",
    "for i in dosya:  # döngü ile tüm satirlari verdi\n",
    "    print(i)\n",
    "\n",
    "dosya.close()"
   ]
  },
  {
   "cell_type": "code",
   "execution_count": 49,
   "metadata": {},
   "outputs": [
    {
     "name": "stdout",
     "output_type": "stream",
     "text": [
      "['1.Bu bir text dosyasidir.\\n', '2.Bu ikinci satirdir.\\n', '3.Bu ucuncu satirdir.\\n', '4.Bu dorduncu satirdir.\\n', '5.Bu besinci satirdir.\\n', '6.Bu altinci satirdir.\\n', '7.Bu yedinci satirdir.']\n"
     ]
    }
   ],
   "source": [
    "# tüm kayıtları okuyup, liste halinde döndürür\n",
    "dosya = open(\"C:\\\\Users\\\\uksal\\\\Desktop\\\\PYTHON\\\\Meine_Dokumente\\\\myfile.txt\", \"r\") \n",
    "print(dosya.readlines())  \n",
    "\n",
    "dosya.close()"
   ]
  },
  {
   "cell_type": "code",
   "execution_count": 51,
   "metadata": {},
   "outputs": [
    {
     "name": "stdout",
     "output_type": "stream",
     "text": [
      "1.Bu bir text dosyasidir.\n",
      "2.Bu ikinci satirdir.\n",
      "3.Bu ucuncu satirdir.\n",
      "4.Bu dorduncu satirdir.\n",
      "5.Bu besinci satirdir.\n",
      "6.Bu altinci satirdir.\n",
      "7.Bu yedinci satirdir.\n"
     ]
    }
   ],
   "source": [
    "# with dosyayı otomatik kapatıyor. close satirina gerek yok!\n",
    "with open(\"C:\\\\Users\\\\uksal\\\\Desktop\\\\PYTHON\\\\Meine_Dokumente\\\\myfile.txt\", 'r') as dosya:\n",
    "    kayit = dosya.read()\n",
    "    print(kayit)"
   ]
  },
  {
   "cell_type": "code",
   "execution_count": 52,
   "metadata": {},
   "outputs": [
    {
     "name": "stdout",
     "output_type": "stream",
     "text": [
      "1.Bu bir text dosyasidir.\n",
      "\n"
     ]
    }
   ],
   "source": [
    "# ilk kaydi döndürdü\n",
    "with open(\"C:\\\\Users\\\\uksal\\\\Desktop\\\\PYTHON\\\\Meine_Dokumente\\\\myfile.txt\", 'r') as dosya:\n",
    "    kayit = dosya.readline()\n",
    "    print(kayit)"
   ]
  },
  {
   "cell_type": "code",
   "execution_count": 53,
   "metadata": {},
   "outputs": [
    {
     "name": "stdout",
     "output_type": "stream",
     "text": [
      "1.Bu bir text dosyasidir.\n",
      "\n",
      "2.Bu ikinci satirdir.\n",
      "\n"
     ]
    }
   ],
   "source": [
    "# ikinci kaydi döndürdü. her kayit icin yazmaktansa döngü kullanmali\n",
    "with open(\"C:\\\\Users\\\\uksal\\\\Desktop\\\\PYTHON\\\\Meine_Dokumente\\\\myfile.txt\", 'r') as dosya:\n",
    "    kayit = dosya.readline()\n",
    "    print(kayit)\n",
    "\n",
    "    kayit = dosya.readline()\n",
    "    print(kayit)"
   ]
  },
  {
   "cell_type": "code",
   "execution_count": 54,
   "metadata": {},
   "outputs": [
    {
     "name": "stdout",
     "output_type": "stream",
     "text": [
      "1.Bu bir text dosyasidir.\n",
      "\n",
      "2.Bu ikinci satirdir.\n",
      "\n",
      "3.Bu ucuncu satirdir.\n",
      "\n",
      "4.Bu dorduncu satirdir.\n",
      "\n",
      "5.Bu besinci satirdir.\n",
      "\n",
      "6.Bu altinci satirdir.\n",
      "\n",
      "7.Bu yedinci satirdir.\n"
     ]
    }
   ],
   "source": [
    "# döngü ile tüm kayitlari döndürdü\n",
    "with open(\"C:\\\\Users\\\\uksal\\\\Desktop\\\\PYTHON\\\\Meine_Dokumente\\\\myfile.txt\", 'r') as dosya:\n",
    "    for kayit in dosya:\n",
    "        print(kayit)"
   ]
  },
  {
   "cell_type": "code",
   "execution_count": 55,
   "metadata": {},
   "outputs": [
    {
     "name": "stdout",
     "output_type": "stream",
     "text": [
      "['1.Bu bir text dosyasidir.\\n', '2.Bu ikinci satirdir.\\n', '3.Bu ucuncu satirdir.\\n', '4.Bu dorduncu satirdir.\\n', '5.Bu besinci satirdir.\\n', '6.Bu altinci satirdir.\\n', '7.Bu yedinci satirdir.']\n"
     ]
    }
   ],
   "source": [
    "# tüm kayıtları okuyup, liste halinde döndürür\n",
    "with open(\"C:\\\\Users\\\\uksal\\\\Desktop\\\\PYTHON\\\\Meine_Dokumente\\\\myfile.txt\", 'r') as dosya:\n",
    "    print(dosya.readlines())"
   ]
  },
  {
   "cell_type": "code",
   "execution_count": 58,
   "metadata": {},
   "outputs": [
    {
     "name": "stdout",
     "output_type": "stream",
     "text": [
      "1.Bu bir text dosyasidir.\n",
      "2.Bu ikinci satirdir.\n",
      "3.Bu uc\n"
     ]
    }
   ],
   "source": [
    "with open(\"C:\\\\Users\\\\uksal\\\\Desktop\\\\PYTHON\\\\Meine_Dokumente\\\\myfile.txt\", 'r') as dosya:\n",
    "    kayit = dosya.read(55)  # 55. byte'a kadar geldi\n",
    "    print(kayit)"
   ]
  }
 ],
 "metadata": {
  "interpreter": {
   "hash": "53c74afc0db58d58878a88bdfa31a249a57ca55c151e0cf2df7d0bbab87159f0"
  },
  "kernelspec": {
   "display_name": "Python 3.10.4 64-bit (windows store)",
   "language": "python",
   "name": "python3"
  },
  "language_info": {
   "codemirror_mode": {
    "name": "ipython",
    "version": 3
   },
   "file_extension": ".py",
   "mimetype": "text/x-python",
   "name": "python",
   "nbconvert_exporter": "python",
   "pygments_lexer": "ipython3",
   "version": "3.10.2"
  },
  "orig_nbformat": 4
 },
 "nbformat": 4,
 "nbformat_minor": 2
}
