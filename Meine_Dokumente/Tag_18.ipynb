{
 "cells": [
  {
   "cell_type": "code",
   "execution_count": 2,
   "metadata": {},
   "outputs": [
    {
     "name": "stdout",
     "output_type": "stream",
     "text": [
      "['c']\n"
     ]
    }
   ],
   "source": [
    "green_letters = [\"\",\"\",\"c\",\"\",\"\",0]\n",
    "my_green = filter(None, green_letters)  # Filter, None ve False ifadeleri kaldirir.\n",
    "print(list(my_green)) "
   ]
  },
  {
   "cell_type": "code",
   "execution_count": 3,
   "metadata": {},
   "outputs": [
    {
     "name": "stdout",
     "output_type": "stream",
     "text": [
      "('i', 'love', 'you')\n",
      "('you', 'ate', 'much')\n",
      "('he', 'works', 'hard')\n"
     ]
    }
   ],
   "source": [
    "words1 = [\"you\", \"much\", \"hard\"]\n",
    "words2 = [\"i\", \"you\", \"he\"]\n",
    "words3 = [\"love\", \"ate\", \"works\"]\n",
    "for i in zip(words2,words3,words1):\n",
    "    print(i)"
   ]
  },
  {
   "cell_type": "code",
   "execution_count": 4,
   "metadata": {},
   "outputs": [
    {
     "name": "stdout",
     "output_type": "stream",
     "text": [
      "i love you\n",
      "you ate much\n",
      "he works hard\n"
     ]
    }
   ],
   "source": [
    "words1 = [\"you\", \"much\", \"hard\"]\n",
    "words2 = [\"i\", \"you\", \"he\"]\n",
    "words3 = [\"love\", \"ate\", \"works\"]\n",
    "for i in zip(words2,words3,words1):\n",
    "    print(*i)"
   ]
  },
  {
   "cell_type": "markdown",
   "metadata": {},
   "source": [
    "# Module and Packages"
   ]
  },
  {
   "cell_type": "markdown",
   "metadata": {},
   "source": [
    ".py uzantili Python dosyasina script denir. Eger fonksiyon iceren bir dosya import edilebiliyorsa ona Modul denir."
   ]
  },
  {
   "cell_type": "code",
   "execution_count": 5,
   "metadata": {},
   "outputs": [
    {
     "data": {
      "text/plain": [
       "3.141592653589793"
      ]
     },
     "execution_count": 5,
     "metadata": {},
     "output_type": "execute_result"
    }
   ],
   "source": [
    "#math modülü\n",
    "import math\n",
    "math.pi  # math. noktayi yazinca fonksiyon önerileri cikiyor"
   ]
  },
  {
   "cell_type": "code",
   "execution_count": null,
   "metadata": {},
   "outputs": [],
   "source": [
    "#tek bir modülü içe aktarmak için\n",
    "import math #(modül adı)\n",
    "#birden fazla modülü içe aktarmak için \n",
    "import math, random, cmath, os # ...\n",
    "#veya\n",
    "import math\n",
    "import random\n",
    "math.pi\n",
    "##...\n",
    "\n",
    "#bir modül içerisindeki fonksiyonu doğrudan içe aktarmak için\n",
    "## from modül_adi import fonksiyon_adı\n",
    "from math import pi, pow, sqrt\n",
    "pi\n",
    "pow(2,3)\n",
    "## from modül_adi import * (tüm fonksiyonları içe aktarır)\n",
    "from math import *\n",
    "pow(2,3)\n",
    "##modül ismi çok uzun ise kısaltma amaçlı takma ad (alias) kullanılabilir\n",
    "import math as m\n",
    "m.pi\n",
    "import pandas as pd\n",
    "## Eğer bir paket içerisindeki belli bir modülü almak için ise\n",
    "##import paket_adi.modül_adi"
   ]
  },
  {
   "cell_type": "code",
   "execution_count": null,
   "metadata": {},
   "outputs": [],
   "source": [
    "import math\n",
    "dir(math)  # calistirinca math icerisindeki tüm fonksiyonlari verir"
   ]
  },
  {
   "cell_type": "code",
   "execution_count": 6,
   "metadata": {},
   "outputs": [
    {
     "data": {
      "text/plain": [
       "120"
      ]
     },
     "execution_count": 6,
     "metadata": {},
     "output_type": "execute_result"
    }
   ],
   "source": [
    "import math \n",
    "math.factorial(5)"
   ]
  },
  {
   "cell_type": "code",
   "execution_count": null,
   "metadata": {},
   "outputs": [],
   "source": [
    "# Rasgele sayılar\n",
    "import random\n",
    "help(random)  # help ile detayli bilgi alinabilir"
   ]
  },
  {
   "cell_type": "code",
   "execution_count": 8,
   "metadata": {},
   "outputs": [
    {
     "name": "stdout",
     "output_type": "stream",
     "text": [
      "Sayısal Loto\n",
      "[33, 4, 22, 45, 19, 31]\n"
     ]
    }
   ],
   "source": [
    "##sayısal loto: 1-49 arası 6 adet sayı üretelim...\n",
    "from random import randint\n",
    "print (\"Sayısal Loto\") \n",
    "loto = []\n",
    "for i in range(6):\n",
    "    sayi = randint(1,49)\n",
    "    loto.append(sayi)  # ayni sayilari verebiliyor\n",
    "\n",
    "print(loto)"
   ]
  },
  {
   "cell_type": "code",
   "execution_count": 12,
   "metadata": {},
   "outputs": [
    {
     "name": "stdout",
     "output_type": "stream",
     "text": [
      "Sayısal Loto\n",
      "[47, 24, 35, 14, 6, 29]\n"
     ]
    }
   ],
   "source": [
    "from random import randint\n",
    "print (\"Sayısal Loto\") \n",
    "loto = []\n",
    "for i in range(6):\n",
    "    sayi = randint(1,49)\n",
    "    while sayi in loto:  # ayni sayiyi tekrar vermez\n",
    "        sayi = randint(1,49)\n",
    "    \n",
    "    loto.append(sayi)\n",
    "    \n",
    "print(loto)"
   ]
  },
  {
   "cell_type": "code",
   "execution_count": 16,
   "metadata": {},
   "outputs": [
    {
     "name": "stdout",
     "output_type": "stream",
     "text": [
      "Sayısal Loto\n",
      "[2, 30, 15, 47, 43, 39]\n"
     ]
    }
   ],
   "source": [
    "from random import randint\n",
    "print (\"Sayısal Loto\") \n",
    "loto = []\n",
    "for i in range(6):\n",
    "    sayi = randint(1,49)\n",
    "    if sayi in loto:  # ayni sayiyi tekrar vermez\n",
    "        sayi = randint(1,49)\n",
    "    \n",
    "    loto.append(sayi)\n",
    "    \n",
    "print(loto)"
   ]
  },
  {
   "cell_type": "code",
   "execution_count": 17,
   "metadata": {},
   "outputs": [
    {
     "name": "stdout",
     "output_type": "stream",
     "text": [
      "Help on method randint in module random:\n",
      "\n",
      "randint(a, b) method of random.Random instance\n",
      "    Return random integer in range [a, b], including both end points.\n",
      "\n"
     ]
    }
   ],
   "source": [
    "help(randint)"
   ]
  },
  {
   "cell_type": "code",
   "execution_count": 20,
   "metadata": {},
   "outputs": [
    {
     "name": "stdout",
     "output_type": "stream",
     "text": [
      "3.141592653589793 \n",
      " 120 \n",
      " 2.0\n"
     ]
    }
   ],
   "source": [
    "import math\n",
    "print(math.pi,\"\\n\", math.factorial(5),\"\\n\", math.log10(100))"
   ]
  },
  {
   "cell_type": "code",
   "execution_count": 21,
   "metadata": {},
   "outputs": [
    {
     "name": "stdout",
     "output_type": "stream",
     "text": [
      "3.141592653589793 \n",
      " 120 \n",
      " 2.0\n"
     ]
    }
   ],
   "source": [
    "from math import pi, factorial, log10\n",
    "print(pi,\"\\n\", factorial(5), \"\\n\", log10(100))"
   ]
  },
  {
   "cell_type": "code",
   "execution_count": null,
   "metadata": {},
   "outputs": [],
   "source": [
    "import string as st  # string ifadesini artik st ile cagiriyorum\n",
    "print(st.punctuation)\n",
    "print(st.digits)"
   ]
  },
  {
   "cell_type": "code",
   "execution_count": 22,
   "metadata": {},
   "outputs": [
    {
     "name": "stdout",
     "output_type": "stream",
     "text": [
      "j[$,Q;]TD5\n"
     ]
    }
   ],
   "source": [
    "##password generator\n",
    "import string as st\n",
    "import random\n",
    "liste = st.printable\n",
    "\n",
    "yeni_liste = liste[:-6]\n",
    "#print(yeni_liste)\n",
    "password = \"\".join(random.sample(yeni_liste,10))\n",
    "print(password)"
   ]
  },
  {
   "cell_type": "code",
   "execution_count": 23,
   "metadata": {},
   "outputs": [
    {
     "name": "stdout",
     "output_type": "stream",
     "text": [
      "-`20Eij8\n"
     ]
    }
   ],
   "source": [
    "#password generator:\n",
    "#en az 1 büyük harf, 1 küçük harf, 1 rakam, 1 özel kararter içeren password\n",
    "import string as st\n",
    "import random\n",
    "kHarf = st.ascii_lowercase\n",
    "bHarf = st.ascii_uppercase\n",
    "rakam = st.digits\n",
    "ozelKarakter = st.punctuation\n",
    "pswrd = []\n",
    "pswrd.extend(kHarf)\n",
    "pswrd.extend(bHarf)\n",
    "pswrd.extend(rakam)\n",
    "pswrd.extend(ozelKarakter)\n",
    "\n",
    "password = \"\".join(random.sample(pswrd,8))\n",
    "print(password)\n"
   ]
  },
  {
   "cell_type": "code",
   "execution_count": 24,
   "metadata": {},
   "outputs": [
    {
     "name": "stdout",
     "output_type": "stream",
     "text": [
      "mfIU25])\n"
     ]
    }
   ],
   "source": [
    "#password generator:\n",
    "#en az 1 büyük harf, 1 küçük harf, 1 rakam, 1 özel kararter içeren password\n",
    "import string as st\n",
    "import random\n",
    "kHarf = st.ascii_lowercase\n",
    "bHarf = st.ascii_uppercase\n",
    "rakam = st.digits\n",
    "ozelKarakter = st.punctuation\n",
    "pswrd = []\n",
    "pswrd.extend(random.sample(kHarf,2))\n",
    "pswrd.extend(random.sample(bHarf,2))\n",
    "pswrd.extend(random.sample(rakam,2))\n",
    "pswrd.extend(random.sample(ozelKarakter,2))\n",
    "\n",
    "print(\"\".join(pswrd))"
   ]
  },
  {
   "cell_type": "code",
   "execution_count": 25,
   "metadata": {},
   "outputs": [
    {
     "name": "stdout",
     "output_type": "stream",
     "text": [
      "sR3!tUH{\n"
     ]
    }
   ],
   "source": [
    "#password generator:\n",
    "#en az 1 büyük harf, 1 küçük harf, 1 rakam, 1 özel kararter içeren password\n",
    "import string as st\n",
    "import random\n",
    "kHarf = st.ascii_lowercase\n",
    "bHarf = st.ascii_uppercase\n",
    "rakam = st.digits\n",
    "ozelKarakter = st.punctuation\n",
    "pswrd = []\n",
    "pswrd.extend(random.sample(kHarf,1))\n",
    "pswrd.extend(random.sample(bHarf,1))\n",
    "pswrd.extend(random.sample(rakam,1))\n",
    "pswrd.extend(random.sample(ozelKarakter,1))\n",
    "liste = st.printable\n",
    "y_liste = liste[:-6]\n",
    "pswrd.extend(random.sample(y_liste,4))\n",
    "print(\"\".join(pswrd))"
   ]
  },
  {
   "cell_type": "code",
   "execution_count": 26,
   "metadata": {},
   "outputs": [
    {
     "name": "stdout",
     "output_type": "stream",
     "text": [
      "3^9U8)mE\n"
     ]
    }
   ],
   "source": [
    "#password generator:\n",
    "#en az 1 büyük harf, 1 küçük harf, 1 rakam, 1 özel kararter içeren password\n",
    "import string as st\n",
    "import random\n",
    "kHarf = st.ascii_lowercase\n",
    "bHarf = st.ascii_uppercase\n",
    "rakam = st.digits\n",
    "ozelKarakter = st.punctuation\n",
    "pswrd = []\n",
    "pswrd.extend(random.sample(kHarf,1))\n",
    "pswrd.extend(random.sample(bHarf,1))\n",
    "pswrd.extend(random.sample(rakam,1))\n",
    "pswrd.extend(random.sample(ozelKarakter,1))\n",
    "liste = st.printable\n",
    "y_liste = liste[:-6]\n",
    "pswrd.extend(random.sample(y_liste,4))\n",
    "random.shuffle(pswrd)\n",
    "print(\"\".join(pswrd))"
   ]
  },
  {
   "cell_type": "code",
   "execution_count": 31,
   "metadata": {},
   "outputs": [
    {
     "data": {
      "text/plain": [
       "['MAXYEAR',\n",
       " 'MINYEAR',\n",
       " '__all__',\n",
       " '__builtins__',\n",
       " '__cached__',\n",
       " '__doc__',\n",
       " '__file__',\n",
       " '__loader__',\n",
       " '__name__',\n",
       " '__package__',\n",
       " '__spec__',\n",
       " 'date',\n",
       " 'datetime',\n",
       " 'datetime_CAPI',\n",
       " 'sys',\n",
       " 'time',\n",
       " 'timedelta',\n",
       " 'timezone',\n",
       " 'tzinfo']"
      ]
     },
     "execution_count": 31,
     "metadata": {},
     "output_type": "execute_result"
    }
   ],
   "source": [
    "dir(datetime)"
   ]
  },
  {
   "cell_type": "code",
   "execution_count": 29,
   "metadata": {},
   "outputs": [
    {
     "name": "stdout",
     "output_type": "stream",
     "text": [
      "2022-04-07 03:25:17.401469\n",
      "2022-04-07\n"
     ]
    }
   ],
   "source": [
    "import datetime\n",
    "print(datetime.datetime.today())\n",
    "print(datetime.date.today())"
   ]
  },
  {
   "cell_type": "code",
   "execution_count": 32,
   "metadata": {},
   "outputs": [
    {
     "name": "stdout",
     "output_type": "stream",
     "text": [
      "2022-04-07\n"
     ]
    }
   ],
   "source": [
    "from datetime import datetime\n",
    "from datetime import date\n",
    "print(date.today())"
   ]
  },
  {
   "cell_type": "code",
   "execution_count": 33,
   "metadata": {},
   "outputs": [
    {
     "name": "stdout",
     "output_type": "stream",
     "text": [
      "2022-04-07\n"
     ]
    }
   ],
   "source": [
    "from datetime import date as dt \n",
    "print(dt.today())"
   ]
  },
  {
   "cell_type": "code",
   "execution_count": 34,
   "metadata": {},
   "outputs": [
    {
     "name": "stdout",
     "output_type": "stream",
     "text": [
      "2022-04-07\n",
      "2022-04-07 03:30:38.047500\n"
     ]
    }
   ],
   "source": [
    "from datetime import date, datetime\n",
    "print(date.today())\n",
    "print(datetime.now())"
   ]
  },
  {
   "cell_type": "code",
   "execution_count": 35,
   "metadata": {},
   "outputs": [
    {
     "name": "stdout",
     "output_type": "stream",
     "text": [
      "2022-04-07\n"
     ]
    }
   ],
   "source": [
    "from datetime import *\n",
    "print(date.today())"
   ]
  },
  {
   "cell_type": "code",
   "execution_count": 36,
   "metadata": {},
   "outputs": [
    {
     "data": {
      "text/plain": [
       "3.141592653589793"
      ]
     },
     "execution_count": 36,
     "metadata": {},
     "output_type": "execute_result"
    }
   ],
   "source": [
    "from math import pi\n",
    "pi"
   ]
  },
  {
   "cell_type": "code",
   "execution_count": 38,
   "metadata": {},
   "outputs": [
    {
     "name": "stdout",
     "output_type": "stream",
     "text": [
      "2022-04-07\n",
      "2022-04-30\n",
      "23 days, 0:00:00\n"
     ]
    }
   ],
   "source": [
    "from datetime import date, datetime\n",
    "#datetime.now()/date.today(): O anki tarih-saat\n",
    "#doğum günüme kaç gün var:)\n",
    "bugun = date.today()\n",
    "print(bugun)\n",
    "d_gunum = date(bugun.year, 4, 30)\n",
    "print(d_gunum)\n",
    "\n",
    "print(d_gunum-bugun)"
   ]
  },
  {
   "cell_type": "code",
   "execution_count": 42,
   "metadata": {},
   "outputs": [
    {
     "name": "stdout",
     "output_type": "stream",
     "text": [
      "2022-04-07\n",
      "2022-02-26\n",
      "325 days, 0:00:00\n"
     ]
    }
   ],
   "source": [
    "from datetime import date, datetime\n",
    "#datetime.now()/date.today(): O anki tarih-saat\n",
    "#doğum günüme kaç gün var:)\n",
    "bugun = date.today()\n",
    "print(bugun)\n",
    "d_gunum = date(bugun.year, 2, 26)\n",
    "print(d_gunum)\n",
    "if d_gunum<bugun:\n",
    "    d_gunum = date(bugun.year+1, 2, 26)\n",
    "\n",
    "print(d_gunum-bugun)"
   ]
  },
  {
   "cell_type": "code",
   "execution_count": 44,
   "metadata": {},
   "outputs": [
    {
     "name": "stdout",
     "output_type": "stream",
     "text": [
      "2022-04-07\n",
      "2022-02-26\n",
      "Doğum günüme 325  gün kaldı.\n"
     ]
    }
   ],
   "source": [
    "from datetime import date, datetime\n",
    "#datetime.now()/date.today(): O anki tarih-saat\n",
    "#doğum günüme kaç gün var:)\n",
    "bugun = date.today()\n",
    "print(bugun)\n",
    "d_gunum = date(bugun.year, 2, 26)\n",
    "print(d_gunum)\n",
    "if d_gunum<bugun:\n",
    "    d_gunum = d_gunum.replace(year=bugun.year+1)\n",
    "\n",
    "print(\"Doğum günüme\",abs(d_gunum-bugun).days, \" gün kaldı.\")"
   ]
  },
  {
   "cell_type": "code",
   "execution_count": 45,
   "metadata": {},
   "outputs": [
    {
     "name": "stdout",
     "output_type": "stream",
     "text": [
      "                                  2022\n",
      "\n",
      "      January                   February                   March\n",
      "Mo Tu We Th Fr Sa Su      Mo Tu We Th Fr Sa Su      Mo Tu We Th Fr Sa Su\n",
      "                1  2          1  2  3  4  5  6          1  2  3  4  5  6\n",
      " 3  4  5  6  7  8  9       7  8  9 10 11 12 13       7  8  9 10 11 12 13\n",
      "10 11 12 13 14 15 16      14 15 16 17 18 19 20      14 15 16 17 18 19 20\n",
      "17 18 19 20 21 22 23      21 22 23 24 25 26 27      21 22 23 24 25 26 27\n",
      "24 25 26 27 28 29 30      28                        28 29 30 31\n",
      "31\n",
      "\n",
      "       April                      May                       June\n",
      "Mo Tu We Th Fr Sa Su      Mo Tu We Th Fr Sa Su      Mo Tu We Th Fr Sa Su\n",
      "             1  2  3                         1             1  2  3  4  5\n",
      " 4  5  6  7  8  9 10       2  3  4  5  6  7  8       6  7  8  9 10 11 12\n",
      "11 12 13 14 15 16 17       9 10 11 12 13 14 15      13 14 15 16 17 18 19\n",
      "18 19 20 21 22 23 24      16 17 18 19 20 21 22      20 21 22 23 24 25 26\n",
      "25 26 27 28 29 30         23 24 25 26 27 28 29      27 28 29 30\n",
      "                          30 31\n",
      "\n",
      "        July                     August                  September\n",
      "Mo Tu We Th Fr Sa Su      Mo Tu We Th Fr Sa Su      Mo Tu We Th Fr Sa Su\n",
      "             1  2  3       1  2  3  4  5  6  7                1  2  3  4\n",
      " 4  5  6  7  8  9 10       8  9 10 11 12 13 14       5  6  7  8  9 10 11\n",
      "11 12 13 14 15 16 17      15 16 17 18 19 20 21      12 13 14 15 16 17 18\n",
      "18 19 20 21 22 23 24      22 23 24 25 26 27 28      19 20 21 22 23 24 25\n",
      "25 26 27 28 29 30 31      29 30 31                  26 27 28 29 30\n",
      "\n",
      "      October                   November                  December\n",
      "Mo Tu We Th Fr Sa Su      Mo Tu We Th Fr Sa Su      Mo Tu We Th Fr Sa Su\n",
      "                1  2          1  2  3  4  5  6                1  2  3  4\n",
      " 3  4  5  6  7  8  9       7  8  9 10 11 12 13       5  6  7  8  9 10 11\n",
      "10 11 12 13 14 15 16      14 15 16 17 18 19 20      12 13 14 15 16 17 18\n",
      "17 18 19 20 21 22 23      21 22 23 24 25 26 27      19 20 21 22 23 24 25\n",
      "24 25 26 27 28 29 30      28 29 30                  26 27 28 29 30 31\n",
      "31\n"
     ]
    }
   ],
   "source": [
    "import calendar\n",
    "calendar.prcal(2022)"
   ]
  },
  {
   "cell_type": "code",
   "execution_count": 46,
   "metadata": {},
   "outputs": [
    {
     "name": "stdout",
     "output_type": "stream",
     "text": [
      "     April 2022\n",
      "Mo Tu We Th Fr Sa Su\n",
      "             1  2  3\n",
      " 4  5  6  7  8  9 10\n",
      "11 12 13 14 15 16 17\n",
      "18 19 20 21 22 23 24\n",
      "25 26 27 28 29 30\n"
     ]
    }
   ],
   "source": [
    "import calendar\n",
    "calendar.prmonth(2022,4)"
   ]
  },
  {
   "cell_type": "code",
   "execution_count": 47,
   "metadata": {},
   "outputs": [
    {
     "name": "stdout",
     "output_type": "stream",
     "text": [
      "     Nisan 2022\n",
      "Pz Sa Ça Pe Cu Cm Pa\n",
      "             1  2  3\n",
      " 4  5  6  7  8  9 10\n",
      "11 12 13 14 15 16 17\n",
      "18 19 20 21 22 23 24\n",
      "25 26 27 28 29 30\n"
     ]
    }
   ],
   "source": [
    "import calendar\n",
    "import locale\n",
    "locale.setlocale(locale.LC_ALL,'') ##yerel tarih-saat değerlerini\n",
    "calendar.prmonth(2022,4)"
   ]
  },
  {
   "cell_type": "code",
   "execution_count": 52,
   "metadata": {},
   "outputs": [
    {
     "name": "stdout",
     "output_type": "stream",
     "text": [
      "Cape Town\n"
     ]
    }
   ],
   "source": [
    "from random import choice\n",
    "city = ['Stockholm', 'Istanbul', 'Seul', 'Cape Town']\n",
    "print(choice(city))"
   ]
  },
  {
   "cell_type": "code",
   "execution_count": 55,
   "metadata": {},
   "outputs": [
    {
     "name": "stdout",
     "output_type": "stream",
     "text": [
      "22327\n"
     ]
    }
   ],
   "source": [
    "import datetime\n",
    "birth = datetime.date(571, 4, 22)\n",
    "death = datetime.date(632, 6, 8)\n",
    "life = death-birth\n",
    "print(life.days)"
   ]
  },
  {
   "cell_type": "code",
   "execution_count": 57,
   "metadata": {},
   "outputs": [
    {
     "name": "stdout",
     "output_type": "stream",
     "text": [
      "22327\n"
     ]
    }
   ],
   "source": [
    "import datetime\n",
    "birth = datetime.date(571, 4, 22)\n",
    "death = datetime.date(632, 6, 8)\n",
    "life = date.toordinal(death)-date.toordinal(birth)\n",
    "print(life)"
   ]
  },
  {
   "cell_type": "code",
   "execution_count": 58,
   "metadata": {},
   "outputs": [
    {
     "name": "stdout",
     "output_type": "stream",
     "text": [
      "merhaba\n"
     ]
    }
   ],
   "source": [
    "if __name__ == \"__main__\":\n",
    "    print(\"merhaba\")\n",
    "## anlamı: Eğer bu modül, ana program ise aşağıdaki yazdığım kod satırlarını \n",
    "## çalıştır değilse(yani import edildiyse, baska yerde) çalıştırma"
   ]
  }
 ],
 "metadata": {
  "interpreter": {
   "hash": "f463fb0420b168889ef2901ced46399e46ddb0d0cd01bfcedb393030078e9b34"
  },
  "kernelspec": {
   "display_name": "Python 3.10.2 64-bit",
   "language": "python",
   "name": "python3"
  },
  "language_info": {
   "codemirror_mode": {
    "name": "ipython",
    "version": 3
   },
   "file_extension": ".py",
   "mimetype": "text/x-python",
   "name": "python",
   "nbconvert_exporter": "python",
   "pygments_lexer": "ipython3",
   "version": "3.10.2"
  },
  "orig_nbformat": 4
 },
 "nbformat": 4,
 "nbformat_minor": 2
}
