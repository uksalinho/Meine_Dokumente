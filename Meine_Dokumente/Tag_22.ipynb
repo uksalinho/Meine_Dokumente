{
 "cells": [
  {
   "cell_type": "markdown",
   "metadata": {},
   "source": [
    "# CSV --> Comma Separated Values"
   ]
  },
  {
   "cell_type": "markdown",
   "metadata": {},
   "source": [
    "Gerçek dünyada verilerin kod içerisinde oluşturulmasıyla seyrek karşılaşılmaktadır. Analiz edilecek edilecek veriler ya dosyalardan okunmakta ya da başka bir ortamdan (örneğin bir dosya, veritabanı, web ortamı gibi) alınmaktadır. Tabii en yaygın karşılaşılan durum verilerin bir text dosyadan alınmasıdır. Text dosyalarda veriler ya tablosal biçimde yani satır satır ya da düz biçimde bulunmaktadır. Tablosal biçimde veriler dosyalarda genellikle aralarına ',' karakteri ya da TAB karakter getirilerek satır satır bulundurulmaktadır. Bilindiği gibi aralarına ',' karakteri getirilerek tablosal biçimde oluşturulmuş olan dosyalara CSV dosyaları denilmektedir."
   ]
  },
  {
   "cell_type": "code",
   "execution_count": 3,
   "metadata": {},
   "outputs": [
    {
     "name": "stdout",
     "output_type": "stream",
     "text": [
      "no,fruit,amount\n",
      "1,Banana,4 lb\n",
      "2,Orange,5 lb\n",
      "3,Apple,2 lb\n",
      "4,Strawberry,6 lb\n",
      "5,Cherry,3 lb\n"
     ]
    }
   ],
   "source": [
    "# Kayitli csv dosyasini okutma 1\n",
    "with open(\"C:\\\\Users\\\\uksal\\\\Desktop\\\\PYTHON\\\\Bülent_Hoca\\\\fruits.csv\", \"r\", encoding=\"utf-8\") as f:\n",
    "    print(f.read())"
   ]
  },
  {
   "cell_type": "code",
   "execution_count": 19,
   "metadata": {},
   "outputs": [
    {
     "name": "stdout",
     "output_type": "stream",
     "text": [
      "['no', 'fruit', 'amount']\n",
      "['1', 'Banana', '4 lb']\n",
      "['2', 'Orange', '5 lb']\n",
      "['3', 'Apple', '2 lb']\n",
      "['4', 'Strawberry', '6 lb']\n",
      "['5', 'Cherry', '3 lb']\n"
     ]
    }
   ],
   "source": [
    "# Kayitli csv dosyasini okutma 2\n",
    "import csv\n",
    "with open(\"C:\\\\Users\\\\uksal\\\\Desktop\\\\PYTHON\\\\Bülent_Hoca\\\\fruits.csv\", \"r\", newline='') as f:\n",
    "    oku = csv.reader(f)\n",
    "    for line in oku:\n",
    "        print(line)"
   ]
  },
  {
   "cell_type": "code",
   "execution_count": 23,
   "metadata": {},
   "outputs": [
    {
     "name": "stdout",
     "output_type": "stream",
     "text": [
      "<_csv.reader object at 0x000002126C68C6A0>\n"
     ]
    }
   ],
   "source": [
    "# for döngüsüne almadan yazdirmayi denedik ama iterable olmali ki bassin\n",
    "import csv\n",
    "with open(\"C:\\\\Users\\\\uksal\\\\Desktop\\\\PYTHON\\\\Bülent_Hoca\\\\fruits.csv\", \"r\", newline='') as f:\n",
    "    print(csv.reader(f))"
   ]
  },
  {
   "cell_type": "code",
   "execution_count": 26,
   "metadata": {},
   "outputs": [
    {
     "name": "stdout",
     "output_type": "stream",
     "text": [
      "['no', 'fruit', 'amount']\n",
      "['1', 'Banana', '4 lb']\n"
     ]
    }
   ],
   "source": [
    "# iterable yaptik ama her satir icin calistirmak lazim\n",
    "import csv\n",
    "with open(\"C:\\\\Users\\\\uksal\\\\Desktop\\\\PYTHON\\\\Bülent_Hoca\\\\fruits.csv\", \"r\", newline='') as f:\n",
    "    iter(csv.reader(f))\n",
    "    print(next(csv.reader(f)))  # ... döngüye alinmazsa \n",
    "    print(next(csv.reader(f)))  # satirlar bitene kadar sürekli bunu calistirmak gerekir "
   ]
  },
  {
   "cell_type": "code",
   "execution_count": 28,
   "metadata": {},
   "outputs": [
    {
     "name": "stdout",
     "output_type": "stream",
     "text": [
      "['no,fruit,amount']\n",
      "['1,Banana,4 lb']\n",
      "['2,Orange,5 lb']\n",
      "['3,Apple,2 lb']\n",
      "['4,Strawberry,6 lb']\n",
      "['5,Cherry,3 lb']\n"
     ]
    }
   ],
   "source": [
    "# delimiter default ','\n",
    "# baska bir sey yazinca tüm satiri tek bir 'string' gibi yapiyor\n",
    "import csv\n",
    "with open(\"C:\\\\Users\\\\uksal\\\\Desktop\\\\PYTHON\\\\Bülent_Hoca\\\\fruits.csv\", \"r\", newline='') as f:\n",
    "    oku = csv.reader(f, delimiter=':')  #yoksa\n",
    "    for line in oku:\n",
    "        print(line)"
   ]
  },
  {
   "cell_type": "code",
   "execution_count": 27,
   "metadata": {},
   "outputs": [
    {
     "name": "stdout",
     "output_type": "stream",
     "text": [
      "no,fruit,amount\n",
      "1,Banana,4 lb\n",
      "2,Orange,5 lb\n",
      "3,Apple,2 lb\n",
      "4,Strawberry,6 lb\n",
      "5,Cherry,3 lb\n"
     ]
    }
   ],
   "source": [
    "# listeden kurtarmak icin join\n",
    "import csv\n",
    "with open(\"C:\\\\Users\\\\uksal\\\\Desktop\\\\PYTHON\\\\Bülent_Hoca\\\\fruits.csv\", \"r\", newline='') as f:\n",
    "    oku = csv.reader(f, delimiter=',')\n",
    "    for line in oku:\n",
    "        print(','.join(line))"
   ]
  },
  {
   "cell_type": "code",
   "execution_count": 5,
   "metadata": {},
   "outputs": [
    {
     "name": "stdout",
     "output_type": "stream",
     "text": [
      "num, first_name, last_name, ages\n",
      "1, ali, koÃ§, 37\n",
      "2, vefa, dede, 45\n",
      "3, salih, aksu, 56\n",
      "4, ayÅŸe, kar, 34\n",
      "5, ahmet, duru, 78\n"
     ]
    }
   ],
   "source": [
    "with open(\"C:\\\\Users\\\\uksal\\\\Desktop\\\\PYTHON\\\\Bülent_Hoca\\\\personal.csv\") as f:\n",
    "    print(f.read())"
   ]
  },
  {
   "cell_type": "code",
   "execution_count": 17,
   "metadata": {},
   "outputs": [],
   "source": [
    "# a ile ekleme yapildi\n",
    "with open(\"C:\\\\Users\\\\uksal\\\\Desktop\\\\PYTHON\\\\Bülent_Hoca\\\\personal.csv\", \"a\") as f:\n",
    "    f.write('\\n6, alim, koc, 37')\n",
    "    f.write('\\n7, veli, ak, 37')"
   ]
  },
  {
   "cell_type": "markdown",
   "metadata": {},
   "source": [
    "import csv\n",
    "with open(\"/home/bc/pythonProjeleri/personel2.csv\") as f:\n",
    "    oku = csv.reader(f, delimiter=':')\n",
    "    for line in oku:\n",
    "        print(line)\n",
    "\n",
    "personel2 isimli yeni csv dosyasi olusturuldu. dosya icinde ilk satir elemanlari ',' ile ayrildi. alt satir elemanlari ':' ile ayrildi. delimiter=':' yazinca sonuc;\n",
    "    ['num, first_name, last_name, ages'] # tek bir string gibi '' icinde\n",
    "    ['1', ' ali', ' koç', ' 37']\n",
    "    ['2', ' vefa', ' dede', ' 45']\n",
    "    ['3', ' salih', ' aksu', ' 56']"
   ]
  },
  {
   "cell_type": "code",
   "execution_count": 29,
   "metadata": {},
   "outputs": [],
   "source": [
    "# listeye ekleme yapma\n",
    "import csv\n",
    "yenikayit =[['8', ' volkan', ' ok', ' 37'],\n",
    "            ['9', ' vali', ' caach', ' 73']]\n",
    "\n",
    "with open(\"C:\\\\Users\\\\uksal\\\\Desktop\\\\PYTHON\\\\Bülent_Hoca\\\\personal.csv\", 'a', newline='') as f:\n",
    "    yaz = csv.writer(f)  # yaz ismli nesne oluştur\n",
    "    yaz.writerows(yenikayit)"
   ]
  },
  {
   "cell_type": "code",
   "execution_count": 37,
   "metadata": {},
   "outputs": [
    {
     "name": "stdout",
     "output_type": "stream",
     "text": [
      "   no       fruit amount\n",
      "0   1      Banana   4 lb\n",
      "1   2      Orange   5 lb\n",
      "2   3       Apple   2 lb\n",
      "3   4  Strawberry   6 lb\n",
      "4   5      Cherry   3 lb\n"
     ]
    }
   ],
   "source": [
    "# Kayitli csv dosyasini okutma 3\n",
    "import pandas as pd\n",
    "df = pd.read_csv(\"C:\\\\Users\\\\uksal\\\\Desktop\\\\PYTHON\\\\Bülent_Hoca\\\\fruits.csv\")\n",
    "print(df)"
   ]
  },
  {
   "cell_type": "code",
   "execution_count": 38,
   "metadata": {},
   "outputs": [
    {
     "name": "stdout",
     "output_type": "stream",
     "text": [
      "0      artvin\n",
      "1      samsun\n",
      "2    istanbul\n",
      "3      ankara\n",
      "Name: il, dtype: object\n",
      "         il  plaka\n",
      "0    artvin      8\n",
      "1    samsun     55\n",
      "2  istanbul     34\n",
      "3    ankara      6\n"
     ]
    }
   ],
   "source": [
    "# csv dosyasına veri yazmak with pandas\n",
    "import pandas as pd\n",
    "veri = {'il': ['artvin', 'samsun', 'istanbul', 'ankara'],\n",
    "        'plaka': [8, 55, 34, 6]}\n",
    "# dataframe : tablo halinde veri çerçevesi\n",
    "df = pd.DataFrame(veri) # pandas okuyacağı formata dönüştürdü...\n",
    "df.to_csv(\"iller.csv\") # olmayan dosyayi da olusturdu\n",
    "print(df['il'])\n",
    "print(df)"
   ]
  },
  {
   "cell_type": "code",
   "execution_count": 39,
   "metadata": {},
   "outputs": [
    {
     "name": "stdout",
     "output_type": "stream",
     "text": [
      "      il  plaka\n",
      "0  bursa     16\n",
      "1  izmir     35\n"
     ]
    }
   ],
   "source": [
    "# csv dosyasına ekleme yapma\n",
    "import pandas as pd\n",
    "veri = {'il': ['bursa', 'izmir'],\n",
    "        'plaka': [16, 35 ]}\n",
    "df = pd.DataFrame(veri) \n",
    "df.to_csv(\"iller.csv\", mode=\"a\") \n",
    "print(df)"
   ]
  },
  {
   "cell_type": "markdown",
   "metadata": {},
   "source": [
    "PYTHON  -->  sqlite veri tipleri:\n",
    "int     -->  INTEGER\n",
    "float   -->  REAL\n",
    "str     -->  TEXT\n",
    "None    -->  NULL\n",
    "bytes   -->  BLOB"
   ]
  },
  {
   "cell_type": "code",
   "execution_count": 56,
   "metadata": {},
   "outputs": [
    {
     "ename": "OperationalError",
     "evalue": "no such table: personel",
     "output_type": "error",
     "traceback": [
      "\u001b[1;31m---------------------------------------------------------------------------\u001b[0m",
      "\u001b[1;31mOperationalError\u001b[0m                          Traceback (most recent call last)",
      "\u001b[1;32mc:\\Users\\uksal\\Desktop\\PYTHON\\Meine_Dokumente\\Tag_22.ipynb Cell 17'\u001b[0m in \u001b[0;36m<cell line: 6>\u001b[1;34m()\u001b[0m\n\u001b[0;32m      <a href='vscode-notebook-cell:/c%3A/Users/uksal/Desktop/PYTHON/Meine_Dokumente/Tag_22.ipynb#ch0000023?line=3'>4</a>\u001b[0m cur \u001b[39m=\u001b[39m conn\u001b[39m.\u001b[39mcursor()                   \u001b[39m# 3. imleç/kürsor nesnesi oluştur\u001b[39;00m\n\u001b[0;32m      <a href='vscode-notebook-cell:/c%3A/Users/uksal/Desktop/PYTHON/Meine_Dokumente/Tag_22.ipynb#ch0000023?line=4'>5</a>\u001b[0m \u001b[39m# 4. varsa sorgular çalışıtırılır\u001b[39;00m\n\u001b[1;32m----> <a href='vscode-notebook-cell:/c%3A/Users/uksal/Desktop/PYTHON/Meine_Dokumente/Tag_22.ipynb#ch0000023?line=5'>6</a>\u001b[0m sql \u001b[39m=\u001b[39m cur\u001b[39m.\u001b[39;49mexecute(\u001b[39m\"\u001b[39;49m\u001b[39mSELECT * FROM personel\u001b[39;49m\u001b[39m\"\u001b[39;49m)\n\u001b[0;32m      <a href='vscode-notebook-cell:/c%3A/Users/uksal/Desktop/PYTHON/Meine_Dokumente/Tag_22.ipynb#ch0000023?line=6'>7</a>\u001b[0m \u001b[39m# 5. vt güncellenir\u001b[39;00m\n\u001b[0;32m      <a href='vscode-notebook-cell:/c%3A/Users/uksal/Desktop/PYTHON/Meine_Dokumente/Tag_22.ipynb#ch0000023?line=7'>8</a>\u001b[0m conn\u001b[39m.\u001b[39mcommit()\n",
      "\u001b[1;31mOperationalError\u001b[0m: no such table: personel"
     ]
    }
   ],
   "source": [
    "# sqlite bir VTYS(DBMS): sqlite3\n",
    "import sqlite3  #1. paketi import edelim (zaten gömülü olarak geiyor)\n",
    "conn = sqlite3.connect('personel.db') # 2. vt ile bağlantı kurar yoksa oluşturur\n",
    "cur = conn.cursor()                   # 3. imleç/kürsor nesnesi oluştur\n",
    "# 4. varsa sorgular çalışıtırılır\n",
    "sql = cur.execute(\"SELECT * FROM personel\")\n",
    "# 5. vt güncellenir\n",
    "conn.commit()\n",
    "# 6. vt kapatılır\n",
    "conn.close()"
   ]
  },
  {
   "cell_type": "code",
   "execution_count": 51,
   "metadata": {},
   "outputs": [
    {
     "ename": "OperationalError",
     "evalue": "table musteri already exists",
     "output_type": "error",
     "traceback": [
      "\u001b[1;31m---------------------------------------------------------------------------\u001b[0m",
      "\u001b[1;31mOperationalError\u001b[0m                          Traceback (most recent call last)",
      "\u001b[1;32mc:\\Users\\uksal\\Desktop\\PYTHON\\Meine_Dokumente\\Tag_22.ipynb Cell 18'\u001b[0m in \u001b[0;36m<cell line: 7>\u001b[1;34m()\u001b[0m\n\u001b[0;32m      <a href='vscode-notebook-cell:/c%3A/Users/uksal/Desktop/PYTHON/Meine_Dokumente/Tag_22.ipynb#ch0000025?line=3'>4</a>\u001b[0m cur \u001b[39m=\u001b[39m conn\u001b[39m.\u001b[39mcursor()                   \u001b[39m#3. imleç/kürsor nesnesi oluştur\u001b[39;00m\n\u001b[0;32m      <a href='vscode-notebook-cell:/c%3A/Users/uksal/Desktop/PYTHON/Meine_Dokumente/Tag_22.ipynb#ch0000025?line=4'>5</a>\u001b[0m \u001b[39m##4. varsa sorgular çalışıtırılır\u001b[39;00m\n\u001b[0;32m      <a href='vscode-notebook-cell:/c%3A/Users/uksal/Desktop/PYTHON/Meine_Dokumente/Tag_22.ipynb#ch0000025?line=5'>6</a>\u001b[0m \u001b[39m#tablo oluşttu\u001b[39;00m\n\u001b[1;32m----> <a href='vscode-notebook-cell:/c%3A/Users/uksal/Desktop/PYTHON/Meine_Dokumente/Tag_22.ipynb#ch0000025?line=6'>7</a>\u001b[0m cur\u001b[39m.\u001b[39;49mexecute(\u001b[39m\"\"\"\u001b[39;49m\u001b[39mCREATE TABLE musteri\u001b[39;49m\n\u001b[0;32m      <a href='vscode-notebook-cell:/c%3A/Users/uksal/Desktop/PYTHON/Meine_Dokumente/Tag_22.ipynb#ch0000025?line=7'>8</a>\u001b[0m \u001b[39m               (no INTEGER PRIMARY KEY, name TEXT, adres TEXT)\u001b[39;49m\u001b[39m\"\"\"\u001b[39;49m)\n\u001b[0;32m      <a href='vscode-notebook-cell:/c%3A/Users/uksal/Desktop/PYTHON/Meine_Dokumente/Tag_22.ipynb#ch0000025?line=8'>9</a>\u001b[0m \u001b[39m#kayıtlar\u001b[39;00m\n\u001b[0;32m     <a href='vscode-notebook-cell:/c%3A/Users/uksal/Desktop/PYTHON/Meine_Dokumente/Tag_22.ipynb#ch0000025?line=9'>10</a>\u001b[0m records \u001b[39m=\u001b[39m [(\u001b[39m1\u001b[39m,\u001b[39m'\u001b[39m\u001b[39mAli Koc\u001b[39m\u001b[39m'\u001b[39m, \u001b[39m'\u001b[39m\u001b[39mToronto\u001b[39m\u001b[39m'\u001b[39m),\n\u001b[0;32m     <a href='vscode-notebook-cell:/c%3A/Users/uksal/Desktop/PYTHON/Meine_Dokumente/Tag_22.ipynb#ch0000025?line=10'>11</a>\u001b[0m            (\u001b[39m2\u001b[39m, \u001b[39m'\u001b[39m\u001b[39mVeli Dede\u001b[39m\u001b[39m'\u001b[39m, \u001b[39m'\u001b[39m\u001b[39mİstanbul\u001b[39m\u001b[39m'\u001b[39m)]\n",
      "\u001b[1;31mOperationalError\u001b[0m: table musteri already exists"
     ]
    }
   ],
   "source": [
    "#sqlite bir VTYS(DBMS): sqlite3\n",
    "import sqlite3  #1. paketi import edelim\n",
    "conn = sqlite3.connect('personel.db') #2. vt ile bağlantı\n",
    "cur = conn.cursor()                   #3. imleç/kürsor nesnesi oluştur\n",
    "##4. varsa sorgular çalışıtırılır\n",
    "#tablo oluşttu\n",
    "cur.execute(\"\"\"CREATE TABLE musteri\n",
    "               (no INTEGER PRIMARY KEY, name TEXT, adres TEXT)\"\"\")\n",
    "#kayıtlar\n",
    "records = [(1,'Ali Koc', 'Toronto'),\n",
    "           (2, 'Veli Dede', 'İstanbul')]\n",
    "## müşteri tablosunda \n",
    "cur.executemany('INSERT INTO musteri VALUES (?,?,?)', records)\n",
    "\n",
    "##5. vt güncellenir\n",
    "conn.commit()\n",
    "##6. vt kapatılır\n",
    "conn.close()\n",
    "##\"C:\\Users\\uksal\\Desktop\\SQL\\personal.db-journal\""
   ]
  }
 ],
 "metadata": {
  "interpreter": {
   "hash": "53c74afc0db58d58878a88bdfa31a249a57ca55c151e0cf2df7d0bbab87159f0"
  },
  "kernelspec": {
   "display_name": "Python 3.10.4 64-bit (windows store)",
   "language": "python",
   "name": "python3"
  },
  "language_info": {
   "codemirror_mode": {
    "name": "ipython",
    "version": 3
   },
   "file_extension": ".py",
   "mimetype": "text/x-python",
   "name": "python",
   "nbconvert_exporter": "python",
   "pygments_lexer": "ipython3",
   "version": "3.10.2"
  },
  "orig_nbformat": 4
 },
 "nbformat": 4,
 "nbformat_minor": 2
}
