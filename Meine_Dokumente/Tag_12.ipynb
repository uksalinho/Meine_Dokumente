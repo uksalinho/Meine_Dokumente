{
 "cells": [
  {
   "cell_type": "code",
   "execution_count": 50,
   "metadata": {},
   "outputs": [
    {
     "name": "stdout",
     "output_type": "stream",
     "text": [
      "I love you\n",
      "I love you\n",
      "I love you\n"
     ]
    }
   ],
   "source": [
    "times = int(input(\"How many times should I say 'I love you'\"))\n",
    "\n",
    "for i in range(times):\n",
    "    print('I love you')"
   ]
  },
  {
   "cell_type": "markdown",
   "metadata": {},
   "source": [
    "Bastan tekrar sayisi belliyse en dogrusu for döngüsü kullanmak. Ne zaman döngü kullaniriz? Bir kod sayisi tekrarli bir is yapacaksa, bir liste üyelerinde ileri-geri hareket yapacaksak döngü kullanmak daha mantikli."
   ]
  },
  {
   "cell_type": "markdown",
   "metadata": {},
   "source": [
    "range fonksiyonu => range(start, stop, step)"
   ]
  },
  {
   "cell_type": "code",
   "execution_count": 12,
   "metadata": {},
   "outputs": [
    {
     "name": "stdout",
     "output_type": "stream",
     "text": [
      "range(1, 11)\n",
      "[1, 2, 3, 4, 5, 6, 7, 8, 9, 10]\n",
      "[1, 3, 5, 7, 9, 11, 13, 15, 17, 19, 21, 23]\n",
      "[0, 1, 2, 3, 4, 5, 6, 7, 8, 9, 10]\n",
      "{0, 1, 2, 3, 4, 5, 6, 7, 8, 9}\n",
      "(0, 1, 2, 3, 4, 5, 6, 7, 8, 9, 10)\n",
      "1 2 3 4 5 6 7 8 9 10 11 12 13 14 15 16 17 18 19 20 21 22 23 "
     ]
    }
   ],
   "source": [
    "# range örneği:1-10 arası\n",
    "liste = range(1,11)  # 11 dahil değil\n",
    "print(liste)  # liste, tuple vs formatina dönüstürmeden yazdir denirse bir anlami yok\n",
    "print(list(liste))  # liste formatinda üretir\n",
    "\n",
    "print(list(range(1,24,2)))  # 1 den 23'e kadar tek sayıları üret\n",
    "\n",
    "print(list(range(11)))  # liste formatinda üretir\n",
    "\n",
    "print(set(range(0,10)))  # küme formatinda üretir\n",
    "\n",
    "print(tuple(range(11)))  # tuple formatinda üretir\n",
    "\n",
    "for i in range(1,24):  # liste üzerinde tek tek dolanacaksak for döngüsüne almak lazim\n",
    "    print(i, end=\" \")  # yan yana yazdirmak icin end=\" \" ekledim\n"
   ]
  },
  {
   "cell_type": "code",
   "execution_count": 13,
   "metadata": {},
   "outputs": [
    {
     "name": "stdout",
     "output_type": "stream",
     "text": [
      "range(0, 5)\n",
      "0 1 2 3 4\n"
     ]
    }
   ],
   "source": [
    "print(range(5))  # bir formata atamak lazim\n",
    "print(*range(5))  # bosluk birakarak ifadeleri yazar"
   ]
  },
  {
   "cell_type": "code",
   "execution_count": 14,
   "metadata": {},
   "outputs": [
    {
     "ename": "SyntaxError",
     "evalue": "can't use starred expression here (1169753415.py, line 2)",
     "output_type": "error",
     "traceback": [
      "\u001b[1;36m  Input \u001b[1;32mIn [14]\u001b[1;36m\u001b[0m\n\u001b[1;33m    d = *range(5)\u001b[0m\n\u001b[1;37m        ^\u001b[0m\n\u001b[1;31mSyntaxError\u001b[0m\u001b[1;31m:\u001b[0m can't use starred expression here\n"
     ]
    }
   ],
   "source": [
    "# *range(5) ifadesi değişkene atanabilir mi?\n",
    "d = *range(5)\n",
    "print(d)"
   ]
  },
  {
   "cell_type": "code",
   "execution_count": 52,
   "metadata": {},
   "outputs": [
    {
     "name": "stdout",
     "output_type": "stream",
     "text": [
      "s e p e r a t e\n",
      "10 8 6 4 2\n"
     ]
    }
   ],
   "source": [
    "print(*('seperate'))  # stringler iterable(yinelenebilir)dır.\n",
    "\n",
    "print(*range(10,0,-2)) # 10 dan başlar 2 şer azaltır"
   ]
  },
  {
   "cell_type": "code",
   "execution_count": 18,
   "metadata": {},
   "outputs": [
    {
     "name": "stdout",
     "output_type": "stream",
     "text": [
      "<zip object at 0x0000024E8644E640>\n"
     ]
    }
   ],
   "source": [
    "text = [\"one\", \"two\", \"three\", \"four\", \"five\"]\n",
    "numbers = [1, 2, 3, 4, 5]\n",
    "print(zip(text,numbers))  # bir veri yapisina dönüstürmek gerekir, böyle anlamsiz oldu"
   ]
  },
  {
   "cell_type": "code",
   "execution_count": 19,
   "metadata": {},
   "outputs": [
    {
     "name": "stdout",
     "output_type": "stream",
     "text": [
      "[('one', 1), ('two', 2), ('three', 3), ('four', 4), ('five', 5)]\n"
     ]
    }
   ],
   "source": [
    "text = [\"one\", \"two\", \"three\", \"four\", \"five\"]\n",
    "numbers = [1, 2, 3, 4, 5]\n",
    "print(list(zip(text,numbers)))  # zip her bir iterable'i eslestirir"
   ]
  },
  {
   "cell_type": "code",
   "execution_count": 23,
   "metadata": {},
   "outputs": [
    {
     "name": "stdout",
     "output_type": "stream",
     "text": [
      "{'one': 1, 'two': 2, 'three': 3, 'four': 4, 'five': 5}\n"
     ]
    }
   ],
   "source": [
    "text = [\"one\", \"two\", \"three\", \"four\", \"five\"]\n",
    "numbers = [1, 2, 3, 4, 5]\n",
    "print(dict(zip(text,numbers)))  # dict formatinda"
   ]
  },
  {
   "cell_type": "code",
   "execution_count": 59,
   "metadata": {},
   "outputs": [
    {
     "name": "stdout",
     "output_type": "stream",
     "text": [
      "one : 1\n",
      "two : 2\n",
      "three : 3\n",
      "four : 4\n",
      "five : 5\n"
     ]
    }
   ],
   "source": [
    "text = [\"one\", \"two\", \"three\", \"four\", \"five\"]\n",
    "numbers = [1, 2, 3, 4, 5]\n",
    "for i,j in zip(text,numbers):\n",
    "    print(i, \":\", j)"
   ]
  },
  {
   "cell_type": "code",
   "execution_count": 28,
   "metadata": {},
   "outputs": [
    {
     "name": "stdout",
     "output_type": "stream",
     "text": [
      "1907\n",
      "Asal\n"
     ]
    }
   ],
   "source": [
    "# Asal mı?\n",
    "n = int(input(\"Sayı..:\"))\n",
    "print(n)\n",
    "flag = True  # Bayrak değişkeni amacı: girilen sayının asal old. kabul ediliyor\n",
    "for x in range(2,n):  # kareköke kadar giderek arattirmak cözümü hizlandirir\n",
    "    if n % x == 0:    # kendinden önceki sayilara tam bölünüyorsa False\n",
    "        flag = False  # Bayrak durumu degisti, Asal değil\n",
    "\n",
    "if flag == False or n == 1:\n",
    "    print(\"Asal Değil\")\n",
    "else:\n",
    "    print(\"Asal\")"
   ]
  },
  {
   "cell_type": "code",
   "execution_count": 32,
   "metadata": {},
   "outputs": [
    {
     "name": "stdout",
     "output_type": "stream",
     "text": [
      "1907 is a Prime Number\n"
     ]
    }
   ],
   "source": [
    "number = int(input(\"Please enter a number: \"))\n",
    "if number ==  1:\n",
    "  print(\"1 is not a Prime Number\")\n",
    "else:\n",
    "    check = \"a Prime Number\"\n",
    "    for i in range(2,number):\n",
    "      if number % i == 0:\n",
    "          check =\"not a Prime Number\"\n",
    "print(f\"{number} is\", check)"
   ]
  },
  {
   "cell_type": "code",
   "execution_count": 30,
   "metadata": {},
   "outputs": [
    {
     "name": "stdout",
     "output_type": "stream",
     "text": [
      "1907 is a prime number\n"
     ]
    }
   ],
   "source": [
    "number = int(input(\"Please enter a number:\"))\n",
    "result = \"a prime number\"\n",
    "if number == 1:\n",
    "    result = \"not a prime number\"\n",
    "else:\n",
    "    for i in range(2,number):\n",
    "        if number % i == 0:\n",
    "            result = \"not a prime number\"\n",
    "            break\n",
    "print(number, \"is\", result)"
   ]
  },
  {
   "cell_type": "code",
   "execution_count": 34,
   "metadata": {},
   "outputs": [
    {
     "name": "stdout",
     "output_type": "stream",
     "text": [
      "[0, 2, 4, 6, 8, 10]\n",
      "[1, 3, 5, 7, 9]\n"
     ]
    }
   ],
   "source": [
    "evens = []\n",
    "odds = []\n",
    "for i in range(11): # 0 dan 11 e kadar sayıları alıyor\n",
    "    if i % 2 == 0:      # çift sayı\n",
    "        evens.append(i)\n",
    "    else:               # cift sayi degilse\n",
    "        odds.append(i)\n",
    "\n",
    "print(evens)\n",
    "print(odds)"
   ]
  },
  {
   "cell_type": "code",
   "execution_count": 35,
   "metadata": {},
   "outputs": [
    {
     "name": "stdout",
     "output_type": "stream",
     "text": [
      "[0, 2, 4, 6, 8, 10]\n",
      "[1, 3, 5, 7, 9]\n",
      "Tek sayıların adedi..: 5\n",
      "Çift sayıların adedi..: 6\n"
     ]
    }
   ],
   "source": [
    "evens = []\n",
    "odds = []\n",
    "for i in range(11): # 0 dan 10 kadar sayıları alıyor\n",
    "    if i % 2 == 0: # çift sayı\n",
    "        evens.append(i)\n",
    "    else:\n",
    "        odds.append(i)\n",
    "\n",
    "print(evens)\n",
    "print(odds)\n",
    "print(\"Tek sayıların adedi..:\", len(odds))\n",
    "print(\"Çift sayıların adedi..:\", len(evens))"
   ]
  },
  {
   "cell_type": "code",
   "execution_count": 40,
   "metadata": {},
   "outputs": [
    {
     "name": "stdout",
     "output_type": "stream",
     "text": [
      "The number of even numbers : 5\n",
      "The number of odd numbers : 4\n"
     ]
    }
   ],
   "source": [
    "numbers = (11,36,33,66,89,21,32,16,10)\n",
    "odds = 0\n",
    "evens = 0\n",
    "for i in numbers:\n",
    "    if not i % 2:  # cift sayinin 2 ile bölümünden kalan 0 yani False. not olunca True olur. Sonucta cift sayilari sayar :)\n",
    "        evens += 1\n",
    "    else:\n",
    "        odds += 1\n",
    "print(\"The number of even numbers :\", evens)\n",
    "print(\"The number of odd numbers :\", odds)"
   ]
  },
  {
   "cell_type": "markdown",
   "metadata": {},
   "source": [
    "\"\"\"\n",
    "i%2     # Eşdeğeri i%2 == True mu \n",
    "i%2==0  # Eşdeğeri i%2 == False mı\n",
    "\"\"\"\n",
    "# if li sorgular da True yazmaya gerek yok\n",
    "# cift sayinin 2 ile bölümünden kalan 0 yani False. "
   ]
  },
  {
   "cell_type": "code",
   "execution_count": 41,
   "metadata": {},
   "outputs": [
    {
     "name": "stdout",
     "output_type": "stream",
     "text": [
      "1\n",
      "22\n",
      "333\n",
      "4444\n",
      "55555\n",
      "666666\n",
      "7777777\n",
      "88888888\n",
      "999999999\n"
     ]
    }
   ],
   "source": [
    "for i in range(1,10):\n",
    "    print(str(i)*i)  # string olarak basiyor. 4 de gelince 4 tane 4"
   ]
  },
  {
   "cell_type": "code",
   "execution_count": 43,
   "metadata": {},
   "outputs": [
    {
     "name": "stdout",
     "output_type": "stream",
     "text": [
      "1 \n",
      "2 2 \n",
      "3 3 3 \n",
      "4 4 4 4 \n",
      "5 5 5 5 5 \n",
      "6 6 6 6 6 6 \n",
      "7 7 7 7 7 7 7 \n",
      "8 8 8 8 8 8 8 8 \n",
      "9 9 9 9 9 9 9 9 9 \n"
     ]
    }
   ],
   "source": [
    "for i in range(1,10):  # satır değerleri: dıştaki döngü\n",
    "    for j in range(1,i+1):  # sütun değerleri içteki döngü\n",
    "        print(i, end=\" \")\n",
    "    print()"
   ]
  },
  {
   "cell_type": "code",
   "execution_count": 60,
   "metadata": {},
   "outputs": [
    {
     "name": "stdout",
     "output_type": "stream",
     "text": [
      "* \n",
      "* * \n",
      "* * * \n",
      "* * * * \n",
      "* * * * * \n",
      "* * * * * * \n",
      "* * * * * * * \n",
      "* * * * * * * * \n",
      "* * * * * * * * * \n"
     ]
    }
   ],
   "source": [
    "for i in range(1,10):  # satır değerleri: dıştaki döngü\n",
    "    for j in range(1,i+1):  # sütun değerleri içteki döngü\n",
    "        print(\"*\", end=\" \")  # i=1 ile baslayinca j range(1,2) yani 1. sütuna. range(1,3) olunca 1. ve 2. sütuna ...\n",
    "    print()"
   ]
  },
  {
   "cell_type": "code",
   "execution_count": 61,
   "metadata": {},
   "outputs": [
    {
     "name": "stdout",
     "output_type": "stream",
     "text": [
      "Toplam=  2775\n"
     ]
    }
   ],
   "source": [
    "# 1 den n'e kadarki (n dahil değil) sayıların toplamı\n",
    "n = 75\n",
    "toplam = 0\n",
    "for i in range(1,n):\n",
    "    toplam = toplam + i  # yığmalı toplama\n",
    "\n",
    "print(\"Toplam= \", toplam)"
   ]
  },
  {
   "cell_type": "code",
   "execution_count": 66,
   "metadata": {},
   "outputs": [
    {
     "name": "stdout",
     "output_type": "stream",
     "text": [
      "Toplam=  2775\n"
     ]
    }
   ],
   "source": [
    "# 1 den n'e kadarki (n dahil değil) sayıların toplamı\n",
    "n = 75\n",
    "toplam = 0\n",
    "i = 1\n",
    "while i < n:\n",
    "    toplam = toplam + i  # yığmalı toplama\n",
    "    i += 1\n",
    "print(\"Toplam= \", toplam)"
   ]
  },
  {
   "cell_type": "code",
   "execution_count": 62,
   "metadata": {},
   "outputs": [
    {
     "name": "stdout",
     "output_type": "stream",
     "text": [
      "Toplam=  2775.0\n"
     ]
    }
   ],
   "source": [
    "# 1 den n'e kadarki (n dahil değil) sayıların toplamı\n",
    "n = 75-1\n",
    "toplam = n*(n+1)/2\n",
    "\n",
    "print(\"Toplam= \", toplam)"
   ]
  },
  {
   "cell_type": "code",
   "execution_count": 82,
   "metadata": {},
   "outputs": [
    {
     "name": "stdout",
     "output_type": "stream",
     "text": [
      "Toplam =  2775\n"
     ]
    }
   ],
   "source": [
    "# pythonic yöntem ile 1 den n'e kadarki (n dahil değil) sayıların toplamı\n",
    "liste = list(range(1,75)) \n",
    "print(\"Toplam = \", sum(liste))"
   ]
  },
  {
   "cell_type": "code",
   "execution_count": 67,
   "metadata": {},
   "outputs": [
    {
     "name": "stdout",
     "output_type": "stream",
     "text": [
      "I am happy\n",
      "I am confident\n",
      "You are happy\n",
      "You are confident\n"
     ]
    }
   ],
   "source": [
    "who = [\"I am \", \"You are \"]\n",
    "mood = [\"happy\", \"confident\"]\n",
    "for i in who:          # icdeki ilk degeri aldi,\n",
    "    for ii in mood:    # sonra disdaki degerler bitene kadar devam eder.\n",
    "        print(i + ii)  # distaki de bitince yine ictekini alir ve  distan devam"
   ]
  },
  {
   "cell_type": "code",
   "execution_count": 68,
   "metadata": {},
   "outputs": [
    {
     "name": "stdout",
     "output_type": "stream",
     "text": [
      "Susan is happy\n",
      "Susan is sad\n",
      "Tom is happy\n",
      "Tom is sad\n",
      "Edward is happy\n",
      "Edward is sad\n"
     ]
    }
   ],
   "source": [
    "who = [\"Susan \", \"Tom \", \"Edward \"]\n",
    "mood = [\"happy\", \"sad\"]\n",
    "for i in who:\n",
    "    for ii in mood:\n",
    "        print(i+ 'is '+ ii)"
   ]
  },
  {
   "cell_type": "markdown",
   "metadata": {},
   "source": [
    "List Comprehensions / List Generators / Liste üreteçleri"
   ]
  },
  {
   "cell_type": "code",
   "execution_count": 74,
   "metadata": {},
   "outputs": [
    {
     "name": "stdout",
     "output_type": "stream",
     "text": [
      "[0, 1, 4, 9, 16, 25, 36, 49, 64, 81]\n",
      "[0, 1, 4, 9, 16, 25, 36, 49, 64, 81]\n"
     ]
    }
   ],
   "source": [
    "squares = []\n",
    "for i in range(10):\n",
    "    squares.append(i*i)\n",
    "print(squares)\n",
    "\n",
    "    ##>> short form <<##\n",
    "\n",
    "squares = [i*i for i in range(10)]\n",
    "print(squares)"
   ]
  },
  {
   "cell_type": "code",
   "execution_count": 75,
   "metadata": {},
   "outputs": [
    {
     "name": "stdout",
     "output_type": "stream",
     "text": [
      "[1, 3, 5, 7, 9]\n",
      "[1, 3, 5, 7, 9]\n"
     ]
    }
   ],
   "source": [
    "odds=[]\n",
    "for i in range(10):\n",
    "    if i % 2:\n",
    "        odds.append(i)\n",
    "print(odds)\n",
    "\n",
    "    ##>> short form <<##\n",
    "\n",
    "odds = [i for i in range(10) if i % 2]\n",
    "print(odds)"
   ]
  },
  {
   "cell_type": "code",
   "execution_count": 77,
   "metadata": {},
   "outputs": [
    {
     "name": "stdout",
     "output_type": "stream",
     "text": [
      "['Ala', 'Ahmed', 'Aisha']\n",
      "['Ala', 'Ahmed', 'Aisha']\n"
     ]
    }
   ],
   "source": [
    "names = [\"Ala\", \"Bulend\", \"Ahmed\", \"Aisha\", \"Tom\"]\n",
    "names_a = []\n",
    "for word in names:\n",
    "    if \"a\" in word.lower():\n",
    "        names_a.append(word)\n",
    "print(names_a)\n",
    "\n",
    "    ##>> short form <<##\n",
    "\n",
    "names_a = [word for word in names if \"a\" in word.lower()]\n",
    "print(names_a)"
   ]
  },
  {
   "cell_type": "code",
   "execution_count": 78,
   "metadata": {},
   "outputs": [
    {
     "name": "stdout",
     "output_type": "stream",
     "text": [
      "[0, 1, 2, 9, 4, 25, 6, 49, 8, 81]\n",
      "[0, 1, 2, 9, 4, 25, 6, 49, 8, 81]\n"
     ]
    }
   ],
   "source": [
    "evens_or_sqr = []\n",
    "for i in range(10):\n",
    "    if i % 2 == 0:\n",
    "        evens_or_sqr.append(i)\n",
    "    else:\n",
    "        evens_or_sqr.append(i**2)\n",
    "print(evens_or_sqr)\n",
    "\n",
    "    ##>> short form <<##\n",
    "\n",
    "evens_or_sqr = [i if i % 2 == 0 else i**2 for i in range(10)]\n",
    "print(evens_or_sqr)"
   ]
  },
  {
   "cell_type": "code",
   "execution_count": 79,
   "metadata": {},
   "outputs": [
    {
     "name": "stdout",
     "output_type": "stream",
     "text": [
      "[0, 1, 4, 9, 16, 25, 36, 49, 64, 81]\n",
      "2775\n",
      "{'f', 'M', 's', 't', 'r', 'k', 'p', ' ', 'l'}\n",
      "f M s t r k p   l\n"
     ]
    }
   ],
   "source": [
    "print([i**2 for i in range(10)])  # 0-9 arası sayıların karesi listelendi\n",
    "print(sum(i for i in range(75)))  # 1den 75e kadar olan sayilarin toplami\n",
    "cumle = \"Mistakes are for peoples\"\n",
    "print(set(i for i in cumle if not i in \"aeiou\"))\n",
    "print(*set(i for i in cumle if not i in \"aeiou\"))"
   ]
  },
  {
   "cell_type": "code",
   "execution_count": 83,
   "metadata": {},
   "outputs": [
    {
     "name": "stdout",
     "output_type": "stream",
     "text": [
      "[1, 2, 3]\n"
     ]
    }
   ],
   "source": [
    "## \":=\" walrus operatörü 3.8 ve üstü istiyor. \"=\" atama operatörü ile aynı işleve sahip\n",
    "## (a:=5) gibi parantez içi değer atamasında kullanılıyor\n",
    "b = 0\n",
    "d = []\n",
    "while(b := b + 1) < 4:\n",
    "    d.append(b)\n",
    "\n",
    "print(d)"
   ]
  },
  {
   "cell_type": "code",
   "execution_count": 84,
   "metadata": {},
   "outputs": [
    {
     "name": "stdout",
     "output_type": "stream",
     "text": [
      "1 .gün..:  Pazartesi\n",
      "2 .gün..:  Salı\n",
      "3 .gün..:  Çarşamba\n",
      "4 .gün..:  Perşembe\n",
      "5 .gün..:  Cuma\n",
      "6 .gün..:  Cumartesi\n",
      "7 .gün..:  Pazar\n"
     ]
    }
   ],
   "source": [
    "# enumerate() metodu kullanımı: Haftanın günlerini rakam-harf eşdeğeri ile alalım\n",
    "gun = [\"Pazartesi\", \"Salı\", \"Çarşamba\", \"Perşembe\", \"Cuma\", \"Cumartesi\", \"Pazar\"]\n",
    "for i, g in enumerate(gun, start=1):\n",
    "    print(i, \".gün..: \", g)"
   ]
  },
  {
   "cell_type": "code",
   "execution_count": 85,
   "metadata": {},
   "outputs": [
    {
     "name": "stdout",
     "output_type": "stream",
     "text": [
      "5.187377517639621\n"
     ]
    }
   ],
   "source": [
    "n = 100\n",
    "s = 0\n",
    "for i in range(1,n+1):\n",
    "    s = s+1/i  # 1/2 + 1/3 + 1/4 + ...\n",
    "print(s)"
   ]
  },
  {
   "cell_type": "code",
   "execution_count": 86,
   "metadata": {},
   "outputs": [
    {
     "name": "stdout",
     "output_type": "stream",
     "text": [
      "True\n"
     ]
    }
   ],
   "source": [
    "# Küme yöntemi ile 10 parmak programı:1\n",
    "sol_el = {'q','a','z','w','s','x','e','d','c','r','f','v','t','g','b'}\n",
    "sag_el = {'y','h','n','u','j','m','k','i','l','p','o','ü','ç','ö','ş','ğ'}\n",
    "test_kelimesi = input(\"Test edilecek kelime..: \").lower()\n",
    "set_t = set(test_kelimesi)\n",
    "el = sol_el.union(sag_el)\n",
    "if set_t.issubset(sol_el):\n",
    "    print(\"sol\")\n",
    "elif set_t.issubset(sag_el):\n",
    "    print(\"sag\")\n",
    "else:\n",
    "    print(\"True\")"
   ]
  },
  {
   "cell_type": "code",
   "execution_count": 87,
   "metadata": {},
   "outputs": [
    {
     "name": "stdout",
     "output_type": "stream",
     "text": [
      "False\n"
     ]
    }
   ],
   "source": [
    "# Küme yöntemi ile 10 parmak programı:2\n",
    "sol_el = {'q','a','z','w','s','x','e','d','c','r','f','v','t','g','b'}\n",
    "sag_el = {'y','h','n','u','j','m','k','i','l','p','o','ü','ç','ö','ş','ğ'}\n",
    "test_kelimesi = input(\"Test edilecek kelime..: \").lower()\n",
    "set_t = set(test_kelimesi)\n",
    "el = sol_el.union(sag_el)\n",
    "if set_t.issubset(sol_el) or set_t.issubset(sag_el):\n",
    "    print(\"False\")\n",
    "else:\n",
    "    print(\"True\")"
   ]
  }
 ],
 "metadata": {
  "interpreter": {
   "hash": "f463fb0420b168889ef2901ced46399e46ddb0d0cd01bfcedb393030078e9b34"
  },
  "kernelspec": {
   "display_name": "Python 3.10.2 64-bit",
   "language": "python",
   "name": "python3"
  },
  "language_info": {
   "codemirror_mode": {
    "name": "ipython",
    "version": 3
   },
   "file_extension": ".py",
   "mimetype": "text/x-python",
   "name": "python",
   "nbconvert_exporter": "python",
   "pygments_lexer": "ipython3",
   "version": "3.10.2"
  },
  "orig_nbformat": 4
 },
 "nbformat": 4,
 "nbformat_minor": 2
}
